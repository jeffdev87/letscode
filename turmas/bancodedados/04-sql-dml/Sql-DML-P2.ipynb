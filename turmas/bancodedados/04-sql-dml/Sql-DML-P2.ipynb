{
 "cells": [
  {
   "cell_type": "markdown",
   "id": "59ef5e84-9c5b-468c-8c56-323fb7e66cba",
   "metadata": {},
   "source": [
    "# Introdução ao SQL"
   ]
  },
  {
   "cell_type": "markdown",
   "id": "e89d240f",
   "metadata": {},
   "source": [
    "## Recapitulando\n",
    "\n",
    "Comandos apresentados na aula passada."
   ]
  },
  {
   "cell_type": "markdown",
   "id": "3dc67a04",
   "metadata": {},
   "source": [
    "## Objetivos\n",
    "\n",
    "Na aula de hoje, veremos comandos para ordenar resultados e para manipular datas e strings.\n",
    "\n",
    "Ao final desta aula o aluno deverá conhecer:\n",
    "\n",
    "- O comando ORDER BY;\n",
    "- Como utilizar a função CASE em uma consulta.\n",
    "- Como acessar e manipular datas e horários;\n",
    "- Como manipular strings;"
   ]
  },
  {
   "cell_type": "markdown",
   "id": "105f6420",
   "metadata": {},
   "source": [
    "## ORDER BY"
   ]
  },
  {
   "cell_type": "markdown",
   "id": "66cc6be1",
   "metadata": {},
   "source": [
    "**Ascending:** Selecione todos os dados da tabela customers e ordene a tabela em ordem crescente do nome dos contatos."
   ]
  },
  {
   "cell_type": "markdown",
   "id": "19fc2c48",
   "metadata": {},
   "source": [
    "    SELECT * from customers\n",
    "    ORDER BY contact_name;"
   ]
  },
  {
   "cell_type": "markdown",
   "id": "f2787f86",
   "metadata": {},
   "source": [
    "**Descending:** Escolha apenas as colunas company_name e city da tabela customers e ordene em pelo nome da cidade em ordem decrescente."
   ]
  },
  {
   "cell_type": "markdown",
   "id": "05105d88",
   "metadata": {},
   "source": [
    "    SELECT company_name, city \n",
    "    FROM customers\n",
    "    ORDER BY city DESC;"
   ]
  },
  {
   "cell_type": "markdown",
   "id": "5150f196",
   "metadata": {},
   "source": [
    "## CASE"
   ]
  },
  {
   "cell_type": "markdown",
   "id": "681f5b2c",
   "metadata": {},
   "source": [
    "### CASE WHEN ... THEN ... END\n",
    "Crie uma coluna `prioridade` que tenha o valor `Priority 1` quando o contact_title for `Owner`"
   ]
  },
  {
   "cell_type": "markdown",
   "id": "657bb9d6",
   "metadata": {},
   "source": [
    "    SELECT *, \n",
    "    CASE WHEN contact_title = 'Owner' THEN 'Priority 1'\n",
    "    END AS prioridade\n",
    "    FROM customers;"
   ]
  },
  {
   "cell_type": "markdown",
   "id": "eeb6367a",
   "metadata": {},
   "source": [
    "### CASE WHEN ... THEN ... WHEN ... THEN ...ELSE ... END\n",
    "Popule a coluna `prioridade` com valor `Priority 2` quando o contact_title for `Sales Manager`, `Priority 3` para `Marketing Manager` e `Priority 4` para outros cargos."
   ]
  },
  {
   "cell_type": "markdown",
   "id": "89e90ee6",
   "metadata": {},
   "source": [
    "    SELECT contact_title, \n",
    "    CASE \n",
    "    WHEN contact_title = 'Owner' THEN 'Priority 1' \n",
    "    WHEN contact_title = 'Sales Manager' then 'Priority 2'\n",
    "    WHEN contact_title = 'Marketing Manager' then 'Priority 3'\n",
    "    ELSE 'Priority 4'\n",
    "    END as prioridade\n",
    "    FROM customers;\n",
    "\n",
    "    SELECT contact_title, \n",
    "    CASE \n",
    "    WHEN contact_title LIKE '%Owner%' THEN 'Priority 1' \n",
    "    WHEN contact_title Like '%Manager%' then 'Priority 2'\n",
    "    WHEN contact_title like '%Sales%' then 'Priority 3'\n",
    "    ELSE 'Priority 4'\n",
    "    END as prioridade\n",
    "    FROM customers;"
   ]
  },
  {
   "cell_type": "markdown",
   "id": "07516eb6",
   "metadata": {},
   "source": [
    "## TIME FUNCTIONS"
   ]
  },
  {
   "cell_type": "markdown",
   "id": "7fd8237a",
   "metadata": {},
   "source": [
    "### CURRENT_DATE\n",
    "Que dia é hoje?"
   ]
  },
  {
   "cell_type": "markdown",
   "id": "316e9834",
   "metadata": {},
   "source": [
    "    SELECT CURRENT_DATE;"
   ]
  },
  {
   "cell_type": "markdown",
   "id": "e892c9e8",
   "metadata": {},
   "source": [
    "### CURRENT_TIME\n",
    "Que horas são?"
   ]
  },
  {
   "cell_type": "markdown",
   "id": "2d95a3ca",
   "metadata": {},
   "source": [
    "    SELECT CURRENT_TIME;"
   ]
  },
  {
   "cell_type": "markdown",
   "id": "4430ad82",
   "metadata": {},
   "source": [
    "### NOW\n",
    "Tudo junto!"
   ]
  },
  {
   "cell_type": "markdown",
   "id": "d8d698db",
   "metadata": {},
   "source": [
    "    SELECT NOW();"
   ]
  },
  {
   "cell_type": "markdown",
   "id": "9f05ba5b",
   "metadata": {},
   "source": [
    "### DATE_PART\n",
    "\n",
    "**Dia, mês e ano.**"
   ]
  },
  {
   "cell_type": "markdown",
   "id": "9c8db140",
   "metadata": {},
   "source": [
    "    SELECT DATE_PART('year', now())\n",
    "    \n",
    "    - 'month'\n",
    "    - 'day'\n",
    "    - 'hour'\n",
    "    - 'minute'\n",
    "    - 'second'"
   ]
  },
  {
   "cell_type": "markdown",
   "id": "abdccfb1",
   "metadata": {},
   "source": [
    "Selecione o dia de nascimento de todos os empregados."
   ]
  },
  {
   "cell_type": "markdown",
   "id": "a636e21b",
   "metadata": {},
   "source": [
    "    SELECT first_name, birth_date, date_part('day', birth_date) FROM employees;\n",
    "\n",
    "    SELECT first_name, birth_date, EXTRACT(day from birth_date) FROM employees;"
   ]
  },
  {
   "cell_type": "markdown",
   "id": "f24f6ca5-80e5-4538-a12e-9622c84cda56",
   "metadata": {},
   "source": [
    "Selecione todos os empregados que foram contratados em 1993.\n",
    "\n",
    "    SELECT * from employees\n",
    "    WHERE date_part('year', hire_date) = 1993"
   ]
  },
  {
   "cell_type": "markdown",
   "id": "0a046a1f",
   "metadata": {},
   "source": [
    "### DATE_TRUNC\n",
    "**Dia, mês e ano.**\n"
   ]
  },
  {
   "cell_type": "markdown",
   "id": "36b88337",
   "metadata": {},
   "source": [
    "    SELECT first_name, birth_date, DATE_TRUNC('day', birth_date) FROM employees;"
   ]
  },
  {
   "cell_type": "markdown",
   "id": "2be314b4",
   "metadata": {},
   "source": [
    "**Obs:** Sempre retorna um timestamp!"
   ]
  },
  {
   "cell_type": "markdown",
   "id": "16049bbb",
   "metadata": {},
   "source": [
    "### Operações com data/hora"
   ]
  },
  {
   "cell_type": "markdown",
   "id": "09bedffc",
   "metadata": {},
   "source": [
    "    SELECT current_date + 35"
   ]
  },
  {
   "cell_type": "markdown",
   "id": "adbe8ff7",
   "metadata": {},
   "source": [
    "#### AGE"
   ]
  },
  {
   "cell_type": "markdown",
   "id": "e21442cc",
   "metadata": {},
   "source": [
    "Calcule \n",
    "\n",
    "    SELECT birth_date, ((current_date - birth_date) / 365.25)::integer FROM employees;\n",
    "\n",
    "    SELECT birth_date, AGE(birth_date) FROM employees;\n",
    "    \n",
    "    Notação ::integer representa o cast desse valor para inteiro."
   ]
  },
  {
   "cell_type": "markdown",
   "id": "41172923",
   "metadata": {},
   "source": [
    "## Funções de string"
   ]
  },
  {
   "cell_type": "markdown",
   "id": "08be0f6e",
   "metadata": {},
   "source": [
    "### CONCAT ou ||\n",
    "Junta pedaços de texto num único output.\n",
    "\n",
    "Ex: Crie um campo com o primeiro e último nomes dos empregados."
   ]
  },
  {
   "cell_type": "markdown",
   "id": "478ba81e",
   "metadata": {},
   "source": [
    "    SELECT concat('Leopoldo', ' Vasconcelos');\n",
    "\n",
    "    SELECT 'Rubisneide' || ' Antonieta';\n",
    "\n",
    "    SELECT first_name || ' ' || last_name FROM employees;"
   ]
  },
  {
   "cell_type": "markdown",
   "id": "0e7fcbb2",
   "metadata": {},
   "source": [
    "### UPPER e LOWER\n",
    "Transforma todos a caixa de todos os caracteres.\n",
    "\n",
    "EX: Traga o nome dos funcionários em letras maiusculas."
   ]
  },
  {
   "cell_type": "markdown",
   "id": "682f98dd",
   "metadata": {
    "ExecuteTime": {
     "end_time": "2021-07-10T21:28:42.171016Z",
     "start_time": "2021-07-10T21:28:42.146714Z"
    }
   },
   "source": [
    "    SELECT 'GaBriel', LOWER('GaBriel'), UPPER('GaBriel');\n",
    "\n",
    "    SELECT first_name, LOWER(first_name), UPPER(first_name) from employees;"
   ]
  },
  {
   "cell_type": "markdown",
   "id": "c739461e",
   "metadata": {},
   "source": [
    "### TRIM \n",
    "Remove espaços em branco."
   ]
  },
  {
   "cell_type": "markdown",
   "id": "20fe9963",
   "metadata": {},
   "source": [
    "     SELECT \n",
    "     '           teste              ' original, \n",
    "     TRIM('           teste              ') trim_total,\n",
    "     RTRIM('           teste              ') as trim_direita,\n",
    "     LTRIM('           teste              ') trim_esquerda;\n",
    "     \n",
    "     -- trim não remove espaço entre palavras\n",
    "     Select trim('   abc   def   ')"
   ]
  },
  {
   "cell_type": "markdown",
   "id": "007e0dcb",
   "metadata": {},
   "source": [
    "### SUBSTRING\n",
    "Retorna um pedaço de texto num intervalo determinado.\n"
   ]
  },
  {
   "cell_type": "markdown",
   "id": "ea6eb249",
   "metadata": {},
   "source": [
    "    SELECT SUBSTRING('E ai turma 767!', 1, 4)\n",
    "    \n",
    "    --retorna 'E ai'\n",
    "    \n",
    "    SELECT SUBSTRING('E ai turma 767!', 5, 6);\n",
    "    \n",
    "    -- retorna turma"
   ]
  },
  {
   "cell_type": "markdown",
   "id": "8c1ac513",
   "metadata": {},
   "source": [
    "**RIGHT**: Seciona o número de caracteres, contando da direita.\n"
   ]
  },
  {
   "cell_type": "markdown",
   "id": "a4e6a6d2",
   "metadata": {},
   "source": [
    "    SELECT RIGHT('E ai turma 767!', 4);\n",
    "    -- retorna '767!"
   ]
  },
  {
   "cell_type": "markdown",
   "id": "99de54e0",
   "metadata": {},
   "source": [
    "**LEFT**: Seciona o número de caracteres, contando da esquerda.\n"
   ]
  },
  {
   "cell_type": "markdown",
   "id": "ddadea2b",
   "metadata": {},
   "source": [
    "    SELECT LEFT('E ai turma 767!', 4);\n",
    "    -- retorna 'E ai'"
   ]
  },
  {
   "cell_type": "markdown",
   "id": "da224f00",
   "metadata": {},
   "source": [
    "### POSITION\n",
    "Retorna a posição de um caracter ou sequência."
   ]
  },
  {
   "cell_type": "markdown",
   "id": "6691d896",
   "metadata": {},
   "source": [
    "    SELECT Position('G' in 'Guilherme');\n",
    "\n",
    "    SELECT Position('e' in 'Guilherme');\n",
    "\n",
    "    SELECT Position('lhe' in 'Guilherme');\n",
    "\n",
    "    SELECT position('abc' in 'abfdghr~ijfabcojkgrj');"
   ]
  },
  {
   "cell_type": "markdown",
   "id": "3a10d234",
   "metadata": {},
   "source": [
    "### Replace\n",
    "Troca uma sequência de caracteres por outra.\n",
    "\n",
    "Ex: Troque a palavra 'Sales' por 'Vendas' no cargo dos funcionários."
   ]
  },
  {
   "cell_type": "markdown",
   "id": "58b324a2",
   "metadata": {},
   "source": [
    "    SELECT replace('André Picolé', 'ré', 'e...');\n",
    "\n",
    "    SELECT replace('André Picolé', 'é', 'e...');\n",
    "\n",
    "    SELECT title, replace(title, 'Sales', 'Vendas') FROM employees; "
   ]
  },
  {
   "cell_type": "markdown",
   "id": "262d5ecd",
   "metadata": {},
   "source": [
    "# Exercícios"
   ]
  },
  {
   "cell_type": "markdown",
   "id": "667d4de1",
   "metadata": {},
   "source": [
    "Executar as consultas abaixo em SQL e enviar o arquivo sql para o e-mail do professor da seguinte forma:\n",
    "\n",
    "E-mail: williamtx1987@gmail.com\n",
    "\n",
    "Assunto: 767_firstname_lastname_aula04-p2\n",
    "\n",
    "Escrever um comentário antes de cada comando indicando a qual exercício ele se refere."
   ]
  },
  {
   "cell_type": "markdown",
   "id": "8685c8a9",
   "metadata": {},
   "source": [
    "### Q1\n",
    "\n",
    "Selecione os id's únicos de territórios da tabela employee_territories e ordene em ordem decrescente.\n",
    "\n",
    "### Q2\n",
    "\n",
    "Selecione da tabela empolyees (não esqueça de nomear as colunas criadas):\n",
    "1. O nome completo dos empregados em ordem alfabética;\n",
    "1. O nome completo dos empregados com o respectivo titulo em ordem decrescente;\n",
    "1. Os sobrenomes distintos dos empregrados;\n",
    "1. O ano de nascimento dos empregados usando funções de tempo;\n",
    "1. O ano de nascimento dos empregados usando funções de string;\n",
    "1. A idade atual dos empregados em ordem decrescente;\n",
    "1. A idade que os empregados tinham quando foram contratados em ordem crescente;\n",
    "1. Quem é e qual a idade do empregado mais velho?\n",
    "1. Qual a pessoa mais jovem que foi contratada?\n",
    "1. Crie uma coluna que mapeie os cargos dos empregados com a posição hierárquica na lista, sendo 1 o mais alto.\n",
    "1. O tempo de empresa dos respectivos empegados;\n",
    "\n",
    "### Q3\n",
    "\n",
    "Selecione da tabela products:\n",
    "1. Os três produtos mais caros com seus respectivos preços;\n",
    "1. Os 10 produtos com estoque mais baixo (diferentes de 0) com suas respectivas quantidades;\n",
    "1. Os 5 produtos com maior valor agregado (valor total) atualmente em estoque;\n",
    "1. Produtos com mais de 100 unidades no estoque ou valor unitário inferior 15;\n",
    "\n",
    "### Q4\n",
    "\n",
    "Selecione da tabels orders:\n",
    "1. O primeiro nome do destinatário da entrega (ship_name);\n",
    "1. O tempo (em dias) entre a compra e a entrega;\n",
    "1. Os cinco fretes mais caros ordenados pelo tempo de entrega do decrescente (sem dados nulos);\n",
    "1. Os cinco fretes com maior tempo de entrega ordenados pelo valor decrescente (sem dados nulos);\n",
    "1. Os 3 fretes mais baratos do Brasil.\n",
    "1. Uma tabela com as três primeiras letras do nome do pais, o tempo de entrega e o frete ordenados em ordem crescente."
   ]
  }
 ],
 "metadata": {
  "kernelspec": {
   "display_name": "Python 3",
   "language": "python",
   "name": "python3"
  },
  "language_info": {
   "codemirror_mode": {
    "name": "ipython",
    "version": 3
   },
   "file_extension": ".py",
   "mimetype": "text/x-python",
   "name": "python",
   "nbconvert_exporter": "python",
   "pygments_lexer": "ipython3",
   "version": "3.8.2"
  },
  "toc": {
   "base_numbering": 1,
   "nav_menu": {},
   "number_sections": true,
   "sideBar": true,
   "skip_h1_title": false,
   "title_cell": "Table of Contents",
   "title_sidebar": "Contents",
   "toc_cell": false,
   "toc_position": {},
   "toc_section_display": true,
   "toc_window_display": true
  }
 },
 "nbformat": 4,
 "nbformat_minor": 5
}
