{
 "cells": [
  {
   "cell_type": "markdown",
   "id": "72fe3585",
   "metadata": {},
   "source": [
    "# Introdução ao SQL"
   ]
  },
  {
   "cell_type": "markdown",
   "id": "01d9afb7-9895-401e-a12d-3e7314590842",
   "metadata": {},
   "source": [
    "## Recapitulando\n",
    "\n",
    "Comandos apresentados na aula passada."
   ]
  },
  {
   "cell_type": "markdown",
   "id": "01346e00-92d4-40a6-b586-0b62893a7658",
   "metadata": {},
   "source": [
    "## Objetivos\n",
    "\n",
    "Na aula de hoje iremos aplicar os conceitos da aula passada e explorar outros comandos da linguagem SQL.\n",
    "\n",
    "Mais especificamente, veremos comandos de agregação dos resultados de uma consulta.\n",
    "\n",
    "Ao final desta aula o aluno deverá conhecer:\n",
    "\n",
    "- O conceito de agregação;\n",
    "- Os comandos COUNT, MIN, MAX, AVG e ROUND;\n",
    "- Saber agregar informações com o GROUP BY;\n",
    "- Filtrar informações agregadas com o HAVING;"
   ]
  },
  {
   "cell_type": "markdown",
   "id": "04daf75c",
   "metadata": {},
   "source": [
    "## COUNT\n",
    "Quantas linhas temos na tabela order_details?"
   ]
  },
  {
   "cell_type": "markdown",
   "id": "0619643f",
   "metadata": {},
   "source": [
    "    SELECT COUNT(*) FROM order_details;\n",
    "\n",
    "    SELECT COUNT(discount) FROM order_details;"
   ]
  },
  {
   "cell_type": "markdown",
   "id": "105f6420",
   "metadata": {},
   "source": [
    "## MIN\n",
    "Qual o valor_unitário mais barato?"
   ]
  },
  {
   "cell_type": "markdown",
   "id": "19fc2c48",
   "metadata": {},
   "source": [
    "    SELECT MIN(unit_price) FROM order_details;"
   ]
  },
  {
   "cell_type": "markdown",
   "id": "5150f196",
   "metadata": {},
   "source": [
    "## MAX\n",
    "Qual o valor_unitário mais caro?"
   ]
  },
  {
   "cell_type": "markdown",
   "id": "657bb9d6",
   "metadata": {},
   "source": [
    "    SELECT MAX(unit_price) FROM order_details;"
   ]
  },
  {
   "cell_type": "markdown",
   "id": "58b13860",
   "metadata": {},
   "source": [
    "## AVG\n",
    "Qual a média dos valores unitários?"
   ]
  },
  {
   "cell_type": "markdown",
   "id": "d2c0393a",
   "metadata": {},
   "source": [
    "    SELECT AVG(unit_price) FROM order_details;"
   ]
  },
  {
   "cell_type": "markdown",
   "id": "07516eb6",
   "metadata": {},
   "source": [
    "## ROUND"
   ]
  },
  {
   "cell_type": "markdown",
   "id": "316e9834",
   "metadata": {},
   "source": [
    "Qual a média dos valores unitários com duas casas decimais?"
   ]
  },
  {
   "cell_type": "markdown",
   "id": "2d95a3ca",
   "metadata": {},
   "source": [
    "    SELECT ROUND(AVG(unit_price)::numeric, 2) FROM order_details;"
   ]
  },
  {
   "cell_type": "markdown",
   "id": "4430ad82",
   "metadata": {},
   "source": [
    "## SUM "
   ]
  },
  {
   "cell_type": "markdown",
   "id": "ee2b85d5",
   "metadata": {},
   "source": [
    "Qual a soma de todos os valores unitários?"
   ]
  },
  {
   "cell_type": "markdown",
   "id": "d8d698db",
   "metadata": {},
   "source": [
    "    SELECT SUM(unit_price) FROM order_details;"
   ]
  },
  {
   "cell_type": "markdown",
   "id": "051ea7e8",
   "metadata": {},
   "source": [
    "Qual o valor total de todas as ordens sem desconto?"
   ]
  },
  {
   "cell_type": "markdown",
   "id": "4086fd34",
   "metadata": {},
   "source": [
    "    SELECT ROUND(SUM(unit_price * quantity)::numeric, 2) FROM order_details;"
   ]
  },
  {
   "cell_type": "markdown",
   "id": "de3376e9",
   "metadata": {},
   "source": [
    "Qual o valor total de todas as ordens **com** desconto?"
   ]
  },
  {
   "cell_type": "markdown",
   "id": "2599556c",
   "metadata": {},
   "source": [
    "    SELECT  ROUND(SUM( (unit_price * quantity))::numeric, 2) AS preco_cheio,\n",
    "            ROUND(SUM( (unit_price * quantity)*(1-discount))::numeric, 2) AS preco_desconto \n",
    "    FROM order_details;"
   ]
  },
  {
   "cell_type": "markdown",
   "id": "16049bbb",
   "metadata": {},
   "source": [
    "## GROUP BY\n",
    "Permite agregar/agrupar/sumarizar os dados em uma consulta."
   ]
  },
  {
   "cell_type": "markdown",
   "id": "4d389755",
   "metadata": {},
   "source": [
    "Qual a soma dos valores unitários de cada ordem?"
   ]
  },
  {
   "cell_type": "markdown",
   "id": "6d9e9029",
   "metadata": {},
   "source": [
    "    SELECT order_id, SUM(unit_price) \n",
    "    FROM order_details\n",
    "    GROUP by order_id\n",
    "    ORDER By order_id;\n",
    "\n",
    "    -- validação da agregação acima para uma ordem específica.\n",
    "    -- compare a soma dessa ordem com a gerada pelo comando acima para todas as ordens.\n",
    "    SELECT SUM(unit_price) \n",
    "    FROM order_details\n",
    "    WHERE order_id = 10248;\n",
    "\n",
    "    SELECT order_id, SUM(unit_price) \n",
    "    FROM order_details\n",
    "    WHERE order_id = 10248\n",
    "    GROUP by order_id;"
   ]
  },
  {
   "cell_type": "markdown",
   "id": "1a09ed84",
   "metadata": {},
   "source": [
    "Quantas unidades de cada produto foram vendidas?"
   ]
  },
  {
   "cell_type": "markdown",
   "id": "09bedffc",
   "metadata": {},
   "source": [
    "    SELECT product_id, SUM(quantity)\n",
    "    FROM order_details\n",
    "    GROUP BY product_id;"
   ]
  },
  {
   "cell_type": "markdown",
   "id": "535f7555",
   "metadata": {},
   "source": [
    "Ordene a lista acima!"
   ]
  },
  {
   "cell_type": "markdown",
   "id": "3afd5f47",
   "metadata": {},
   "source": [
    "    SELECT product_id, SUM(quantity)\n",
    "    FROM order_details\n",
    "    GROUP BY product_id\n",
    "    ORDER BY product_id;\n",
    "\n",
    "    -- equivalente\n",
    "    SELECT product_id, SUM(quantity)\n",
    "    FROM order_details\n",
    "    GROUP BY product_id\n",
    "    ORDER BY 1; -- ordena pelo 1 atributo do select\n",
    "\n",
    "    -- ordene pela soma\n",
    "    SELECT product_id, SUM(quantity)\n",
    "    FROM order_details\n",
    "    GROUP BY product_id\n",
    "    ORDER BY SUM(quantity);\n",
    "\n",
    "    SELECT product_id, SUM(quantity)\n",
    "    FROM order_details\n",
    "    GROUP BY product_id\n",
    "    ORDER BY 2;\n",
    "\n",
    "    SELECT product_id, SUM(quantity) as soma\n",
    "    FROM order_details\n",
    "    GROUP BY product_id\n",
    "    ORDER BY soma;\n"
   ]
  },
  {
   "cell_type": "markdown",
   "id": "adbe8ff7",
   "metadata": {},
   "source": [
    "## HAVING\n",
    "Funcionamento similiar ao `WHERE`, mas aplicado às agreações ao invés dos registros individuais."
   ]
  },
  {
   "cell_type": "markdown",
   "id": "a5b27876",
   "metadata": {},
   "source": [
    "Selecione todas os id's de ordens que tenham valor total acima de 10_000."
   ]
  },
  {
   "cell_type": "markdown",
   "id": "e21442cc",
   "metadata": {},
   "source": [
    "    SELECT order_id, SUM(unit_price * quantity) as valor_total\n",
    "    FROM order_details\n",
    "    GROUP BY order_id\n",
    "    HAVING SUM(unit_price * quantity) > 10000;"
   ]
  },
  {
   "cell_type": "markdown",
   "id": "262d5ecd",
   "metadata": {},
   "source": [
    "# Exercícios"
   ]
  },
  {
   "cell_type": "markdown",
   "id": "667d4de1",
   "metadata": {},
   "source": [
    "Executar as consultas abaixo em SQL e enviar o arquivo sql para o e-mail do professor da seguinte forma:\n",
    "\n",
    "E-mail: williamtx1987@gmail.com\n",
    "\n",
    "Assunto: 767_firstname_lastname_aula04-p3\n",
    "\n",
    "Escrever um comentário antes de cada comando indicando a qual exercício ele se refere."
   ]
  },
  {
   "cell_type": "markdown",
   "id": "8685c8a9",
   "metadata": {},
   "source": [
    "### Q1\n",
    "\n",
    "Da tabela territories:\n",
    "1. Quantos territórios temos ao todo?\n",
    "1. Quantos territórios por região?\n",
    "\n",
    "### Q2\n",
    "\n",
    "Selecione da tabela empolyees:\n",
    "1. Quantos empregados reportam para cada chefe?\n",
    "1. Quantos empregados em cada cidade?\n",
    "\n",
    "### Q3\n",
    "\n",
    "Selecione da tabela order_details:\n",
    "1. Quantas unidades forem vendidas por ordem?\n",
    "1. Qual o valor total de cada ordem?\n",
    "1. Qual o produto mais vendido?\n",
    "1. Selecione ordens que tenham menos de três produtos.\n",
    "\n",
    "### Q4\n",
    "\n",
    "Selecione da tabels orders:\n",
    "\n",
    "1. Qual cliente realizou mais ordens?\n",
    "1. Qual cliente realizou menos ordens?\n",
    "1. Quantas ordems foram feitas por mês?\n",
    "1. Qual o tempo de envio por cliente?\n",
    "1. Faça uma lista ordenada dos países que receberam mais ordens.\n",
    "1. Qual o tempo máximo de envio por cidade?\n",
    "1. Quanto cada cliente gastou em frete?\n",
    "1. Qual o custo total de cada tipo de frete?\n",
    "1. Quanto cada cliente gastou em casa tipo de frete?\n",
    "\n",
    "### Q5\n",
    "\n",
    "Selecione da tabela suppliers:\n",
    "1. Uma lista com os países que mais tem fornecedores.\n",
    "\n",
    "### Q6\n",
    "\n",
    "Selecione da tabela products:\n",
    "1. Uma lista com o número de produtos por fornecedore.\n",
    "1. Oderne a lista acima em ordem decrescente.\n",
    "1. Uma lista com o número de produtos por fornecedors por categoria.\n",
    "1. Quantos produtos foram descontinuados.\n",
    "1. Fornecedores com estoque baixo (soma de unidades < 20).\n",
    "1. A média do valor total de cada categória.\n",
    "1. O valor do produto mais barato, mais caro e a média dos valores unitários por fornecedor e categoria.    "
   ]
  }
 ],
 "metadata": {
  "kernelspec": {
   "display_name": "Python 3",
   "language": "python",
   "name": "python3"
  },
  "language_info": {
   "codemirror_mode": {
    "name": "ipython",
    "version": 3
   },
   "file_extension": ".py",
   "mimetype": "text/x-python",
   "name": "python",
   "nbconvert_exporter": "python",
   "pygments_lexer": "ipython3",
   "version": "3.8.2"
  },
  "toc": {
   "base_numbering": 1,
   "nav_menu": {},
   "number_sections": true,
   "sideBar": true,
   "skip_h1_title": false,
   "title_cell": "Table of Contents",
   "title_sidebar": "Contents",
   "toc_cell": false,
   "toc_position": {},
   "toc_section_display": true,
   "toc_window_display": true
  }
 },
 "nbformat": 4,
 "nbformat_minor": 5
}
