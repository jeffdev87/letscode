{
 "cells": [
  {
   "cell_type": "markdown",
   "id": "7a6e3c98-a765-4961-a1f8-5b0bb1791149",
   "metadata": {},
   "source": [
    "# Introdução ao SQL"
   ]
  },
  {
   "cell_type": "markdown",
   "id": "6fb5d9fb-7b27-411e-b1c3-51634e12af3c",
   "metadata": {
    "tags": []
   },
   "source": [
    "## Motivação\n",
    "\n",
    "Linguagem SQL (Structured Query Language) é a "
   ]
  },
  {
   "cell_type": "markdown",
   "id": "08c56ba0-0a32-4921-a64c-5ce13ab17709",
   "metadata": {},
   "source": [
    "## Objetivos\n",
    "\n",
    "Ao final desta aula o aluno deverá conhecer:\n",
    "\n",
    "<ul>\n",
    "    <li> Principais conceitos de BD; </li>\n",
    "    <li> A utilidade e o escopo da modelagem conceitual; </li>\n",
    "    <li> As características do MER; </li>\n",
    "    <li> Os principais elementos de um MER; </li>\n",
    "    <li> Como transformar requisitos em um modelo de dados. </li>\n",
    "</ul>"
   ]
  },
  {
   "cell_type": "markdown",
   "id": "f024aa19-71e4-4431-b19f-e14030a23b1e",
   "metadata": {},
   "source": [
    "## Conceitos\n",
    "\n",
    "<b>1. Dados</b>: Fatos conhecidos que podem ser armazenados e que possuem um significado implícito.\n",
    "\n",
    "<i>Exemplo: Nomes, telefones, endereços, etc.</i>\n",
    "\n",
    "<b>2. Banco de dados (BD)</b>: Coleção de dados relacionados entre si que atendem a um propósito específico.\n",
    "\n",
    "<i>Exemplo: Agenda de contatos, planilha de Excel, arquivo em formato csv, etc.</i>\n",
    "\n",
    "<b>3. Sistema Gerenciador de Banco de Dados (SGBD)</b>: Sistema computadorizado de propósito geral que permite a criação e manutenção de um BD.\n",
    "\n",
    "Oferece basicamente os seguintes recursos:\n",
    "\n",
    "<ul>\n",
    "    <li>Suporte à definição dos tipos de dados, estruturas e restrições.</li>\n",
    "    <li>Permite transações de leitura, escrita, atualização e remoção dos dados (CRUD).</li>\n",
    "    <li>Oferece uma interface para consultas.</li>\n",
    "    <li>Permite acesso à múltiplos usuários e programas.</li>\n",
    "    <li>Garante eficiência, segurança e agilidade.</li>\n",
    "</ul>\n",
    "\n",
    "<center>\n",
    "    <img src=\"./Fig-SGBD.png\" alt=\"Esquema simplificado de um SGBD\" width=\"40%\" height=\"40%\"/>\n",
    "</center>\n",
    "\n",
    "<i>Exemplo: PostgreSQL, Oracle, MySQL, MongoDB, KustoDB, etc.</i>\n",
    "\n",
    "<b>4. Metadado</b>: Descreve a estrutura interna de um BD em um SGBD.\n",
    "\n",
    "<i>Exemplo: Esquema do BD, tipo de dados armazenados, information_schema, etc.</i>\n",
    "\n",
    "<b>5. Indexação</b>: Estratégias e estruturas para otimizar o acesso aos dados armazenados.\n",
    "\n",
    "<i>Exemplo: Índice de um livro, Bitmap index, BTree, <a href=\"https://www.postgresql.org/docs/9.1/indexes-types.html\"> Índices em PostgreSQL </a>, etc. </i>\n",
    "\n",
    "#### Índice Bitmap de Junção\n",
    "\n",
    "Bom desempenho em consultas (operações lógicas), funciona melhor em atributos categóricos de baixa cardinalidade (e.g Cargo, Gênero, etc).\n",
    "\n",
    "Custo alto de atualização. Melhor opção para BDs com pouca atualizacao (Data Warehouse).\n",
    "\n",
    "Otimizado com estratégias de compressão e codificação.\n",
    "\n",
    "<center>\n",
    "    <img src=\"./Fig-Bitmap.png\" alt=\"Esquema simplificado de um SGBD\" width=\"40%\" height=\"40%\"/>\n",
    "</center>\n",
    "\n",
    "#### BTree\n",
    "\n",
    "Ótimo desempenho para atributos com relação de ordem (números).\n",
    "\n",
    "Complexidade da busca reduzida de O(n) para O(logn) -> altura da árvore.\n",
    "\n",
    "<div>\n",
    "    <img src=\"./Fig-BST.png\" alt=\"Esquema simplificado de um SGBD\" width=\"60%\" height=\"60%\" style=\"float:left\"/>\n",
    "    <img src=\"./Fig-B+T.png\" alt=\"Esquema simplificado de um SGBD\" width=\"70%\" height=\"70%\" style=\"float:left\"/>\n",
    "</div>"
   ]
  },
  {
   "cell_type": "markdown",
   "id": "bb722673-c2c6-4694-b7d5-fcc053bb8ab2",
   "metadata": {},
   "source": [
    "## Classificação dos SGBDs\n",
    "\n",
    "SGBDs podem ser classificados de acordo com o modelo de dados em que se baseiam, como por exemplo:\n",
    "    \n",
    "<b>1. Modelo Relacional (SQL)</b><br/>\n",
    "2. Modelos baseados em chave-valor, documentos, grafos, XML (Big Data, NoSQL)<br/>\n",
    "3. Modelo orientado a objetos, etc <br/>\n",
    "\n",
    "<center>\n",
    "    <img src=\"./Fig-REL_Squema.png\" alt=\"Modelo Relacional\" width=\"40%\" height=\"40%\"/>\n",
    "    <img src=\"./Fig-Doc_Squema.png\" alt=\"Modelo documento\" width=\"30%\" height=\"30%\"/>\n",
    "</center>\n",
    "\n",
    "SGBDs relacionais são os mais difundidos atualmente, possuem forte fundamentação matemática (álgebra relacional) e um padrão e linguagem bem estabelicidos, como SQL.\n",
    "\n",
    "<i> Exemplos de SGBDs relacionais comerciais: PostgreSQL, Oracle, MySQL, etc.</i>"
   ]
  },
  {
   "cell_type": "markdown",
   "id": "b2dcefff-bad5-427b-a443-0049a945f8a6",
   "metadata": {},
   "source": [
    "## Modelagem de Dados\n",
    "\n",
    "Um modelo de dados é uma coleção de conceitos para descrever a estrutura do banco de dados (tipos, relações, restrições) em determinada fase do projeto.\n",
    "\n",
    "Um modelo conceitual (alto-nível) está mais próximo da percepção do usuário, enquanto um modelo físico (baixo-nível) apresenta mais detalhes técnicos.\n",
    "\n",
    "Entre o modelo conceitual e o físico, está o design lógico (mapeamento).\n",
    "\n",
    "<center><img src=\"./Fig-DesignPhases.png\" alt=\"Fases do design de um BD\" width=\"50%\" height=\"50%\"/></center>"
   ]
  },
  {
   "cell_type": "markdown",
   "id": "2f8d078f-c34a-4a10-897d-b64f367c512a",
   "metadata": {},
   "source": [
    "## Modelo Entidade-Relacionamento (MER)\n",
    "\n",
    "Nessa abordagem, um banco de dados pode ser descrito por meio de entidades (objeto do mundo real), atributos (propriedades), relacionamentos e especificações extras (e.g. cardinalidade).\n",
    "\n",
    "Graficamente, esses componentes são representadas por meio de um diagrama entidade-relacionamento (ER)."
   ]
  },
  {
   "cell_type": "markdown",
   "id": "f69281bc-0d2a-4fa1-8192-438769b7f622",
   "metadata": {},
   "source": [
    "### Elementos do modelo ER\n",
    "\n",
    "Os principais elementos de um diagrama ER são:\n",
    "\n",
    "<center><img src=\"./Fig-Simb-ER.jpg\" alt=\"Principais elementos de um ER\" width=\"30%\" height=\"30%\"></center>\n",
    "\n",
    "#### Entidade: \n",
    "\n",
    "Um conceito (abstrato ou físico) do mundo real que existe de maneira independente.</br>\n",
    "\n",
    "Ex: um carro, um empregado, um aluno, etc.</br>\n",
    "\n",
    "Existem dois tipos de entidades: </br>\n",
    "\n",
    "<ul>\n",
    "    <li> <b>Entidate forte:</b> Possui uma chave e existe independentemente de outras entidades.</li>\n",
    "    <li> <b>Entidade fraca:</b> Possui chave parcial (ou nenhuma chave) e depende do relacionamento com outra entidade (owner), portanto apresenta restrição de <b>participação total</b> </li>\n",
    "</ul>\n",
    "\n",
    "<center><img src=\"./Fig-Entity.png\" alt=\"Exemplo de um MER\" width=\"50%\" height=\"50%\"/></center>\n",
    "\n",
    "#### Atributo:\n",
    "\n",
    "Representa as propriedades de uma entidade e possui os seguintes tipos: \n",
    "<ul>\n",
    "    <li> <b>Chave:</b> Identifica uma entidade univocamente dentro do conjunto entidade. Deve valer para todas as entidades do conjunto. </li>\n",
    "    <li> <b>Simples</b> (e.g. nome, RG) ou <b>Composto</b> (endereço -> rua, cidade, estado) </li>\n",
    "    <li> <b>Mono-valorado</b> (armazana apenas um valor) ou <b>Multi-valorado</b> (armazena vários valores)</li>\n",
    "    <li> <b>Armazenado</b> (valor salvo no banco) e <b>Derivado</b> (valor inferido). Ex: ano de nascimento (armazenado), idade (derivado)</li>\n",
    "</ul>\n",
    "\n",
    "#### Relacionamento:\n",
    "\n",
    "Representa a associação entre duas ou mais entidades.\n",
    "\n",
    "Relacionamentos são descritos por meio de sua cardinalidade (número de entidades participantes em um relacionamento).\n",
    "\n",
    "Os mais comuns são os relacionamentos binários e ternários.\n",
    "\n",
    "<center><img src=\"./Fig-Rel.png\" alt=\"Exemplo de um MER\" width=\"40%\" height=\"40%\"/></center>\n",
    "\n",
    "<center><img src=\"./Fig-Rel-3.png\" alt=\"Exemplo de um MER\" width=\"40%\" height=\"40%\"/></center>\n",
    "\n",
    "#### Exemplo de um MER:\n",
    "\n",
    "Modelo conceitual de uma empresa que representa os seguintes requisitos:\n",
    "\n",
    "1. O sistema deve cadastrar os funcionários e seus dependentes, bem como o departamento em que os funcionários trabalham.\n",
    "2. O sistema deve considerar que certos funcionários supervisionam outros, sendo que um funcionário possui apenas um supervisor.\n",
    "3. O sistema deve cadastrar os projetos em que os funcionários trabalham. \n",
    "4. Nenhum funcionário pode ficar sem projeto e nenhum projeto existe sem estar associado a pelo menos um funcionário.\n",
    "5. O sistema deve cadastrar os departamentos da empresa e exibir os projetos controlados por eles.\n",
    "6. O sistema deve armazenar os gerentes responsáveis por cada departamento.\n",
    "\n",
    "<center><img src=\"./Fig-MER.png\" alt=\"Exemplo de um MER\" width=\"60%\" height=\"60%\"/></center>"
   ]
  },
  {
   "cell_type": "markdown",
   "id": "26cdf452-f312-4aba-a07c-b5f4b4aaebdd",
   "metadata": {},
   "source": [
    "## Ferramenta para criar diagramas:\n",
    "\n",
    "<a href=\"https://app.diagrams.net/\">Draw.io</a>\n"
   ]
  },
  {
   "cell_type": "markdown",
   "id": "5350051b-9dd8-4d30-9ec0-be48207ef94e",
   "metadata": {},
   "source": [
    "## Exercícios\n",
    "\n",
    "### Requisitos do cliente\n",
    "\n",
    "Uma escola de idiomas deseja automatizar seus processos.\n",
    "\n",
    "Essa escola oferece cursos, sendo que cada curso pode ser ministrado por apenas um professor.\n",
    "\n",
    "Os alunos podem se inscrever nos cursos e participar de mais de um curso ao mesmo tempo.\n",
    "\n",
    "A escola possui informações dos alunos, como RG, Nome, Endereço, Data de Nascimento, Idade, Gênero e Data da matrícula dos alunos.\n",
    "\n",
    "Os seguintes dados dos professores também devem ser armazenados: RG, Nome, Endereço, Data de Nascimento, Idade, Gênero, Disponibilidade, Habilidades e Data de admissão.\n",
    "\n",
    "Além disso, o sistema deve gerenciar o nome e a descrição do curso.\n",
    "\n",
    "### Q1\n",
    "Quais são as entidades, atributos e os relacionamentos que podemos inferir desse problema?\n",
    "\n",
    "### Q2\n",
    "Criar um diagrama ER que represente a modelagem conceitual deste problema.\n"
   ]
  },
  {
   "cell_type": "code",
   "execution_count": null,
   "id": "2e57634a-dd45-4eb3-bbc6-366ef4740ec7",
   "metadata": {},
   "outputs": [],
   "source": []
  },
  {
   "cell_type": "markdown",
   "id": "433dce55-ec99-4e2f-8794-e2c6d50728c3",
   "metadata": {},
   "source": [
    "## Referências\n",
    "\n",
    "ELMASRI, R.; NAVATHE, S.B. Fundamentals of Database Systems, 7th Edition"
   ]
  }
 ],
 "metadata": {
  "kernelspec": {
   "display_name": "Python 3",
   "language": "python",
   "name": "python3"
  },
  "language_info": {
   "codemirror_mode": {
    "name": "ipython",
    "version": 3
   },
   "file_extension": ".py",
   "mimetype": "text/x-python",
   "name": "python",
   "nbconvert_exporter": "python",
   "pygments_lexer": "ipython3",
   "version": "3.8.2"
  }
 },
 "nbformat": 4,
 "nbformat_minor": 5
}
