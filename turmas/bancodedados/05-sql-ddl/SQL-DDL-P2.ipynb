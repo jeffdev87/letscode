{
 "cells": [
  {
   "cell_type": "markdown",
   "id": "e191498b",
   "metadata": {},
   "source": [
    "# Introdução ao SQL"
   ]
  },
  {
   "cell_type": "markdown",
   "id": "b47025a8",
   "metadata": {},
   "source": [
    "## Recapitulando\n",
    "\n",
    "Comandos apresentados na aula passada."
   ]
  },
  {
   "cell_type": "markdown",
   "id": "08b41322",
   "metadata": {},
   "source": [
    "## Objetivos"
   ]
  },
  {
   "cell_type": "markdown",
   "id": "65b8af27",
   "metadata": {},
   "source": [
    "Ao final desta aula o aluno deverá conhecer:\n",
    "\n",
    "1. A utilidade das VIEWS.\n",
    "1. Salvar/atualizar/usar/deletar o resultado de queries no banco de dados."
   ]
  },
  {
   "cell_type": "markdown",
   "id": "c81bd31c-0fd7-4c5c-ab48-cdd4e7277fc8",
   "metadata": {},
   "source": [
    "# Views"
   ]
  },
  {
   "cell_type": "markdown",
   "id": "4bdc062f",
   "metadata": {},
   "source": [
    "E se precisarmos usar o resultado de uma query diversas vezes?  \n",
    "Podemos criar uma `VIEW` e acessar esse resultado como se fosse uma tabela!"
   ]
  },
  {
   "cell_type": "markdown",
   "id": "7f0222e3",
   "metadata": {},
   "source": [
    "## CREATE VIEW ... AS"
   ]
  },
  {
   "cell_type": "markdown",
   "id": "36519fc3",
   "metadata": {},
   "source": [
    "Criar a view:\n",
    "\n",
    "    CREATE VIEW quantidade_de_cursos_por_aluno as (\n",
    "        SELECT id_aluno, count(*)\n",
    "        from turma_aluno\n",
    "        group by id_aluno\n",
    "        having count(*) > 1\n",
    "    );"
   ]
  },
  {
   "attachments": {
    "image.png": {
     "image/png": "[encoded data removed]"
    }
   },
   "cell_type": "markdown",
   "id": "820bbfd2",
   "metadata": {},
   "source": [
    "Resultado:\n",
    "\n",
    "![image.png](attachment:image.png)"
   ]
  },
  {
   "cell_type": "markdown",
   "id": "e353cbe0",
   "metadata": {},
   "source": [
    "Consultar a view:\n",
    "\n",
    "    SELECT COUNT(*) FROM quantidade_de_cursos_por_aluno;"
   ]
  },
  {
   "cell_type": "markdown",
   "id": "c79b325f",
   "metadata": {},
   "source": [
    "## DROP VIEW ..."
   ]
  },
  {
   "cell_type": "markdown",
   "id": "75608704",
   "metadata": {},
   "source": [
    "Quando a análise ficou obsleta e não precisamos mais desses dados."
   ]
  },
  {
   "cell_type": "markdown",
   "id": "9f7c2e2a",
   "metadata": {},
   "source": [
    "Query:\n",
    "\n",
    "    DROP VIEW quantidade_de_cursos_por_aluno;"
   ]
  },
  {
   "cell_type": "markdown",
   "id": "f45a0b72",
   "metadata": {},
   "source": [
    "## REPLACE VIEW"
   ]
  },
  {
   "cell_type": "markdown",
   "id": "a5910e28",
   "metadata": {},
   "source": [
    "Vamos atualizar os dados!"
   ]
  },
  {
   "cell_type": "markdown",
   "id": "ea449f21",
   "metadata": {},
   "source": [
    "Query:\n",
    "\n",
    "    CREATE OR REPLACE VIEW count_all_view as (\n",
    "        SELECT id_aluno, count(*) cursos\n",
    "        from turma_aluno\n",
    "        group by id_aluno\n",
    "        having count(*) > 2\n",
    "    );"
   ]
  },
  {
   "cell_type": "markdown",
   "id": "ed572b46",
   "metadata": {},
   "source": [
    "# Exercícios "
   ]
  },
  {
   "cell_type": "markdown",
   "id": "dc73fbc5",
   "metadata": {},
   "source": [
    "Executar as consultas abaixo em SQL e enviar o arquivo sql para o e-mail do professor da seguinte forma:\n",
    "\n",
    "E-mail: williamtx1987@gmail.com\n",
    "\n",
    "Assunto: 767_firstname_lastname_aula05-p2\n",
    "\n",
    "Escrever um comentário antes de cada comando indicando a qual exercício ele se refere."
   ]
  },
  {
   "cell_type": "markdown",
   "id": "0545668e",
   "metadata": {},
   "source": [
    "### Q1\n",
    "\n",
    "No banco de dados do `northwind`, obtenha:\n",
    "\n",
    "Criar uma view com: `categoria|numero_de_pedidos|valor_total|media_de_valores`  \n",
    "   \n",
    "Dica: Categorizar as ordens de acordo com o preço total (incluindo frete) em:\n",
    "\n",
    "- Gold: valor_total >= 5.000\n",
    "- Silver: 1.000 <= valor_total < 5.000\n",
    "- Bronze: valor_total < 1000"
   ]
  }
 ],
 "metadata": {
  "kernelspec": {
   "display_name": "Python 3",
   "language": "python",
   "name": "python3"
  },
  "language_info": {
   "codemirror_mode": {
    "name": "ipython",
    "version": 3
   },
   "file_extension": ".py",
   "mimetype": "text/x-python",
   "name": "python",
   "nbconvert_exporter": "python",
   "pygments_lexer": "ipython3",
   "version": "3.8.2"
  },
  "toc": {
   "base_numbering": 1,
   "nav_menu": {},
   "number_sections": true,
   "sideBar": true,
   "skip_h1_title": false,
   "title_cell": "Table of Contents",
   "title_sidebar": "Contents",
   "toc_cell": false,
   "toc_position": {},
   "toc_section_display": true,
   "toc_window_display": true
  }
 },
 "nbformat": 4,
 "nbformat_minor": 5
}
