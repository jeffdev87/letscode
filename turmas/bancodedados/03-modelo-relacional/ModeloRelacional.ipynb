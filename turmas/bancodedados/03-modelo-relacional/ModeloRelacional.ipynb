{
 "cells": [
  {
   "cell_type": "markdown",
   "id": "7a6e3c98-a765-4961-a1f8-5b0bb1791149",
   "metadata": {},
   "source": [
    "# Modelo Relacional"
   ]
  },
  {
   "cell_type": "markdown",
   "id": "6fb5d9fb-7b27-411e-b1c3-51634e12af3c",
   "metadata": {
    "tags": []
   },
   "source": [
    "## Recapitulando\n",
    "\n",
    "### Q1\n",
    "\n",
    "O que é e qual a utilidade da modelagem conceitual?\n",
    "\n",
    "### Q2\n",
    "\n",
    "Como representamos os dados do mundo real em um modelo de dados? Que escolhas temos que fazer?\n",
    "\n",
    "O tipo de banco a ser usado determina o modelo de dados adotado.\n",
    "\n",
    "### Q3\n",
    "\n",
    "A modelagem conceitual depende de qual tecnologia?\n",
    "\n",
    "### Q4\n",
    "\n",
    "O que é o modelo entidade-relacionamento?"
   ]
  },
  {
   "cell_type": "markdown",
   "id": "ffbf206c-5bb8-4e27-8428-3cdb5e49b0c0",
   "metadata": {},
   "source": [
    "## Motivação\n",
    "\n",
    "Em projetos de banco de dados relacionais, o primeiro passo consiste na criação do modelo ER.\n",
    "\n",
    "O modelo ER é a base para a criação do modelo relacional de um sistema.\n",
    "\n",
    "O modelo relacional é o conceito sobre o qual os dados são organizados em um banco de dados relacional.\n",
    "\n",
    "As tabelas começam a aparecer aqui :).\n",
    "\n",
    "Um bom design de banco de dados sabe como mapear do modelo ER para o modelo relacional."
   ]
  },
  {
   "cell_type": "markdown",
   "id": "08c56ba0-0a32-4921-a64c-5ce13ab17709",
   "metadata": {},
   "source": [
    "## Objetivos\n",
    "\n",
    "Ao final desta aula o aluno deverá conhecer:\n",
    "\n",
    "<ul>\n",
    "    <li> O que é o modelo relacional; </li>\n",
    "    <li> Os principais conceitos desse modelo; </li>\n",
    "    <li> Como o modelo relacional se traduz nas tecnologias específicas dos SGBDs; </li>\n",
    "    <li> Como mapear os principais componentes do modelo ER para o modelo relacional. </li>\n",
    "</ul>"
   ]
  },
  {
   "cell_type": "markdown",
   "id": "b2dcefff-bad5-427b-a443-0049a945f8a6",
   "metadata": {},
   "source": [
    "## Principais conceitos\n",
    "\n",
    "Os dados são representados por meio de <b> Relações, Esquema, Tuplas e Atributos</b>.\n",
    "\n",
    "<center><img src=\"./Fig-ModeloRelacional.jpg\" alt=\"Modelo Relacional\" width=\"50%\" height=\"50%\"/></center>\n",
    "\n",
    "### Relações\n",
    "\n",
    "O banco de dados é representado como uma coleção de relações -> tabelas (conjunto de tuplas).\n",
    "\n",
    "### Esquema\n",
    "\n",
    "A relação e seu conjunto de atributos definem o esquema da relação.\n",
    "\n",
    "### Tuplas\n",
    "\n",
    "As tuplas, como parte da definição de um conjunto, <b>não possuem uma ordem específica no banco de dados</b> e representam fatos acerca da relação da qual fazem parte.\n",
    "\n",
    "As tuplas, ainda de acordo com a definição de um conjunto, também devem ser distintas. Por exemplo, 2 tuplas não podem ter o mesmo valor para todos os atributos.\n",
    "\n",
    "Geralmente, um sobconjunto dos atributos terá essa propriedade. <b>Atributos que fazem parte de uma chave</b>.\n",
    "\n",
    "### Atributos\n",
    "\n",
    "Atributos possuem um domínio, um formato e um tipo, por exemplo:\n",
    "\n",
    "- Número de telefone: O conjunto de N dígitos (inteiros) que representa um número válido no país X que obedece ao formato (xx) xxx-xxxx.\n",
    "- Nome: Caracteres que representam o nome de uma pessoa (tipo texto).\n",
    "\n",
    "Atributos pode ter o valor NULL, que pode significar:\n",
    "\n",
    "- Valor desconhecido;\n",
    "- Valor não disponível;\n",
    "- Atributo não se aplica (valor indefinido).\n",
    "\n",
    "Certos atributos podem representar identificar univocamente uma tupla. <b>Cada chave é chamada de chave candidata, enquanto a chave escolhida é chamada de chave primária</b>.\n",
    "\n",
    "Perceba que todos esses conceitos do modelo relacional serão traduzidos na implementação do banco em SQL, por exemplo (Null, Key, Constraints, Data type - Number, Varchar, etc)."
   ]
  },
  {
   "cell_type": "markdown",
   "id": "cbc97fd0-b238-4bf7-b7c4-3293413773ae",
   "metadata": {},
   "source": [
    "## Integridade e Chave Estrangeira\n",
    "\n",
    "### Integridade de Entidade\n",
    "\n",
    "Chaves de uma entidade não podem ser nulas.\n",
    "\n",
    "### Integridade Referencial\n",
    "\n",
    "Uma tupla de uma relação que referencia outra tupla de outra relação tem que referenciar uma existente.\n",
    "\n",
    "Isso é possível com as chaves estrangeiras.\n",
    "\n",
    "<center><img src=\"./Fig-FK-Tuples.jpg\" alt=\"Modelo Relacional\" width=\"50%\" height=\"50%\"/></center>\n",
    "\n",
    "### Chave Estrangeira\n",
    "\n",
    "Chave estrangeira é um conjunto de atributos usado para referenciar outra relação.\n",
    "\n",
    "Os atributos de uma chave estrangeira devem ter o mesmo domínio da relação referenciada e deve referenciar tuplas que existem ou ser NULL.\n",
    "\n",
    "<center><img src=\"./Fig-FK.jpg\" alt=\"Modelo Relacional\" width=\"50%\" height=\"50%\"/></center>"
   ]
  },
  {
   "cell_type": "markdown",
   "id": "5e101f61-a067-4371-9eb7-26556148887c",
   "metadata": {},
   "source": [
    "## Mapeamento entre MER e Modelo Relacional\n",
    "\n",
    "Existem várias regras de mapeamento entre os dois modelos que podem ser vistas em detalhes no livro de referência.\n",
    "\n",
    "Vamos aprender de forma intuitiva com base no exemplo a seguir.\n",
    "\n",
    "<center><img src=\"./Fig-MER.png\" alt=\"Modelo ER\" width=\"50%\" height=\"50%\"/></center>\n",
    "<center><img src=\"./Fig-ModeloRelacionalEmployee.jpg\" alt=\"Modelo Relacional\" width=\"50%\" height=\"50%\"/></center>"
   ]
  },
  {
   "cell_type": "markdown",
   "id": "5350051b-9dd8-4d30-9ec0-be48207ef94e",
   "metadata": {},
   "source": [
    "## Exercícios\n",
    "\n",
    "### Requisitos do cliente\n",
    "\n",
    "Uma escola de idiomas deseja automatizar seus processos.\n",
    "\n",
    "Essa escola oferece cursos, sendo que cada curso pode ser ministrado por apenas um professor.\n",
    "\n",
    "Os alunos podem se inscrever nos cursos e participar de mais de um curso ao mesmo tempo.\n",
    "\n",
    "A escola possui informações dos alunos, como RG, Nome, Endereço, Data de Nascimento, Idade, Gênero e Data da matrícula dos alunos.\n",
    "\n",
    "Os seguintes dados dos professores também devem ser armazenados: RG, Nome, Endereço, Data de Nascimento, Idade, Gênero, Disponibilidade, Habilidades e Data de admissão.\n",
    "\n",
    "Além disso, o sistema deve gerenciar o nome e a descrição do curso.\n",
    "\n",
    "Utilizando o MER criado no exercício do material anterior, responda as questões.\n",
    "\n",
    "### Q1\n",
    "Quais são os nomes das relações que fazem parte do modelo relacional desse sistema?\n",
    "\n",
    "### Q2\n",
    "Quais são os esquemas das relações encontradas? Faça uma descrição completa contendo detalhes sobre o domínio dos atributos. Indique quando eles não podem ser nulos.\n",
    "\n",
    "### Q3\n",
    "Quais são as chaves primárias?\n",
    "\n",
    "### Q4\n",
    "Represente a integridade referencial entre as relações encontradas."
   ]
  },
  {
   "cell_type": "code",
   "execution_count": null,
   "id": "2e57634a-dd45-4eb3-bbc6-366ef4740ec7",
   "metadata": {},
   "outputs": [],
   "source": []
  },
  {
   "cell_type": "markdown",
   "id": "433dce55-ec99-4e2f-8794-e2c6d50728c3",
   "metadata": {},
   "source": [
    "## Referências\n",
    "\n",
    "ELMASRI, R.; NAVATHE, S.B. Fundamentals of Database Systems, 7th Edition"
   ]
  }
 ],
 "metadata": {
  "kernelspec": {
   "display_name": "Python 3",
   "language": "python",
   "name": "python3"
  },
  "language_info": {
   "codemirror_mode": {
    "name": "ipython",
    "version": 3
   },
   "file_extension": ".py",
   "mimetype": "text/x-python",
   "name": "python",
   "nbconvert_exporter": "python",
   "pygments_lexer": "ipython3",
   "version": "3.8.2"
  }
 },
 "nbformat": 4,
 "nbformat_minor": 5
}
