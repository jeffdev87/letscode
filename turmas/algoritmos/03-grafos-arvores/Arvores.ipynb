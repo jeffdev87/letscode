{
 "cells": [
  {
   "cell_type": "markdown",
   "id": "b03ffcce-1b88-4d7d-99ee-ff6167dd9aa1",
   "metadata": {},
   "source": [
    "# Introdução"
   ]
  },
  {
   "cell_type": "markdown",
   "id": "a88da3ce-baa0-49e1-b54a-aec5d2ee76aa",
   "metadata": {},
   "source": [
    "## Motivação\n",
    "\n",
    "Árvores são um tipo específico de grafo que é conectado (todos os vértices possuem conexão) e acíclico (não existea formação de um ciclo entre os vértices).\n",
    "\n",
    "Trata-se de uma estrutura hierárquica que geralmente possui um nó raíz e uma relação Pai-Filho entre seus elementos.\n",
    "\n",
    "Árvores são muito importantes em buscas, armazenamento, manipulação de dados, filas de prioridade, aprendizado de máquina, etc. \n",
    "\n",
    "Certos tipos de documentos podem ser representados no formato de árvore, como um XML, HTML.\n",
    "\n",
    "<div>\n",
    "    <img src=\"../images/dec-tree.png\" width=\"50%\" heigth=\"50%\"/>\n",
    "</div>"
   ]
  },
  {
   "cell_type": "markdown",
   "id": "3ffa001c-d310-4684-9b46-1bea5e42428a",
   "metadata": {},
   "source": [
    "## Objetivos\n",
    "\n",
    "Ao final dessa aula o aluno deverá conhecer:\n",
    "\n",
    "- O que é uma árvore.\n",
    "- Árvores binárias.\n",
    "- Meios de percorrer uma árvore."
   ]
  },
  {
   "cell_type": "markdown",
   "id": "7ae00169-a713-4ad8-ba31-2eea1dacea9b",
   "metadata": {},
   "source": [
    "## Definição\n",
    "\n",
    "Uma árvore é composta pelos seguintes elementos:\n",
    "\n",
    "<div>\n",
    "    <img src=\"../images/tree-1.png\" width=\"50%\" heigth=\"50%\"/>\n",
    "</div>\n",
    "\n",
    "- Nós\n",
    "\n",
    "    Elementos que de fato armazenam os dados em uma árvore.\n",
    "   \n",
    "- Nó raíz\n",
    "\n",
    "    Elemento principal, ponto de partida de uma árvore.\n",
    " \n",
    "- Sub-árvore\n",
    "\n",
    "    Uma árvore cujos nós são descendentes de outra árvore. Definição recursiva.\n",
    "\n",
    "- Grau\n",
    "\n",
    "    O número de filhos de um nó.\n",
    "\n",
    "- Nó pai, filho e irmãos\n",
    "\n",
    "    Relação hierárquica entre os nós da árvore.\n",
    "\n",
    "- Nível\n",
    "    \n",
    "    O nó raiz da árvore é considerado no nível 0. Os filhos do nó raiz são considerados no nível 1, e os filhos dos nós no nível 1 são considerados no nível 2 e assim por diante.\n",
    "    \n",
    "- Altura\n",
    "\n",
    "    O número total de nós no caminho mais longo da árvore é a altura de uma árvore. Por exemplo, na árvore do exemplo anterior, a altura da árvore é 4 como os caminhos mais longos, A-B-D-J ou A-C-G-M ou A-B-F-K, todos têm um número total de 4 nós cada."
   ]
  },
  {
   "cell_type": "markdown",
   "id": "0c42f448-0712-4a13-9adb-c41fc814d2bb",
   "metadata": {},
   "source": [
    "## Árvore Binária\n",
    "\n",
    "Uma árvore binária é uma coleção de nós, onde os nós da árvore podem ter zero, 1 ou 2 nós filhos. \n",
    "\n",
    "Uma árvore binária simples tem no máximo dois filhos, ou seja, o filho esquerdo e o filho direito.\n",
    "\n",
    "<div>\n",
    "    <img src=\"../images/tree-2.png\" width=\"40%\" heigth=\"40%\"/>\n",
    "</div>"
   ]
  },
  {
   "cell_type": "code",
   "execution_count": null,
   "id": "708f4dad-cc58-4c6e-a843-66651ad49628",
   "metadata": {},
   "outputs": [],
   "source": [
    "# Vamos implementar uma arvore binaria?\n",
    "# Primeiro vamos definir o No\n",
    "# Em seguida, definimos a classe Arvore"
   ]
  },
  {
   "cell_type": "markdown",
   "id": "666e3307-fad0-41cf-983b-0dccecc6d24b",
   "metadata": {},
   "source": [
    "## Formas de percorrer uma árvore\n",
    "\n",
    "Existem 3 formas de percorrer uma árvore:\n",
    "\n",
    "- Pre-order\n",
    "    \n",
    "    Nó raiz é visitado primeiro, em seguida a sub-árvore esquerda e depois a direita.\n",
    "    \n",
    "- In-order\n",
    "\n",
    "    Sub-árvore esquerda é visitada primeiro, depois o nó raiz e, por último, a sub-árvore direita.\n",
    "    \n",
    "- Pos-order\n",
    "\n",
    "    Sub-árvore esquerda é visitada primeiro, depois a sub-árvore direita e, por último, o nó raíz."
   ]
  },
  {
   "cell_type": "code",
   "execution_count": null,
   "id": "c986d494-84a7-4dbd-a1f7-ffc3c6e0f93e",
   "metadata": {},
   "outputs": [],
   "source": [
    "# Vamos implementar as diferentes formas de percorrer uma arvore binaria?\n",
    "# Qual estrategia podemos utilizar?"
   ]
  },
  {
   "cell_type": "markdown",
   "id": "b53c9db5-7d46-4ef8-8195-de56716d4677",
   "metadata": {},
   "source": [
    "## Exercícios\n",
    "\n",
    "1. Resolver os desafios da lista sobre <a href=\"www.hackerrank.com/trees-1637755298\">árvores e grafos</a> do HackerRank.\n",
    "    "
   ]
  }
 ],
 "metadata": {
  "kernelspec": {
   "display_name": "Python 3",
   "language": "python",
   "name": "python3"
  },
  "language_info": {
   "codemirror_mode": {
    "name": "ipython",
    "version": 3
   },
   "file_extension": ".py",
   "mimetype": "text/x-python",
   "name": "python",
   "nbconvert_exporter": "python",
   "pygments_lexer": "ipython3",
   "version": "3.8.2"
  }
 },
 "nbformat": 4,
 "nbformat_minor": 5
}
