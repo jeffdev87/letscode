{
 "cells": [
  {
   "cell_type": "markdown",
   "id": "b03ffcce-1b88-4d7d-99ee-ff6167dd9aa1",
   "metadata": {},
   "source": [
    "# Introdução"
   ]
  },
  {
   "cell_type": "markdown",
   "id": "a88da3ce-baa0-49e1-b54a-aec5d2ee76aa",
   "metadata": {},
   "source": [
    "## Motivação\n",
    "\n",
    "Grafos são estruturas de dados não lineares muito usadas para resolver problemas computacionais.\n",
    "\n",
    "Nessa estrutura, os dados são representados por nós ou vértices que possuem conexões entre si, por meio de arestas.\n",
    "\n",
    "Uma rede social, uma malha rodoviária, conexões entre cidades são exemplos clássicos do uso dessa estrutura.\n",
    "\n",
    "<div>\n",
    "    <img src=\"../images/graph-sample.jpg\" width=\"50%\" heigth=\"50%\"/>\n",
    "</div>"
   ]
  },
  {
   "cell_type": "markdown",
   "id": "3ffa001c-d310-4684-9b46-1bea5e42428a",
   "metadata": {},
   "source": [
    "## Objetivos\n",
    "\n",
    "Ao final dessa aula o aluno deverá conhecer:\n",
    "\n",
    "- O que é um grafo.\n",
    "- As principais formas de representar essa estrutura de dados.\n",
    "- Meios de percorrer um grafo."
   ]
  },
  {
   "cell_type": "markdown",
   "id": "7ae00169-a713-4ad8-ba31-2eea1dacea9b",
   "metadata": {},
   "source": [
    "## Definições\n",
    "\n",
    "Um grafo G é representado por um par ordenado de um conjunto V de vértices e um conjunto E (i.e. edges) de arestas, dado como G = (V,E).\n",
    "\n",
    "<div>\n",
    "    <img src=\"../images/graph-1.png\" width=\"40%\" heigth=\"40%\"/>\n",
    "</div>\n",
    "\n",
    "- Nó ou vértice\n",
    "\n",
    "    Um ponto ou um nó em grafo é chamado de vértice. No diagrama acima, os nós A, B, C, D e E são os vértices do grafo.\n",
    "\n",
    "- Aresta (Edge)\n",
    "\n",
    "    É a conexão entre dois nós. A linha conectando A e B é um exemplo de aresta no grafo acima.\n",
    "\n",
    "- Loop\n",
    "\n",
    "    Quando uma aresta de um nó sai e chega nele mesmo, formando um loop.\n",
    "\n",
    "- Grau do vértice\n",
    "\n",
    "    O número total de arestas que chegam em um vértice. Por exemplo, o grau do vértice B na figura acima é 4.\n",
    "\n",
    "- Adjacência\n",
    "\n",
    "    Refere-se a conexão entre os nós, assim, se existe uma conexão entre 2 vértices ou nós, então dizemos que eles são adjacentes. Por exemplo, C é adjacente ao nó A.\n",
    "\n",
    "- Caminho\n",
    "\n",
    "    Uma sequência de arestas entre 2 nós representa um caminho entre eles. Por exemplo, CABE representa um caminho partindo de C e chegando em E.\n",
    "\n",
    "- Vértice folha\n",
    "\n",
    "    Um vértice ou nó é chamado de folha quando ele tem grau 1.\n",
    "\n",
    "- Grafo não-direcionado\n",
    "\n",
    "    Quando as arestas são não direcionadas, ou seja, quando elas apenas representam uma conexão entre dois vértices sem mais informações. Por exemplo, o grafo acima é não direcionado.\n",
    "    \n",
    "- Grafo direcionado\n",
    "\n",
    "    Quando as arestas são direcionadas, ou seja, uma aresta (A,B) é diferente de uma aresta (B,A), pois existe uma direção. Por exemplo, o grafo abaixo é direcionado.\n",
    "    \n",
    "<div>\n",
    "    <img src=\"../images/graph-2.png\" width=\"30%\" heigth=\"30%\"/>\n",
    "</div>\n",
    "    \n",
    "- Grafo ponderado\n",
    "\n",
    "    Quando as arestas carregam alguma informação numérica, um peso. Essa informação pode se referir a um custo associado àquela aresta. \n",
    "    \n",
    "    Por exemplo, se um grafo representa a conexão entre cidades, as arestas poderiam carregar a informação de distância entre elas. \n",
    "    \n",
    "    No exemplo abaixo, o caminho ABCD leva 25 minutos.\n",
    "    \n",
    "<div>\n",
    "    <img src=\"../images/graph-3.png\" width=\"30%\" heigth=\"30%\"/>\n",
    "</div>"
   ]
  },
  {
   "cell_type": "markdown",
   "id": "0c42f448-0712-4a13-9adb-c41fc814d2bb",
   "metadata": {},
   "source": [
    "## Lista de Adjacências\n",
    "\n",
    "Um grafo pode ser representado por meio de uma lista de adjacências. Uma lista de adjacências armazena os nós e suas conexões imediatas.\n",
    "\n",
    "Para isso, utilizamos uma lista, onde cada índice representa um nó do grafo. Para cada nó, ou elemento da lista, armazenamos uma lista contendo seus nós adjacentes.\n",
    "\n",
    "Considerando o grafo a seguir:\n",
    "\n",
    "<div>\n",
    "    <img src=\"../images/graph-4.png\" width=\"30%\" heigth=\"30%\"/>\n",
    "</div>\n",
    "\n",
    "Sua representação por meio de lista de adjacências seria:\n",
    "\n",
    "<div>\n",
    "    <img src=\"../images/graph-5.png\" width=\"40%\" heigth=\"40%\"/>\n",
    "</div>\n",
    "\n",
    "Vantagens: Estrutura dinâmica. Boa representação para um grafo esparso. \n",
    "\n",
    "Desvantagens: Custo extra para armazenar os ponteiros da lista de adjacências."
   ]
  },
  {
   "cell_type": "code",
   "execution_count": 40,
   "id": "a434bc35-bfc3-4da5-956e-a0e9fe17a9ad",
   "metadata": {},
   "outputs": [],
   "source": [
    "graph_list = [['B', 'C'], ['E','C', 'A'], ['A', 'B', 'E','F'], ['B', 'C'], ['C']]\n",
    "\n",
    "# better, with label\n",
    "graph = dict()\n",
    "graph['A'] = ['B', 'C'] \n",
    "graph['B'] = ['E','C', 'A'] \n",
    "graph['C'] = ['A', 'B', 'E','F'] \n",
    "graph['E'] = ['B', 'C'] \n",
    "graph['F'] = ['C']"
   ]
  },
  {
   "cell_type": "markdown",
   "id": "81a28eb5-5c73-4e20-a2c4-05ffe27a7e66",
   "metadata": {},
   "source": [
    "## Matriz de Adjacências\n",
    "\n",
    "Uma alternativa à lista de adjacências seria uma matriz de adjacências. \n",
    "\n",
    "A ideia é armazenar os valores 0 ou 1 nas células da matriz dependendo da existência ou não de uma aresta conectando dois vértices.\n",
    "\n",
    "Por exemplo:\n",
    "\n",
    "<div>\n",
    "    <img src=\"../images/graph-6.png\" width=\"40%\" heigth=\"40%\"/>\n",
    "</div>\n",
    "\n",
    "Vantagem: Boa representação para um grafo denso.\n",
    "\n",
    "Desvantagem: Armazenamento estático."
   ]
  },
  {
   "cell_type": "code",
   "execution_count": 6,
   "id": "ba6ff8fd-9903-4789-b332-81e7c5fa0387",
   "metadata": {},
   "outputs": [
    {
     "data": {
      "text/plain": [
       "[[0, 0, 0, 0, 0],\n",
       " [0, 0, 0, 0, 0],\n",
       " [0, 0, 0, 0, 0],\n",
       " [0, 0, 0, 0, 0],\n",
       " [0, 0, 0, 0, 0]]"
      ]
     },
     "execution_count": 6,
     "metadata": {},
     "output_type": "execute_result"
    }
   ],
   "source": [
    "matrix_elements = sorted(graph.keys()) \n",
    "cols = rows = len(matrix_elements)\n",
    "\n",
    "adjacency_matrix = [[0 for x in range(rows)] for y in range(cols)]\n",
    "adjacency_matrix"
   ]
  },
  {
   "cell_type": "code",
   "execution_count": 7,
   "id": "631b8849-c5b7-4faa-a19e-dca29393d70e",
   "metadata": {},
   "outputs": [
    {
     "data": {
      "text/plain": [
       "[('A', 'B'),\n",
       " ('A', 'C'),\n",
       " ('B', 'E'),\n",
       " ('B', 'C'),\n",
       " ('B', 'A'),\n",
       " ('C', 'A'),\n",
       " ('C', 'B'),\n",
       " ('C', 'E'),\n",
       " ('C', 'F'),\n",
       " ('E', 'B'),\n",
       " ('E', 'C'),\n",
       " ('F', 'C')]"
      ]
     },
     "execution_count": 7,
     "metadata": {},
     "output_type": "execute_result"
    }
   ],
   "source": [
    "edges_list = []\n",
    "for key in matrix_elements: \n",
    "    for neighbor in graph[key]: \n",
    "        edges_list.append((key, neighbor))\n",
    "edges_list"
   ]
  },
  {
   "cell_type": "code",
   "execution_count": 8,
   "id": "39338574-1d12-4b42-a805-e6744d87cd53",
   "metadata": {},
   "outputs": [
    {
     "data": {
      "text/plain": [
       "[[0, 1, 1, 0, 0],\n",
       " [1, 0, 1, 1, 0],\n",
       " [1, 1, 0, 1, 1],\n",
       " [0, 1, 1, 0, 0],\n",
       " [0, 0, 1, 0, 0]]"
      ]
     },
     "execution_count": 8,
     "metadata": {},
     "output_type": "execute_result"
    }
   ],
   "source": [
    "for edge in edges_list:     \n",
    "    index_of_first_vertex = matrix_elements.index(edge[0]) \n",
    "    index_of_second_vertex = matrix_elements.index(edge[1]) \n",
    "    adjacency_matrix[index_of_first_vertex][index_of_second_vertex] = 1 \n",
    "adjacency_matrix"
   ]
  },
  {
   "cell_type": "markdown",
   "id": "6e862b61-8624-4a4f-a119-abd0fcbc331c",
   "metadata": {},
   "source": [
    "## Busca em largura (BFS)\n",
    "\n",
    "Na busca em largura, partindo de um nó qualquer, percorremos os nós imediatamente conectados primeiro, até visitarmos todos os vértices do grafo.\n",
    "\n",
    "Para isso devemos utilizar uma estrutura de dados conhecida: Fila.\n",
    "\n",
    "Pensando em uma rede social, essa forma de atravessar o grafo visita os amigos de grau 1 primeiro, em seguida os de grau 2, e assim por diante.\n",
    "\n",
    "Dessa forma podemos utilizar essa forma de atravessar o grafo para descobrir o grau de amizade entre pessoas em uma rede social e, assim, sugerir novos amigos por exemplo.\n",
    "\n",
    "<div>\n",
    "    <img src=\"../images/graph-bfs.png\" width=\"60%\" heigth=\"60%\"/>\n",
    "</div>\n",
    "\n",
    "A complexidade de tempo do algoritmo BFS é O(|V| + |E|), onde |V| é o número de vértices e |E| é o número de arestas."
   ]
  },
  {
   "cell_type": "code",
   "execution_count": 47,
   "id": "ce8dee68-1c1f-4427-b995-7df474103df5",
   "metadata": {},
   "outputs": [
    {
     "data": {
      "text/plain": [
       "['A', 'B', 'C', 'E', 'F']"
      ]
     },
     "execution_count": 47,
     "metadata": {},
     "output_type": "execute_result"
    }
   ],
   "source": [
    "from queue import Queue\n",
    "\n",
    "def bfs(root, graph):\n",
    "    visited = list()\n",
    "    to_visit_queue = Queue()\n",
    "    to_visit_queue.put(root)\n",
    "\n",
    "    while(to_visit_queue.empty() is False):\n",
    "        curr_node = to_visit_queue.get()\n",
    "        visited.append(curr_node)\n",
    "        for n in sorted(graph[curr_node]):\n",
    "            if n not in visited and n not in list(to_visit_queue.queue):\n",
    "                to_visit_queue.put(n)\n",
    "\n",
    "    return list(visited)\n",
    "\n",
    "bfs('A', graph)"
   ]
  },
  {
   "cell_type": "markdown",
   "id": "800678bc-1a5d-4bd3-aa83-3c1d3ad06a9c",
   "metadata": {},
   "source": [
    "## Busca em profundidade (DFS)\n",
    "\n",
    "O algoritmo de busca em profundidade inicia a partir de um nó e explora um caminho em profundidade até um vértice folha antes de retornar e percorrer outro caminho passando por nós ainda não visitados.\n",
    "\n",
    "Para isso devemos utilizar uma estrutura de dados conhecida: Pilha.\n",
    "\n",
    "Em uma rede social, esse algoritmo pode determinar a existência de uma conexão entre duas pessoas, bem como o grau de amizade entre elas.\n",
    "\n",
    "Vamos estudar esse algoritmo a partir do grafo abaixo:\n",
    "\n",
    "<div>\n",
    "    <img src=\"../images/graph-dfs-1.png\" width=\"30%\" heigth=\"30%\"/>\n",
    "</div>\n",
    "\n",
    "<div>\n",
    "    <img src=\"../images/graph-dfs-2.png\" width=\"80%\" heigth=\"80%\"/>\n",
    "</div>"
   ]
  },
  {
   "cell_type": "code",
   "execution_count": 95,
   "id": "7f4f19ac-d88d-4103-94ee-61fcbc540c20",
   "metadata": {},
   "outputs": [
    {
     "name": "stdout",
     "output_type": "stream",
     "text": [
      "--->['S', 'B']\n",
      "------>S\n",
      "------>B\n",
      "--->['A']\n",
      "--->['G', 'C', 'A']\n",
      "------>G\n",
      "------>C\n",
      "--->['S', 'F', 'E', 'D']\n",
      "------>F\n",
      "------>E\n",
      "------>D\n",
      "--->['C']\n",
      "--->['H', 'C']\n",
      "------>H\n",
      "--->['G', 'E']\n",
      "--->['G', 'C']\n",
      "--->['S', 'H', 'F']\n"
     ]
    },
    {
     "data": {
      "text/plain": [
       "['A', 'B', 'S', 'C', 'D', 'E', 'H', 'F', 'G']"
      ]
     },
     "execution_count": 95,
     "metadata": {},
     "output_type": "execute_result"
    }
   ],
   "source": [
    "graph = dict() \n",
    "graph['A'] = ['B', 'S'] \n",
    "graph['B'] = ['A'] \n",
    "graph['S'] = ['A','G','C'] \n",
    "graph['D'] = ['C'] \n",
    "graph['G'] = ['S','F','H'] \n",
    "graph['H'] = ['G','E'] \n",
    "graph['E'] = ['C','H'] \n",
    "graph['F'] = ['C','G'] \n",
    "graph['C'] = ['D','S','E','F']\n",
    "\n",
    "from queue import LifoQueue\n",
    "\n",
    "def dfs(root, graph):\n",
    "    visited = list()\n",
    "    to_visit_stack = LifoQueue()\n",
    "    to_visit_stack.put(root)\n",
    "    \n",
    "    while(to_visit_stack.empty() is False):\n",
    "        curr_node = to_visit_stack.get()\n",
    "        visited.append(curr_node)\n",
    "        adj_list = sorted(graph[curr_node], reverse=True)\n",
    "        print(f'--->{adj_list}')\n",
    "        for adj in adj_list:\n",
    "            if adj not in visited and adj not in to_visit_stack.queue:\n",
    "                print(f'------>{adj}')\n",
    "                to_visit_stack.put(adj)\n",
    "    return visited\n",
    "\n",
    "dfs('A', graph)"
   ]
  },
  {
   "cell_type": "code",
   "execution_count": 96,
   "id": "20472c90-5d0e-4f3d-b486-39b4a0cf60c4",
   "metadata": {},
   "outputs": [
    {
     "name": "stdout",
     "output_type": "stream",
     "text": [
      "A\n",
      "B\n",
      "S\n",
      "C\n",
      "D\n",
      "E\n",
      "H\n",
      "G\n",
      "F\n"
     ]
    }
   ],
   "source": [
    "def dfs_rec(visited, graph, node):\n",
    "    if node not in visited:\n",
    "        print(node)\n",
    "        visited.add(node)\n",
    "        if node not in graph.keys():\n",
    "            return\n",
    "        for neighbour in sorted(graph[node]):\n",
    "            dfs_rec(visited, graph, neighbour)\n",
    "\n",
    "visited = set()\n",
    "dfs_rec(visited, graph, 'A')"
   ]
  },
  {
   "cell_type": "markdown",
   "id": "b53c9db5-7d46-4ef8-8195-de56716d4677",
   "metadata": {},
   "source": [
    "## Exercícios\n",
    "\n",
    "1. Resolver os desafios da lista sobre <a href=\"www.hackerrank.com/trees-1637755298\">árvores e grafos</a> do HackerRank.\n",
    "\n",
    "2. Adapte o algoritmo de busca em profundidade para exibir o caminho percorrido por ele partindo de todos os elementos do grafo dado que ainda não foram visitados\n",
    "\n",
    "- Entrada\n",
    "\n",
    "O arquivo de entrada contém muitos casos de teste. A primeira linha do arquivo de entrada contém um inteiro N que representa a quantidade de casos de teste que se seguem. Cada um dos N casos de teste contém, na primeira linha, duas informações: (1 ≤ V ≤ 20) e E (1 ≤ E ≤ 20), que são respectivamente a quantidade de vértices e arestas do gráfico. Siga E linhas contendo informações sobre todas as arestas deste gráfico.\n",
    "\n",
    "- Saída\n",
    "\n",
    "Para cada caso de teste, uma saída deve ser impressa que representa uma pesquisa em profundidade para todos os nós, com respeito à hierarquia de cada um deles. O caractere b significa um espaço em branco. Veja o seguinte exemplo:\n",
    "bb0-2\n",
    "bbbb2-1\n",
    "bbbb2-4\n",
    "bbbbbb4-1\n",
    "\n",
    "<div>\n",
    "    <img src=\"../images/graph-exe.png\" width=\"60%\" heigth=\"60%\"/>\n",
    "</div>\n",
    "\n",
    "<i>Inspirado no exercício <a href=\"https://www.beecrowd.com.br/judge/en/problems/view/1081\">1081</a> do Beecrowd</i>"
   ]
  }
 ],
 "metadata": {
  "kernelspec": {
   "display_name": "Python 3",
   "language": "python",
   "name": "python3"
  },
  "language_info": {
   "codemirror_mode": {
    "name": "ipython",
    "version": 3
   },
   "file_extension": ".py",
   "mimetype": "text/x-python",
   "name": "python",
   "nbconvert_exporter": "python",
   "pygments_lexer": "ipython3",
   "version": "3.8.2"
  }
 },
 "nbformat": 4,
 "nbformat_minor": 5
}
