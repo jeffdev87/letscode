{
 "cells": [
  {
   "cell_type": "markdown",
   "id": "b03ffcce-1b88-4d7d-99ee-ff6167dd9aa1",
   "metadata": {},
   "source": [
    "# Analise de Complexidade de Algoritmos"
   ]
  },
  {
   "cell_type": "markdown",
   "id": "a88da3ce-baa0-49e1-b54a-aec5d2ee76aa",
   "metadata": {},
   "source": [
    "## Motivação\n",
    "\n",
    "Vamos continuar nossa análise de algoritmos.\n",
    "\n",
    "Na aula anterior estudamos as principais ordens de crescimento e notações para analisar algoritmos. No entanto, focamos em algoritmos mais simples.\n",
    "\n",
    "Nessa aula vamos focar em algoritmos com complexidade logaritmica e, em seguida, vamos estudar um pouco de recursão."
   ]
  },
  {
   "cell_type": "markdown",
   "id": "3ffa001c-d310-4684-9b46-1bea5e42428a",
   "metadata": {},
   "source": [
    "## Objetivos\n",
    "\n",
    "Ao final dessa aula o aluno deverá conhecer:\n",
    "\n",
    "- Como estudar um algoritmo de complexidade logaritmica\n",
    "- O que é e como estudar algoritmos recursivos"
   ]
  },
  {
   "cell_type": "markdown",
   "id": "2aa3eeba-67fc-4e31-a003-689f41e26eb2",
   "metadata": {},
   "source": [
    "## Relembrando"
   ]
  },
  {
   "cell_type": "markdown",
   "id": "895667fe-59ac-48b5-bb29-376febab7208",
   "metadata": {},
   "source": [
    "##### Notações\n",
    "\n",
    "As seguintes notações são utilizadas para comparar as diferentes ordens de crescimento.\n",
    "\n",
    "- Big O\n",
    "\n",
    "O(f(n)) é o conjunto de todas as funções com menor ou igual ordem de crescimento do que f(n). Limitante superior.\n",
    "\n",
    "<div>\n",
    "    <img src=\"../images/bigoh.png\" width=\"40%\" heigth=\"40%\"/>\n",
    "</div>\n",
    "\n",
    "Dizemos que a ordem de crescimento da função que define o tempo de execução nunca será maior do que o limitante superior f(n).\n",
    "\n",
    "- Big Omega\n",
    "\n",
    "Ω(f(n)) é o conjunto de todas as funções com maior ou igual ordem de crescimento do que f(n). Limitante inferior.\n",
    "\n",
    "<div>\n",
    "    <img src=\"../images/bigomega.png\" width=\"40%\" heigth=\"40%\"/>\n",
    "</div>\n",
    "\n",
    "Dizemos que a ordem de crescimento da função que define o tempo de execução nunca será menor do que o limitante inferior f(n).\n",
    "\n",
    "- Big Theta\n",
    "\n",
    "Limitante superior e inferior. θ(f(n)) são funções com a mesma ordem de crescimento que f(n).\n",
    "\n",
    "<div>\n",
    "    <img src=\"../images/bigtheta.png\" width=\"40%\" heigth=\"40%\"/>\n",
    "</div>\n",
    "\n",
    "Dizemos que a ordem de crescimento da função que define o tempo de execução está limitada acima e abaixo por f(n) multiplicado por alguma constante k2 (acima) e k1 (abaixo).\n",
    "\n",
    "A notação mais utilizada é o Big O, pois podemos classificar os algoritmos com apenas um limitante superior. Ou seja, a complexidade de um algoritmo nunca será pior do que a função em questão.\n",
    "\n",
    "<b>Classes de eficência</b>\n",
    "\n",
    "Na maioria das vezes a eficiência de tempo dos algoritmos cai em somente algumas classes.\n",
    "\n",
    "<div>\n",
    "    <img src=\"../images/ef-class.png\" width=\"40%\" heigth=\"40%\"/>\n",
    "</div>"
   ]
  },
  {
   "cell_type": "markdown",
   "id": "b52feba7-cd1d-4708-9eba-db43b088131a",
   "metadata": {},
   "source": [
    "## Tempo de execução logaritmica"
   ]
  },
  {
   "cell_type": "markdown",
   "id": "93f5c399-2d4d-4771-bd81-7439e91d37bc",
   "metadata": {},
   "source": [
    "Considere o algoritmo de busca binária. \n",
    "\n",
    "Em resumo, ele parte de uma lista ordenada, olhando sempre para o elemento do meio, descartando metade da lista a cada iteração."
   ]
  },
  {
   "cell_type": "code",
   "execution_count": null,
   "id": "4a2bbade-fe79-41e9-94bb-0d5e9f7099f5",
   "metadata": {},
   "outputs": [],
   "source": [
    "\n",
    "l = [1, 2, 3, 4, 5, 6, 7]\n",
    "[1, 2, 3, 4]\n",
    "[1, 2]\n",
    "[1]\n",
    "\n",
    "low = 0\n",
    "high = 7\n",
    "mid = 3\n",
    "\n",
    "ir para esquerda -> 0, mid = 3\n",
    "ir para direita  -> 3, hight"
   ]
  },
  {
   "cell_type": "code",
   "execution_count": 38,
   "id": "7cca5eac-8efe-43d0-848a-a1bf6235a5be",
   "metadata": {},
   "outputs": [
    {
     "name": "stdout",
     "output_type": "stream",
     "text": [
      "16\n",
      "0 15\n",
      "Find 77 in [1, 2, 3, 4, 5, 6, 7, 8, 9, 10, 11, 12, 13, 14, 15, 16] -> Number of elements 16 -> Index -> 7, Mid 8\n",
      "8 15\n",
      "Find 77 in [9, 10, 11, 12, 13, 14, 15, 16] -> Number of elements 8 -> Index -> 11, Mid 12\n",
      "12 15\n",
      "Find 77 in [13, 14, 15, 16] -> Number of elements 4 -> Index -> 13, Mid 14\n",
      "14 15\n",
      "Find 77 in [15, 16] -> Number of elements 2 -> Index -> 14, Mid 15\n",
      "15 15\n",
      "Find 77 in [16] -> Number of elements 1 -> Index -> 15, Mid 16\n"
     ]
    },
    {
     "data": {
      "text/plain": [
       "-1"
      ]
     },
     "execution_count": 38,
     "metadata": {},
     "output_type": "execute_result"
    }
   ],
   "source": [
    "import math\n",
    "\n",
    "def binary_search(arr, low, high, x):\n",
    "    if high < low:\n",
    "        return -1\n",
    "\n",
    "    mid = math.trunc((high + low) / 2)\n",
    "    \n",
    "    print(f'{low} {high}')\n",
    "    \n",
    "    print(f'Find {x} in {arr[low:high + 1]} -> Number of elements {high - low + 1} -> Index -> {mid}, Mid {arr[mid]}')\n",
    "    \n",
    "    # x is in the middle\n",
    "    if arr[mid] == x:\n",
    "        return mid\n",
    "\n",
    "    # x is smaller than mid, then go to the left subarray\n",
    "    elif arr[mid] > x:\n",
    "        return binary_search(arr, low, mid - 1, x)\n",
    "\n",
    "    # else go to the right subarray\n",
    "    else:\n",
    "        return binary_search(arr, mid + 1, high, x)\n",
    "\n",
    "arr = [16,15,14,13,12,11,10,9,8,7,6,5,4,3,2,1]\n",
    "print(len(arr))\n",
    "arr.sort()\n",
    "binary_search(arr, 0, len(arr) - 1, 77)"
   ]
  },
  {
   "cell_type": "markdown",
   "id": "9ca645ca-c0d3-45e6-a709-bdaee8270c43",
   "metadata": {},
   "source": [
    "A cada iteração do algoritmo acima, eliminamos metade dos dados. Portanto, o tempo de execução desse algoritmo é quantas vezes podemos dividir N por 2 até chegarmos a 1 elemento.\n",
    "\n",
    "N = 16\n",
    "\n",
    "N = 8  // divide por 2\n",
    "\n",
    "N = 4  // divide por 2\n",
    "\n",
    "N = 2  // divide por 2\n",
    "\n",
    "N = 1  // divide por 2\n",
    "\n",
    "Nesse caso, foram necessários 4 passos. Se pensarmos de forma contrária, partindo de 1, quantas vezes podemos multiplicar 1 por 2 até chegarmos em N = 16?\n",
    "\n",
    "    16      = 2 * 2 * .. = 2^4 (aplica-se o log base 2 nos dois lados)\n",
    "    log(16) = log(2^4) = 4     (propriedades do log)\n",
    "    \n",
    "    Em termos gerais:\n",
    "    \n",
    "    logN = k -> 2^k = N, ou seja, o número de iterações necessárias para esse algoritmo é uma função logaritmica.\n",
    "\n",
    "Em geral, algoritmos que podam o espaço de busca pela metade possuem complexidade logaritmica."
   ]
  },
  {
   "cell_type": "markdown",
   "id": "35f970f3-77f3-4a35-b0a1-80c27ac0e15d",
   "metadata": {},
   "source": [
    "## Algoritmos recursivos"
   ]
  },
  {
   "cell_type": "markdown",
   "id": "98ccf618-fe2f-4d7a-9b56-d2a63f71ae7e",
   "metadata": {},
   "source": [
    "### O que é recursão?\n",
    "\n",
    "Em matemática e computação, o conceito de recursão se dá quando um problema pode ser definido parcialmente em termos dele mesmo.\n",
    "\n",
    "A idéia básica de um algoritmo recursivo consiste em diminuir sucessivamente o problema em um problema menor ou mais simples, até que o tamanho ou a simplicidade do problema reduzido permita resolvê-lo de forma direta, sem recorrer a si mesmo.\n",
    "\n",
    "    Exemplos: cálculo do fatorial de um número, sequência de Fibonacci, torre de Hanoi, etc.\n",
    "    \n",
    "- Fatorial\n",
    "\n",
    "Fat(n) = n! = n * (n - 1) * (n - 2) * .. 1, n >= 1, 0! = 1\n",
    "\n",
    "Fat(5) = 5 * 4 * 3 * 2 * 1 = 120\n",
    "\n",
    "Perceba que para calcular o fatorial de n, precisamos do fatorial de todos os seus antecedentes: n - 1, n - 2, etc. \n",
    "\n",
    "Portanto, esse cálculo é recursivo:\n",
    "\n",
    "    Fat(n) = n * Fat(n - 1), n > 0\n",
    "    Fat(0) = 1\n",
    "    Fat(1) = 1\n",
    "    \n",
    "Vamos escrever o algoritmo do fatorial?"
   ]
  },
  {
   "cell_type": "code",
   "execution_count": 47,
   "id": "fd73a121-f9ff-45c0-8d22-77650ac042a8",
   "metadata": {},
   "outputs": [
    {
     "data": {
      "text/plain": [
       "1"
      ]
     },
     "execution_count": 47,
     "metadata": {},
     "output_type": "execute_result"
    }
   ],
   "source": [
    "def fat_rec(n):\n",
    "    if n <= 1:\n",
    "        return 1\n",
    "    return n * fat_rec(n - 1)\n"
   ]
  },
  {
   "cell_type": "code",
   "execution_count": 42,
   "id": "ca1bb23d-f871-458b-b922-8235b2f331fb",
   "metadata": {},
   "outputs": [
    {
     "data": {
      "text/plain": [
       "0"
      ]
     },
     "execution_count": 42,
     "metadata": {},
     "output_type": "execute_result"
    }
   ],
   "source": [
    "# N = 2\n",
    "# tot = 2*1 = 2\n",
    "# mult = 1\n",
    "# 2\n",
    "\n",
    "def fat(n):\n",
    "    tot = n\n",
    "    mult = n - 1\n",
    "    while (mult > 0):\n",
    "        tot = tot * mult\n",
    "        mult -= 1\n",
    "    return tot\n",
    "fat(0)"
   ]
  },
  {
   "cell_type": "code",
   "execution_count": 43,
   "id": "19de6d8b-df8e-4735-ba53-01e809d9eb3c",
   "metadata": {},
   "outputs": [
    {
     "data": {
      "text/plain": [
       "1"
      ]
     },
     "execution_count": 43,
     "metadata": {},
     "output_type": "execute_result"
    }
   ],
   "source": [
    "# versao n recursiva\n",
    "def fat_it(n):\n",
    "    f = 1\n",
    "    while n > 1:\n",
    "        f *= n\n",
    "        n -= 1\n",
    "    return f"
   ]
  },
  {
   "cell_type": "code",
   "execution_count": null,
   "id": "88acc099-4ee5-49c2-8f87-91c987f2a7ff",
   "metadata": {},
   "outputs": [],
   "source": []
  },
  {
   "cell_type": "code",
   "execution_count": 4,
   "id": "985fe6b8-f93c-41da-9a44-c64bc8018b6c",
   "metadata": {},
   "outputs": [
    {
     "data": {
      "text/plain": [
       "120"
      ]
     },
     "execution_count": 4,
     "metadata": {},
     "output_type": "execute_result"
    }
   ],
   "source": [
    "def fat_rec(n):\n",
    "    if (n < 1):\n",
    "        return 1\n",
    "    return n * fat_rec(n - 1)\n",
    "\n",
    "fat_rec(5)"
   ]
  },
  {
   "cell_type": "markdown",
   "id": "83cd5eec-0b1e-489e-81f1-4c01fa084356",
   "metadata": {},
   "source": [
    "- Sequência de Fibonacci\n",
    "\n",
    "É uma sequência de números inteiros começando por 0 e 1, na qual cada termo subsequente corresponde à soma dos dois anteriores.\n",
    "\n",
    "Seq_Fib => 0, 1, 1, 2, 3, 5, 8, 13, ..., Fib(n)\n",
    "\n",
    "Podemos obter os termos da sequência da seguinte forma: \n",
    "\n",
    "Fib(0) = 0\n",
    "\n",
    "Fib(1) = 1\n",
    "\n",
    "Fib(2) = 1\n",
    "\n",
    "Fib(3) = 2\n",
    "\n",
    "Fib(n) = Fib(n-2) + Fib(n-1)\n",
    "\n",
    "Como seria o algoritmo iterativo da sequência de Fibonacci?"
   ]
  },
  {
   "cell_type": "code",
   "execution_count": 49,
   "id": "8f7df4a8-e94e-4975-92bd-630f2b7d646a",
   "metadata": {},
   "outputs": [
    {
     "data": {
      "text/plain": [
       "8"
      ]
     },
     "execution_count": 49,
     "metadata": {},
     "output_type": "execute_result"
    }
   ],
   "source": [
    "# n = 5\n",
    "# count = 5\n",
    "# total = 5\n",
    "# tot_ant = 3\n",
    "# tot_atu = 5\n",
    "# 0 -> return 0   -> tot_ant\n",
    "# 1 -> return 1   -> tot_atu\n",
    "# 2 -> 1 + 0 -> 1 -> \n",
    "# 3 -> 1 + 1 = 2 -> \n",
    "# 4 -> 1 + 2 = 3\n",
    "# 5 -> 2 + 3 = 5\n",
    "\n",
    "def fib_n_rec(n):\n",
    "    if n == 0:\n",
    "        return 0\n",
    "    if n == 1:\n",
    "        return 1\n",
    "\n",
    "    count = 2\n",
    "    tot_ant = 0\n",
    "    tot_atu = 1\n",
    "    total = 0\n",
    "    while (count <= n):\n",
    "        total = tot_ant + tot_atu\n",
    "        tot_ant = tot_atu\n",
    "        tot_atu = total\n",
    "        count += 1\n",
    "    return total\n",
    "fib_n_rec(6)\n",
    "O(n)"
   ]
  },
  {
   "cell_type": "code",
   "execution_count": 29,
   "id": "7407a40e-790a-48ed-be51-c5c9297b94e0",
   "metadata": {},
   "outputs": [
    {
     "data": {
      "text/plain": [
       "5"
      ]
     },
     "execution_count": 29,
     "metadata": {},
     "output_type": "execute_result"
    }
   ],
   "source": [
    "'''Versao Iterativa'''\n",
    "def f(n):\n",
    "    if n == 0:\n",
    "        return 0\n",
    "    \n",
    "    if n == 1:\n",
    "        return 1\n",
    "    \n",
    "    f, s, c = 0, 1, 0\n",
    "    for i in range(2, n + 1):\n",
    "        c = f + s\n",
    "        f = s\n",
    "        s = c\n",
    "    return c\n",
    "\n",
    "f(5)"
   ]
  },
  {
   "cell_type": "markdown",
   "id": "77fbeec3-109e-407f-a0d7-b0a048130e7a",
   "metadata": {},
   "source": [
    "E o algoritmo recursivo? Para isso, vamos pensar nos casos básicos e no caso geral.\n",
    "\n",
    "Fib(0) = 0\n",
    "\n",
    "Fib(1) = 1\n",
    "\n",
    "Fib(2) = 1\n",
    "\n",
    "Fib(3) = Fib(3 - 2) + Fib(3 - 1) = Fib(1) + Fib(2) = 2\n",
    "\n",
    "Fib(n) = Fib(n - 2) + Fib(n - 1)"
   ]
  },
  {
   "cell_type": "code",
   "execution_count": 8,
   "id": "65d5ea01-f008-4508-b3bd-f71ac9965c36",
   "metadata": {},
   "outputs": [
    {
     "data": {
      "text/plain": [
       "8"
      ]
     },
     "execution_count": 8,
     "metadata": {},
     "output_type": "execute_result"
    }
   ],
   "source": [
    "def fib_rec(n):\n",
    "    if (n == 0):\n",
    "        return 0\n",
    "    if (n <= 2):\n",
    "        return 1\n",
    "    return fib_rec(n - 2) + fib_rec(n - 1)\n",
    "\n",
    "fib_rec(5)\n",
    "fib_rec(6)"
   ]
  },
  {
   "cell_type": "markdown",
   "id": "5d746ef0-0e0a-4fa7-8e3f-093e9159026e",
   "metadata": {},
   "source": [
    "Qual versão do algoritmo de Fibonacci é mais eficiente?"
   ]
  },
  {
   "cell_type": "markdown",
   "id": "5e10fa9f-e575-4269-aef8-3807c30bfd9b",
   "metadata": {},
   "source": [
    "### Análise de complexidade de algoritmos recursivos\n",
    "\n",
    "Qual a entrada do algoritmo? Qual a operação básica do algoritmo do fatorial?\n",
    "\n",
    "    Operação básica: M(n)\n",
    "\n",
    "Quantas vezes temos que executar essa operação para calcular o fatorial de n? Ou seja, qual o valor de M(n)?\n",
    "\n",
    "    M(n) = M(n - 1) + 1\n",
    "\n",
    "    M(n - 1) => Refere-se ao numero de operações para calcular Fat(n - 1)\n",
    "    1        => Refere-se a uma multiplicação Fat(n - 1) * n\n",
    "\n",
    "Perceba que estamos tentando descobrir o número de vezes que a operação básica é executada pelo algoritmo em função de sua entrada, n.\n",
    "\n",
    "Entretanto, diferente dos outros algoritmos, nesse caso também dependemos de execuções passadas, M(n - 1). Esse tipo de equação é chamada de <i>relação de recorrência</i>.\n",
    "\n",
    "Para resolver essa recorrência, precisamos de uma condição inicial (condição de parada).\n",
    "\n",
    "Lembrando que:\n",
    "\n",
    "    se n < 1, retorna 1\n",
    "\n",
    "Quando n < 1, nosso algoritmo não executa nenhuma operação, apenas retorna. Portanto, a relação de recorrência para calcular o número de multiplicações executadas pelo fatorial é:\n",
    "\n",
    "    M(0) = M(1) = 0\n",
    "    M(n) = M(n - 1) + 1\n",
    "\n",
    "Vamos utilizar o método de substituição para resolver essa recorrência:\n",
    "\n",
    "<div>\n",
    "    <img src=\"../images/req-method.png\" width=\"50%\" heigth=\"50%\"/>\n",
    "</div>\n",
    "\n",
    "Após algumas substituições, percebemos o padrão:\n",
    "\n",
    "    M(n) = M(n - i) + i\n",
    "    \n",
    "Portanto, sabendo que M(0) = 0, temos:\n",
    "\n",
    "    M(n) = M(n - 1) + 1 = ... = M(n - i) + i = ... = M(n - n) + n = n\n",
    "\n",
    "Logo, a complexidade do algoritmo Fat(n) é O(n)."
   ]
  },
  {
   "cell_type": "markdown",
   "id": "9c50838a-511e-4118-a440-2d92956986a7",
   "metadata": {},
   "source": [
    "### Exercícios\n",
    "\n",
    "1. Escreva uma função não recursiva que calcule a soma dos n elementos de um array de inteiros.\n",
    "\n",
    "2. Estime o melhor e o pior caso em relação ao tempo, em função do tamanho da entrada.\n",
    "\n",
    "3. Repita  para uma versão recursiva da função."
   ]
  }
 ],
 "metadata": {
  "kernelspec": {
   "display_name": "Python 3",
   "language": "python",
   "name": "python3"
  },
  "language_info": {
   "codemirror_mode": {
    "name": "ipython",
    "version": 3
   },
   "file_extension": ".py",
   "mimetype": "text/x-python",
   "name": "python",
   "nbconvert_exporter": "python",
   "pygments_lexer": "ipython3",
   "version": "3.8.2"
  }
 },
 "nbformat": 4,
 "nbformat_minor": 5
}
