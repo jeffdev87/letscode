{
 "cells": [
  {
   "cell_type": "markdown",
   "id": "b03ffcce-1b88-4d7d-99ee-ff6167dd9aa1",
   "metadata": {},
   "source": [
    "# Introdução"
   ]
  },
  {
   "cell_type": "markdown",
   "id": "a88da3ce-baa0-49e1-b54a-aec5d2ee76aa",
   "metadata": {},
   "source": [
    "## Motivação\n",
    "\n",
    "Estruturas de dados lineares são aquelas que organizam objetos do mesmo tipo de forma sequencial, um após o outro.\n",
    "\n",
    "Arrays, Listas, Filas e Pilhas são exemplos de estruturas de dados dessa categoria. \n",
    "\n",
    "Os exemplos acima tratam de estruturas de apenas uma dimensão. Uma matriz é um exemplo de estrutura multidimensional, amplamente utilizada.\n",
    "\n",
    "Vários problemas podem ser resolvidos utlizando essas estruturas, portanto são fundamentais em computação."
   ]
  },
  {
   "cell_type": "markdown",
   "id": "3ffa001c-d310-4684-9b46-1bea5e42428a",
   "metadata": {},
   "source": [
    "## Objetivos\n",
    "\n",
    "Ao final dessa aula o aluno deverá conhecer:\n",
    "\n",
    "- Diferença entre Lista e Arranjo.\n",
    "- Algumas operações com matrizes.\n",
    "- Principais operações das Listas, Filas e Pilhas."
   ]
  },
  {
   "cell_type": "markdown",
   "id": "7ae00169-a713-4ad8-ba31-2eea1dacea9b",
   "metadata": {},
   "source": [
    "## Arrays ou Arranjos\n",
    "\n",
    "Estrutura estática em que os elementos estão dispostos sequencialmente na memória, de modo que o acesso aos items é feito de forma direta.\n",
    "\n",
    "Características: Acesso direto aos elementos. Difícil rearranjo."
   ]
  },
  {
   "cell_type": "code",
   "execution_count": null,
   "id": "6f2d8ab6-e5b4-4d75-8568-faf691c64569",
   "metadata": {},
   "outputs": [],
   "source": [
    "# array/lista em Python"
   ]
  },
  {
   "cell_type": "markdown",
   "id": "81a28eb5-5c73-4e20-a2c4-05ffe27a7e66",
   "metadata": {},
   "source": [
    "## Listas ligadas\n",
    "\n",
    "Estrutura dinâmica em que os elementos são conectados aos outros por meio de ponteiros. Valores não estão sequenciais na memória.\n",
    "\n",
    "Características: Acesso através dos ponteiros. Fácil rearranjo.\n",
    "\n",
    "Principais operações: Inserção, remoção, busca."
   ]
  },
  {
   "cell_type": "markdown",
   "id": "f9bb5c8f-70ca-4115-a545-34c889e7be19",
   "metadata": {},
   "source": [
    "## Diferenças entre listas e arranjos\n",
    "\n",
    "<div>\n",
    "    <img src=\"../images/array-img.png\" width=\"60%\" heigth=\"60%\"/>\n",
    "</div>\n",
    "\n",
    "<div>\n",
    "    <img src=\"../images/list-mem.png\" width=\"60%\" heigth=\"60%\"/>\n",
    "</div>"
   ]
  },
  {
   "cell_type": "code",
   "execution_count": null,
   "id": "eb198136-f978-4cc1-9c8f-bf83dead8c37",
   "metadata": {},
   "outputs": [],
   "source": [
    "# Vamos implementar uma lista ligada em python\n",
    "# qual a unidade basica de uma lista, como modelar essa tad utilizando classes em python\n",
    "# a ideia aqui é entender o funcionamento de uma lista e suas principais operações"
   ]
  },
  {
   "cell_type": "markdown",
   "id": "6b042f3e-6531-4cfd-8850-50adbf8bd7c3",
   "metadata": {},
   "source": [
    "## Filas\n",
    "\n",
    "Uma lista cujos elementos são inseridos em uma determinada ordem: FIFO. \n",
    "\n",
    "A própria estrutura de dados é implementada para garantir a FIFO.\n",
    "\n",
    "    Exemplos de uso: Busca em largura de grafos (BFS), gerenciamento do compartilhamento de recursos, etc.\n",
    "\n",
    "Principais operações: Inserir na fila (queue), retirar da fila (dequeue).\n",
    "\n",
    "<div>\n",
    "    <img src=\"../images/fila.png\" width=\"60%\" heigth=\"60%\"/>\n",
    "</div>"
   ]
  },
  {
   "cell_type": "code",
   "execution_count": null,
   "id": "fa3d169e-a0c3-4577-86d2-85fd52a33e19",
   "metadata": {},
   "outputs": [],
   "source": [
    "# como modificar a tad de lista pra fila\n",
    "# como implementar uma fila utilizando estrutura estática (array)"
   ]
  },
  {
   "cell_type": "code",
   "execution_count": null,
   "id": "c8eafc95-e654-4d96-956b-99ed49c69d4e",
   "metadata": {},
   "outputs": [],
   "source": [
    "# Filas em python\n",
    "# Problema: Reverter os primeiros K elementos de uma fila."
   ]
  },
  {
   "cell_type": "markdown",
   "id": "cc7c1c22-13cb-4ee5-b93d-2a0283fdb44b",
   "metadata": {},
   "source": [
    "## Pilhas\n",
    "\n",
    "Uma lista cujos elementos são inseridos em uma determinada ordem: LIFO. \n",
    "\n",
    "A própria estrutura de dados é implementada para garantir a LIFO.\n",
    "\n",
    "    Exemplos de uso: Busca em profundidade de grafos (DFS), expressões aritiméticas, backtracking, execução de um programa (chamada de função), etc.\n",
    "\n",
    "Principais operações: Inserir na pilha (push), retirar da pila (pop).\n",
    "\n",
    "<div>\n",
    "    <img src=\"../images/pilha.png\" width=\"60%\" heigth=\"60%\"/>\n",
    "</div>"
   ]
  },
  {
   "cell_type": "code",
   "execution_count": null,
   "id": "e32c298b-e843-4b05-be28-942444474d00",
   "metadata": {},
   "outputs": [],
   "source": [
    "# como modificar a tad de lista pra pilha"
   ]
  },
  {
   "cell_type": "code",
   "execution_count": null,
   "id": "8eda322f-08fd-454b-a549-92ae85af0b96",
   "metadata": {},
   "outputs": [],
   "source": [
    "# Pilhas em Python\n",
    "# Problema: Parênteses balanceados"
   ]
  },
  {
   "cell_type": "markdown",
   "id": "0fee505d-4347-414e-8bac-51cc6a8e939e",
   "metadata": {},
   "source": [
    "## Matrizes\n",
    "\n",
    "Estrutura multidimensional utilizada em vários contextos como representação de grafos, jogos, etc.\n",
    "\n",
    "Pode ser pensada como uma lista de listas.\n",
    "\n",
    "<div>\n",
    "    <img src=\"../images/matriz.png\" width=\"60%\" heigth=\"60%\"/>\n",
    "</div>"
   ]
  },
  {
   "cell_type": "code",
   "execution_count": 4,
   "id": "a709311d-cb69-4785-bd1a-356ba0d8f355",
   "metadata": {},
   "outputs": [
    {
     "name": "stdout",
     "output_type": "stream",
     "text": [
      "[[0, 0, 0, 0, 0], [0, 0, 0, 0, 0], [0, 0, 0, 0, 0], [0, 0, 0, 0, 0], [0, 0, 0, 0, 0]]\n"
     ]
    }
   ],
   "source": [
    "# Matrizes em Python\n",
    "\n",
    "n = 5\n",
    "\n",
    "linha = [0] * n\n",
    "\n",
    "matriz = [linha] * n\n",
    "\n",
    "print(matriz)"
   ]
  },
  {
   "cell_type": "code",
   "execution_count": null,
   "id": "dceb7dc5-2ba2-44ed-9980-5898cd0025fa",
   "metadata": {},
   "outputs": [],
   "source": [
    "# Problema 1: Escrever uma matriz na tela no seguinte formato:\n",
    "# 0 0 0\n",
    "# 0 0 0\n",
    "# 0 0 0"
   ]
  },
  {
   "cell_type": "code",
   "execution_count": null,
   "id": "92ab7072-71fc-4ea1-9344-1fdfa363d7a1",
   "metadata": {},
   "outputs": [],
   "source": [
    "# Problema 2: Multiplicação de matrizes"
   ]
  },
  {
   "cell_type": "markdown",
   "id": "b53c9db5-7d46-4ef8-8195-de56716d4677",
   "metadata": {},
   "source": [
    "## Exercícios\n",
    "\n",
    "Resolver os desafios da lista sobre <a href=\"http://www.hackerrank.com/letscode-1637751148\">estruturas lineares</a> do HackerRank."
   ]
  },
  {
   "cell_type": "code",
   "execution_count": null,
   "id": "d8821be9-c550-4ce6-9881-516c67286586",
   "metadata": {},
   "outputs": [],
   "source": []
  }
 ],
 "metadata": {
  "kernelspec": {
   "display_name": "Python 3",
   "language": "python",
   "name": "python3"
  },
  "language_info": {
   "codemirror_mode": {
    "name": "ipython",
    "version": 3
   },
   "file_extension": ".py",
   "mimetype": "text/x-python",
   "name": "python",
   "nbconvert_exporter": "python",
   "pygments_lexer": "ipython3",
   "version": "3.8.2"
  }
 },
 "nbformat": 4,
 "nbformat_minor": 5
}
