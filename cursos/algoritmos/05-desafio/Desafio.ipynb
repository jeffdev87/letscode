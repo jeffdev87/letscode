{
 "cells": [
  {
   "cell_type": "code",
   "execution_count": null,
   "id": "92481074-80d8-401c-9bd0-542d3560e729",
   "metadata": {},
   "outputs": [],
   "source": [
    "# Voces ja conhecem algumas das principais estruturas de dados: Listas, Filas, Pilhas, Grafos, Arvores e Tabelas Hash.\n",
    "# Alem disso, vcs conhecem alguns dos principais algoritmos de ordenacao e busca existentes e que usamos todo dia.\n",
    "\n",
    "# Nessa altura do curso, vcs devem estar convencidos de que:\n",
    "# 1. Conhecer complexidade de algoritmos e' muito importante para desenvolvermos codigo eficiente.\n",
    "# 2. Conhecer as estruturas de dados e a logica por tras dos algoritmos classicos e' importante para:\n",
    "#    - pensarmos estruturado\n",
    "#    - para termos exemplos de boas praticas\n",
    "#    - para termos exemplos de algoritmos resolvidos segundo determinada estrategia (Divide-and-conquer, greedy, etc.)\n",
    "# 3. Para ser um bom desenvolvedor, mesmo um DS que programa menos do que um dev, nao basta ser apenas um 'pacoteiro'.\n",
    "#    E' preciso conhecer o que estamos importando em nosso codigo. Esse conhecimento fara a diferenca entre um codigo \n",
    "#    que leva horas para executar e um muito mais eficiente que leva minutos.\n",
    "\n",
    "# Para ilustrar, vamos imaginar o seguinte cenario:\n",
    "# 1. Voces precisam processar um arquivo contendo terabytes de dados, usando algum classificador.\n",
    "# 2. Vamos imaginar que esse arquivo contem varias linhas com informacoes sobre usuarios de uma rede: ip, localizacao geo, etc.\n",
    "# 3. Devido ao tamanho do arquivo, nao e possivel utiliza-lo como ele esta, pois o classificador nao dara conta.\n",
    "# 4. Voces descobrem que que esse arquivo pode ser pre-processado, pois ele possui entradas repetidas que podem ser eliminadas.\n",
    "# 5. Vamos supor que sua analise necessite apenas dos dados referetes a ips nao repetidos.\n",
    "# 6. Como voce faria o pre-processamento desse arquivo?\n",
    "# 7. De maneira simplificada, qual o problema a ser resolvido?"
   ]
  },
  {
   "cell_type": "code",
   "execution_count": 22,
   "id": "1ab0f6d1-8f5d-4f00-86d9-228c73fa7072",
   "metadata": {},
   "outputs": [],
   "source": [
    "# data generator for testing\n",
    "import random\n",
    "\n",
    "def get_random_ip():\n",
    "    return f'{random.randrange(1, 255)}.{random.randrange(1, 255)}.{random.randrange(1, 255)}.{random.randrange(1, 255)}'\n",
    "\n",
    "f = open('in_ips.txt', 'w')\n",
    "n_registries = 100\n",
    "n_rep = 10\n",
    "while n_registries > 0:\n",
    "    ip = get_random_ip()\n",
    "    for i in range(0, n_rep):\n",
    "        f.write(f'{ip}\\n')\n",
    "        n_registries -= 1\n",
    "f.close()"
   ]
  },
  {
   "cell_type": "code",
   "execution_count": null,
   "id": "0f3f8a59-f389-4898-8c66-e5738f86f901",
   "metadata": {},
   "outputs": [],
   "source": []
  }
 ],
 "metadata": {
  "kernelspec": {
   "display_name": "Python 3",
   "language": "python",
   "name": "python3"
  },
  "language_info": {
   "codemirror_mode": {
    "name": "ipython",
    "version": 3
   },
   "file_extension": ".py",
   "mimetype": "text/x-python",
   "name": "python",
   "nbconvert_exporter": "python",
   "pygments_lexer": "ipython3",
   "version": "3.8.2"
  }
 },
 "nbformat": 4,
 "nbformat_minor": 5
}
