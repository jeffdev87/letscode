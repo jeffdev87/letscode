{
 "cells": [
  {
   "cell_type": "markdown",
   "id": "b03ffcce-1b88-4d7d-99ee-ff6167dd9aa1",
   "metadata": {},
   "source": [
    "# Analise de Complexidade de Algoritmos"
   ]
  },
  {
   "cell_type": "markdown",
   "id": "a88da3ce-baa0-49e1-b54a-aec5d2ee76aa",
   "metadata": {},
   "source": [
    "## Motivação\n",
    "\n",
    "Programas consomem recursos computacionais, como memória, espaço, largura de banda ou periféricos.\n",
    "\n",
    "Desenvolver algoritmos que façam uso desses recursos de forma eficiente é o principal objetivo de um bom desenvolvedor.\n",
    "\n",
    "O avanço tecnológico, que nos trouxe mais memória e cada vez mais poder de processamento, não é razão para abandonarmos as boas práticas que tornam nossos códigos mais robustos.\n",
    "\n",
    "Algoritmos que fazem operações desnecessárias ou que foram elaborados utilizando uma estratégia que funciona bem para entradas pequenas, mas que não escala ou performa para entradas maiores devem ser evitados.\n",
    "\n",
    "Por essa razão, precisamos conhecer as ferramentas para medir a qualidade de um algoritmo, principalmente, em termos de sua complexidade de tempo e espaço."
   ]
  },
  {
   "cell_type": "markdown",
   "id": "3ffa001c-d310-4684-9b46-1bea5e42428a",
   "metadata": {},
   "source": [
    "## Objetivos\n",
    "\n",
    "Ao final dessa aula o aluno deverá conhecer:\n",
    "\n",
    "- Conceitos fundamentais para a análise de complexidade de algoritmos"
   ]
  },
  {
   "cell_type": "markdown",
   "id": "e5793547-0f50-45fe-b107-77e99700a332",
   "metadata": {},
   "source": [
    "## Análise da eficiência de algoritmos\n",
    "\n",
    "A eficiência de um algoritmo é medida por dois aspectos: Tempo e Espaço.\n",
    "\n",
    "Existem outras qualidades importantes como corretude, simplicidade e generalidade, as quais são mais difíceis de se medir.\n",
    "\n",
    "Portanto, quando falamos em análise de algoritmos, a ênfase está no tempo de execução e espaço em memória.\n",
    "\n",
    "<b>- Complexdade de tempo:</b> Indica o quão rápido o algoritmo em questão executa.\n",
    "\n",
    "<b>- Complexidade de espaço:</b> Refere-se à quantidade de memória requisitada pelo algoritmo."
   ]
  },
  {
   "cell_type": "markdown",
   "id": "2aa3eeba-67fc-4e31-a003-689f41e26eb2",
   "metadata": {},
   "source": [
    "## Conceitos"
   ]
  },
  {
   "cell_type": "markdown",
   "id": "2eae64ce-05ec-46eb-a907-d7a74fc5366a",
   "metadata": {},
   "source": [
    "#### Análise empírica\n",
    "\n",
    "A eficiência de um algoritmo não pode ser medida em termos do seu tempo de execução em uma máquina específica. Qual a razão disso?\n",
    "\n",
    "Como explicar um mesmo algoritmo rodando em mais ou menos tempo para diferentes execuções?\n",
    "\n",
    "Em quais casos a análise empírica pode ser útil?\n",
    "\n",
    "Devido aos problemas inerentes à uma abordagem empírica, precisamos de um meio para calcular e comparar a eficência de algoritmos independentemente de plataforma.\n",
    "\n",
    "Dessa forma, recorremos à análise assintótica da complexidade de algorítmos.\n",
    "\n",
    "Vamos ver um exemplo em Python de como o tempo de execução de um código varia a cada rodada."
   ]
  },
  {
   "cell_type": "code",
   "execution_count": 6,
   "id": "ec5cf084-1cb7-42b8-89b9-b54af8e270e9",
   "metadata": {},
   "outputs": [
    {
     "name": "stdout",
     "output_type": "stream",
     "text": [
      "Total time 0.0366 seconds\n"
     ]
    }
   ],
   "source": [
    "import time\n",
    "\n",
    "start_time = time.perf_counter()\n",
    "\n",
    "# algoritmo ini\n",
    "sum_test = 0\n",
    "for val in range(1, 100000):\n",
    "    sum_test += val\n",
    "#time.sleep(2)\n",
    "# algoritmo fim\n",
    "\n",
    "end_time = time.perf_counter()\n",
    "\n",
    "print(f\"Total time {end_time - start_time:0.4f} seconds\")"
   ]
  },
  {
   "cell_type": "markdown",
   "id": "534742db-6f9d-46f4-8a54-228edc45a7d1",
   "metadata": {},
   "source": [
    "#### Análise assintótica\n",
    "\n",
    "Essa análise foca na tendência de comportamento de um algoritmo quando sua entrada tende ao infinito.\n",
    "\n",
    "O objetivo é identificar uma função matemática (ou simplesmente uma classe de funções conhecida) capaz de descrever o crescimento do tempo de execução de um algoritmo com base na sua entrada.\n",
    "\n",
    "Identificada essa função, podemos entender a eficiência de um algoritmo a medida que sua entrada cresce, e assim conhecer sua ordem de crescimento.\n",
    "\n",
    "<div>\n",
    "    <img src=\"../images/growth-order.png\" width=\"40%\" heigth=\"40%\"/>\n",
    "</div>\n",
    "\n",
    "Mas o que está envolvido nessa função? O tamanho da entrada e alguma medida (e.g. número de operações) que nos permita calcular o quanto o algoritmo escala a medida que sua entrada aumenta.\n",
    "\n",
    "Vamos entender cada componente dessa análise.\n",
    "\n",
    "<div>\n",
    "    <img src=\"../images/growth-order-flow.png\" width=\"60%\" heigth=\"60%\"/>\n",
    "</div>"
   ]
  },
  {
   "cell_type": "markdown",
   "id": "df77ce49-63c5-444b-a7cf-5a8b1ba31668",
   "metadata": {},
   "source": [
    "##### Especificação da entrada do algoritmo\n",
    "\n",
    "A entrada de um algoritmo é aquele valor a ser processado que impacta diretamente em seu desempenho.\n",
    "\n",
    "    Exemplos: Para um algoritmo de ordenação, os elementos a serem ordenados são a entrada. Para um algoritmo de busca o espaço de busca é considerado a entrada, por que?\n",
    "    \n",
    "Sempre especificamos a entrada de um algoritmo utilizando uma variável, geralmente, n.\n",
    "\n",
    "    Exemplo: Dada uma lista de tamanho n que deve ser ordenada, dizemos que a entrada desse algoritmo tem tamanho N."
   ]
  },
  {
   "cell_type": "markdown",
   "id": "b3928d2c-3939-4e31-bb0c-71bee34ff25a",
   "metadata": {},
   "source": [
    "##### Worst-Case, Best-Case, and Average-Case Efficiencies\n",
    "\n",
    "Além do tamanho da entrada, a sua especificidade também impacta no desempenho de um algoritmo.\n",
    "\n",
    "Considerando um algoritmo de busca exaustiva simples:\n",
    "\n",
    "<div>\n",
    "    <img src=\"../images/seq-search.png\" width=\"50%\" heigth=\"50%\"/>\n",
    "</div>\n",
    "\n",
    "O tempo de execução desse algoritmo será diferente mesmo para listas do mesmo tamanho. \n",
    "\n",
    "Portanto, consideramos os seguintes cenários:\n",
    "\n",
    "- Worst-case\n",
    "\n",
    "No pior caso possível, o elemento a ser buscado não está na lista ou está na última posição procurada.\n",
    "\n",
    "- Best-case\n",
    "\n",
    "No melhor caso possível, o elemento a ser buscado está na primeira posição da lista.\n",
    "\n",
    "- Average-case\n",
    "\n",
    "Em média, o elemento a ser buscado estará em qualquer outra posição da lista.\n",
    "\n",
    "Para fins de comparação e análise de algoritmos, <b>focamos sempre no worst-case scenario, ou seja, no pior caso.</b>\n",
    "\n",
    "    Se nosso algoritmo de busca exaustiva precisa verificar a lista inteira, ele será menos eficiente do que um algoritmo que descarta elementos e, portanto, não precisa consultar todos os elementos da lista. Conhece algum?\n",
    "\n",
    "<i>Voltaremos nesse algoritmo para calcular sua complexidade.</i>"
   ]
  },
  {
   "cell_type": "markdown",
   "id": "d1313436-03ba-48ec-8b24-db8891169912",
   "metadata": {},
   "source": [
    "##### Operação básica do algoritmo\n",
    "\n",
    "Como medir o tempo de execução de um algoritmo? Segundos, milisegundos? Quais as desvantagens?\n",
    "\n",
    "Uma opção é calcular o número de operações realizadas por um algoritmo. Como esse trabalho é muito complexo, focamos apenas nas operações básicas.\n",
    "\n",
    "Operação básica é aquela que mais contribui com o tempo de execução de um algoritmo. Geralmente, essa operação será o processamento dentro de um for-loop, por exemplo.\n",
    "\n",
    "    Exemplo: Para algoritmos de Sorting e Searching a operação básica é a comparação de elementos."
   ]
  },
  {
   "cell_type": "markdown",
   "id": "689b08ef-ecf8-4995-98d1-bdeaceb1355a",
   "metadata": {},
   "source": [
    "##### Ordem de Crescimento\n",
    "\n",
    "Na análise de algormitmos estamos mais preocupados com a ordem de crescimento da função que representa sua complexidade, do que com os valores constantes ou multiplicadores.\n",
    "\n",
    "O fator dominante da função é o que define sua ordem de crescimento. O resto pode ser ignorado.\n",
    "\n",
    "    Exemplo: Dada a função f(n) = 7 * n^2 + 5, no formato f(n) = C1 * n^2 + C2, simplesmente eliminamos as constantes e dizemos que sua ordem de crescimento é de n^2.\n",
    "\n",
    "<div>\n",
    "    <img src=\"../images/main-order-growth.png\" width=\"50%\" heigth=\"50%\"/>\n",
    "</div>"
   ]
  },
  {
   "attachments": {
    "9d6f8462-fa90-43e4-b0b2-f93ea14f3762.png": {
     "image/png": "[encoded data removed]"
    }
   },
   "cell_type": "markdown",
   "id": "895667fe-59ac-48b5-bb29-376febab7208",
   "metadata": {},
   "source": [
    "##### Notações\n",
    "\n",
    "As seguintes notações são utilizadas para comparar as diferentes ordens de crescimento.\n",
    "\n",
    "- Big O\n",
    "\n",
    "O(f(n)) é o conjunto de todas as funções com menor ou igual ordem de crescimento do que f(n). Limitante superior.\n",
    "\n",
    "<div>\n",
    "    <img src=\"../images/bigoh.png\" width=\"40%\" heigth=\"40%\"/>\n",
    "</div>\n",
    "\n",
    "Dizemos que a ordem de crescimento da função que define o tempo de execução nunca será maior do que o limitante superior f(n).\n",
    "\n",
    "- Big Omega\n",
    "\n",
    "Ω(f(n)) é o conjunto de todas as funções com maior ou igual ordem de crescimento do que f(n). Limitante inferior.\n",
    "\n",
    "<div>\n",
    "    <img src=\"../images/bigomega.png\" width=\"40%\" heigth=\"40%\"/>\n",
    "</div>\n",
    "\n",
    "Dizemos que a ordem de crescimento da função que define o tempo de execução nunca será menor do que o limitante inferior f(n).\n",
    "\n",
    "- Big Theta\n",
    "\n",
    "Limitante superior e inferior. θ(f(n)) são funções com a mesma ordem de crescimento que f(n).\n",
    "\n",
    "<div>\n",
    "    <img src=\"../images/bigtheta.png\" width=\"40%\" heigth=\"40%\"/>\n",
    "</div>\n",
    "\n",
    "Dizemos que a ordem de crescimento da função que define o tempo de execução está limitada acima e abaixo por f(n) multiplicado por alguma constante k2 (acima) e k1 (abaixo).\n",
    "\n",
    "A notação mais utilizada é o Big O, pois podemos classificar os algoritmos com apenas um limitante superior. Ou seja, a complexidade de um algoritmo nunca será pior do que a função em questão.\n",
    "\n",
    "<b>Usando limites para comparar as funções</b>\n",
    "\n",
    "<div>\n",
    "    <img src=\"../images/lim.png\" width=\"60%\" heigth=\"6![lim.png](attachment:9d6f8462-fa90-43e4-b0b2-f93ea14f3762.png)0%\"/>\n",
    "</div>\n",
    "\n",
    "Caso 1 e Caso 2: t(n) pertence ao O(g(n))\n",
    "Caso 2 e Caso 3: t(n) pertence ao Ω(g(n))\n",
    "Caso 2         : t(n) pertence ao θ(g(n))\n",
    "\n",
    "Vamos analisar as seguintes funções:\n",
    "\n",
    "1. t(n) = n e g(n) = n^2\n",
    "\n",
    "2. t(n) = (1/2)n(n - 1) e g(n) = n^2\n",
    "\n",
    "<b>Uma analogia para simplificar</b>\n",
    "\n",
    "Big O é similar ao relacionamento \"menor ou igual\". Se Bob tem X anos, assumindo que ninguém vive mais do que 130 anos, podemos dizer que X <= 130. Também seria correto dizer X <= 1000 ou X <= 1000000. Isso é tecnicamente correto, mas pouco acurado. Da mesma forma, um algoritmo que imprime elementos na tela é O(N), mas também O(N^2) ou qualquer BigO maior do que isso. A ideia é encontrar a função mais próxima da realidade possível.\n",
    "\n",
    "<b>Classes de eficência</b>\n",
    "\n",
    "Na maioria das vezes a eficiência de tempo dos algoritmos cai em somente algumas classes.\n",
    "\n",
    "<div>\n",
    "    <img src=\"../images/ef-class.png\" width=\"60%\" heigth=\"60%\"/>\n",
    "</div>"
   ]
  },
  {
   "cell_type": "markdown",
   "id": "0531fa7a-2016-49b8-8e75-3e93fa382a4e",
   "metadata": {},
   "source": [
    "##### Passo a passo\n",
    "\n",
    "1. Escreve o algoritmo em pseudo-código;\n",
    "2. Conte as operações básicas (computações de baixo nível que podem ser consideras em tempo constante de execução);\n",
    "3. Análise a complexidade do algoritmo usando a notação Big-Oh."
   ]
  },
  {
   "cell_type": "markdown",
   "id": "763e72bf-717e-4f89-806c-d2b526ecde83",
   "metadata": {},
   "source": [
    "## Exercícios"
   ]
  },
  {
   "cell_type": "markdown",
   "id": "e5b8faeb-beae-482d-8ea1-64eb39e68edb",
   "metadata": {},
   "source": [
    "1. Um algoritmo tradicional e muito utilizado é da ordem de n^1.5, enquanto um algoritmo novo proposto recentemente é da ordem de n log n. Qual algoritmo você adotaria?\n",
    "\n",
    "- f(n)=n^1.5\n",
    "- g(n)=nlogn"
   ]
  },
  {
   "cell_type": "markdown",
   "id": "3ebd0398-42c4-4a01-b800-4a15ffc19e30",
   "metadata": {},
   "source": [
    "2. Ordene as seguintes funções por suas taxas de crescimento:\n",
    "\n",
    "<div>\n",
    "    <img src=\"../images/exe-alg5.png\" width=\"40%\" heigth=\"40%\"/>\n",
    "</div>"
   ]
  },
  {
   "cell_type": "markdown",
   "id": "a3e2ba55-841c-4dfa-bd6c-e3e9e8d61918",
   "metadata": {},
   "source": [
    "3. Vamos calcular a complexidade dos algoritmos abaixo:\n",
    "\n",
    "- 3.1\n",
    "\n",
    "<div>\n",
    "    <img src=\"../images/exe-alg1.png\" width=\"40%\" heigth=\"40%\"/>\n",
    "</div>\n",
    "\n",
    "- 3.2\n",
    "\n",
    "<div>\n",
    "    <img src=\"../images/exe-alg2.png\" width=\"40%\" heigth=\"40%\"/>\n",
    "</div>\n",
    "\n",
    "- 3.3\n",
    "\n",
    "<div>\n",
    "    <img src=\"../images/exe-alg3.png\" width=\"40%\" heigth=\"40%\"/>\n",
    "</div>\n",
    "\n",
    "- 3.4\n",
    "\n",
    "<div>\n",
    "    <img src=\"../images/seq-search.png\" width=\"40%\" heigth=\"40%\"/>\n",
    "</div>"
   ]
  },
  {
   "cell_type": "markdown",
   "id": "2536636f-5d3c-4145-8356-9413da388a9b",
   "metadata": {},
   "source": [
    "4. Para cada um dos seguintes trechos de algoritmos abaixo:\n",
    "\n",
    "    a. Analise o tempo estimado de execução;\n",
    "\n",
    "    b. Implemente o código e execute-o para vários valores de n;\n",
    "\n",
    "    c. Compare sua análise com os tempos obtidos.\n",
    "    \n",
    "<div>\n",
    "    <img src=\"../images/exe-alg4.png\" width=\"40%\" heigth=\"40%\"/>\n",
    "</div>"
   ]
  }
 ],
 "metadata": {
  "kernelspec": {
   "display_name": "Python 3",
   "language": "python",
   "name": "python3"
  },
  "language_info": {
   "codemirror_mode": {
    "name": "ipython",
    "version": 3
   },
   "file_extension": ".py",
   "mimetype": "text/x-python",
   "name": "python",
   "nbconvert_exporter": "python",
   "pygments_lexer": "ipython3",
   "version": "3.8.2"
  }
 },
 "nbformat": 4,
 "nbformat_minor": 5
}
