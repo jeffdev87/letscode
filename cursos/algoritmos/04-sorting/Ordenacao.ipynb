{
 "cells": [
  {
   "cell_type": "markdown",
   "id": "b03ffcce-1b88-4d7d-99ee-ff6167dd9aa1",
   "metadata": {},
   "source": [
    "# Introdução"
   ]
  },
  {
   "cell_type": "markdown",
   "id": "a88da3ce-baa0-49e1-b54a-aec5d2ee76aa",
   "metadata": {},
   "source": [
    "## Motivação\n",
    "\n",
    "Ordenação é uma das tarefas mais corriqueiras que fazemos em programação, pois muitos problemas tornam-se mais simples quando temos uma estrutura ordenada.\n",
    "\n",
    "A definição de ordenada varia de uma estrutura para outra. Por exemplo, uma árvore binária deve obedecer certos critérios para ser considerada uma BST. Uma lista pode estar ordenada de forma ascendente ou descendente, etc.\n",
    "\n",
    "Manter uma estrutura de dados ordenada ou ordená-la do zero depende bastante de como essa estrutura funciona.\n",
    "\n",
    "Por exemplo, uma estrutura Heap, que é uma árvore, possui um algoritmo específico para que ela se mantenha 'ordenada'.\n",
    "\n",
    "Como todo algoritmo, existem diversos algoritmos de ordenação, cada qual com uma ordem de complexidade distinta.\n",
    "\n",
    "Em termos de listas, existem diversos algoritmos que fazem essa tarefa. Vamos estudar o funcionamento de alguns deles hoje.\n",
    "\n",
    "<div>\n",
    "    <img src=\"../images/sorting-table.png\" width=\"50%\" heigth=\"50%\"/>\n",
    "</div>"
   ]
  },
  {
   "cell_type": "markdown",
   "id": "3ffa001c-d310-4684-9b46-1bea5e42428a",
   "metadata": {},
   "source": [
    "## Objetivos\n",
    "\n",
    "Ao final dessa aula o aluno deverá conhecer o funcionamento dos principais algoritmos de ordenação e suas respectivas ordens de complexidade:\n",
    "\n",
    "- Bubble Sort.\n",
    "- Insertion Sort.\n",
    "- Quick-sort.\n",
    "- Counting Sort."
   ]
  },
  {
   "cell_type": "markdown",
   "id": "7ae00169-a713-4ad8-ba31-2eea1dacea9b",
   "metadata": {},
   "source": [
    "## Bubble Sort\n",
    "\n",
    "Técnica: Brute force.\n",
    "\n",
    "Ideia: Comparar os elementos adjacentes trocando-os de lugar se estiverem desordenados. Repetir o processo até que a lista esteja ordenada.\n",
    "\n",
    "A cada iteração desse algoritmo o maior elemento da lista é \"bubbled up\" até sua posição final.\n",
    "\n",
    "Exemplo: arr = [89, 45, 68, 90, 29, 34, 17]\n",
    "\n",
    "<div>\n",
    "    <img src=\"../images/bubble.png\" width=\"50%\" heigth=\"50%\"/>\n",
    "</div>"
   ]
  },
  {
   "cell_type": "code",
   "execution_count": 3,
   "id": "063f2ee5-191a-45b0-8ac6-d82634e1bf1b",
   "metadata": {},
   "outputs": [
    {
     "data": {
      "text/plain": [
       "[0, 0, 0, 1, 2, 3, 4, 5]"
      ]
     },
     "execution_count": 3,
     "metadata": {},
     "output_type": "execute_result"
    }
   ],
   "source": [
    "def bubble_sort(arr):\n",
    "    for i in range(0, len(arr) - 1):\n",
    "        for j in range(0, len(arr) - 1 - i):\n",
    "            if arr[j] > arr[j + 1]:\n",
    "                aux = arr[j]\n",
    "                arr[j] = arr[j + 1]\n",
    "                arr[j + 1] = aux\n",
    "    return arr\n",
    "\n",
    "arr = [5, 4, 3, 2, 1, 0, 0, 0]\n",
    "bubble_sort(arr)"
   ]
  },
  {
   "cell_type": "markdown",
   "id": "c086aff5-6c48-48c7-8151-6e8cca3b005e",
   "metadata": {},
   "source": [
    "Conseguem pensar em um outro algoritmo brute force para ordenar uma lista?"
   ]
  },
  {
   "cell_type": "markdown",
   "id": "c986ee83-7564-4e07-a890-0bf3abf9138f",
   "metadata": {},
   "source": [
    "## Insertion Sort\n",
    "\n",
    "Técnica: Decrease and conquer.\n",
    "\n",
    "Ideia: Dado um arr[0..n-1] que precisa ser ordenado, assumimos que uma versão menor desse problema já esteja resolvida. Ou seja, para ordenar arr[0..n-1], assumimos que o arr[0..n-2] já esteja ordenado.\n",
    "\n",
    "Por exemplo: Supondo um Arr = [4, 2, 3, 5, 6, 1]. Na primeira iteração, assumimos que o arr[0..0] já esteja ordenado. Restando ordernar o arr[1..6].\n",
    "\n",
    "Arr[0] ... [1...n - 1]\n",
    "\n",
    "Arr[4] ... [2, 3, 5, 6, 1]\n",
    "\n",
    "...\n",
    "\n",
    "Arr[0   ...     4] ... [5]\n",
    "\n",
    "Arr[2, 3, 4, 5, 6] ... [1]\n",
    "\n",
    "Exemplo: arr = [89, 45, 68, 90, 29, 34, 17]\n",
    "\n",
    "<div>\n",
    "    <img src=\"../images/ins.png\" width=\"50%\" heigth=\"50%\"/>\n",
    "</div>"
   ]
  },
  {
   "cell_type": "markdown",
   "id": "8a0a3a72-5d57-45bd-a697-11816f948059",
   "metadata": {},
   "source": [
    "## Quick Sort\n",
    "\n",
    "Técnica: Divide and conquer.\n",
    "\n",
    "Ideia: Esse algoritmo escolhe um elemento como pivô e particiona o array fornecido ao redor dele. O pivô pode ser o primeiro elemento, o do meio ou qualquer outro.\n",
    "\n",
    "Dado um array e um elemento x como pivô, o principal processo no quickSort é o partition(). O objetivo dessa função é colocar todos os elementos menores que x antes dele, e todos os elementos maiores que x depois. Tudo isso deve ser feito em tempo linear O(n).\n",
    "\n",
    "Feito isso com o array inicial, o mesmo processo se repete para o array à esquerda do pivot e à direita dele. Esse processo de dividir o array em duas partes é feito logn vezes (altura da árvore de chamadas).\n",
    "\n",
    "Como, cada particionamento leva O(n), e fazemos isso logn vezes, temos que a complexidade do quick sort é de O(nLog(n)).\n",
    "\n",
    "Obs: A parte logn da complexidade do quick sort, depende de como o array é particionado a cada iteração. Ou seja, a escolha do pivô impacta no desempenho do algoritmo. Outro fator que impacta no quick-sort é que seu pior caso é um array ordenado. Por essa razão, dizemos que o pior caso do quick-sort é quadrático.\n",
    "\n",
    "A figura abaixo ilustra apenas o processo de partição do quick-sort, considerando o primeiro elemento da lista como pivô (54). Esse algoritmo é repetido para o subarray à esquerda e à direita recursivamente.\n",
    "\n",
    "<div>\n",
    "    <img src=\"../images/quick.png\" width=\"50%\" heigth=\"50%\"/>\n",
    "</div>\n",
    "\n",
    "A figura abaixo ilustra todo o processo do quick-sort, considerando que o pivô é o último elemento.\n",
    "\n",
    "<div>\n",
    "    <img src=\"../images/quick-1.jpg\" width=\"50%\" heigth=\"50%\"/>\n",
    "</div>"
   ]
  },
  {
   "cell_type": "code",
   "execution_count": 6,
   "id": "95f64eec-e693-4718-a42c-93915633b3bc",
   "metadata": {},
   "outputs": [
    {
     "data": {
      "text/plain": [
       "[0, 0, 1, 2, 3, 4, 5, 100]"
      ]
     },
     "execution_count": 6,
     "metadata": {},
     "output_type": "execute_result"
    }
   ],
   "source": [
    "def ins_sort(arr):\n",
    "    for i in range(1, len(arr)):\n",
    "        curr_val = arr[i]\n",
    "        sarr_idx = i - 1  # last pos of the sorted arr\n",
    "        while sarr_idx >= 0 and curr_val < arr[sarr_idx]:\n",
    "            arr[sarr_idx + 1] = arr[sarr_idx]\n",
    "            sarr_idx -= 1\n",
    "        arr[sarr_idx + 1] = curr_val\n",
    "    return arr\n",
    "\n",
    "arr = [5, 4, 3, 2, 1, 0, 100, 0]\n",
    "ins_sort(arr)"
   ]
  },
  {
   "cell_type": "markdown",
   "id": "6e948db7-e5fa-42e5-85e3-842ac2d2db28",
   "metadata": {},
   "source": [
    "## Counting Sort\n",
    "\n",
    "Diferente dos demais algoritmos que fazem comparaões, este utiliza a contagem dos elementos para realizar a ordenação.\n",
    "\n",
    "Este algoritmo é apropriado para ordenar valores discretos que possuam um range próximo da quantidade de elementos do array original.\n",
    "\n",
    "Isso acontece, pois ele necessita de memória adicional para contar a frequência de cada elemento. E, para isso, utilizamos um array adicional de 0 até o valor máximo do array original.\n",
    "\n",
    "Feita a contagem das frequências, descobrimos a posição dos elementos originais ao fazer a contagem cumulativa do array de frequências.\n",
    "\n",
    "Por exemplo: No array = [2, 2, 1, 1, 3, 3]. O array de frequência seria: freq = [0, 2, 2, 2], ou seja, 0 aparece 0 vezes, 1 aparece 2 vezes e assim por diante. Utilizamos o índice como sendo o valor de interesse.\n",
    "\n",
    "A contagem cumulativa nos daria: cumul = [0, 2, 4, 6]. Dessa forma, podemos percorrer o array original consultando o array cumulativo para descobrir a posição final do elemento. \n",
    "\n",
    "Output: _ _ _ _ _ _ _\n",
    "\n",
    "Elemento 2 -> No array cumulativo temos cumul[2] = 4. Após isso, decrementamos o valor no array cumul: cumul[2] = 3\n",
    "\n",
    "Output: _ _ _ _ 2 _ _\n",
    "\n",
    "Elemento 2 -> No array cumulativo temos cumul[2] = 3. Após isso, decrementamos o valor no array cumul: cumul[2] = 2\n",
    "\n",
    "Output: _ _ _ 2 2 _ _\n",
    "\n",
    "Elemento 1 -> No array cumulativo temos cumul[1] = 2. Após isso, decrementamos o valor no array cumul: cumul[1] = 1\n",
    "\n",
    "Output: _ _ 1 2 2 _ _\n",
    "\n",
    "Elemento 1 -> No array cumulativo temos cumul[1] = 1. Após isso, decrementamos o valor no array cumul: cumul[1] = 0\n",
    "\n",
    "Output: _ 1 1 2 2 _ _\n",
    "\n",
    "Elemento 3 -> No array cumulativo temos cumul[3] = 6. Após isso, decrementamos o valor no array cumul: cumul[3] = 5\n",
    "\n",
    "Output: _ 1 1 2 2 _ 3\n",
    "\n",
    "Elemento 3 -> No array cumulativo temos cumul[3] = 5. Após isso, decrementamos o valor no array cumul: cumul[3] = 4\n",
    "\n",
    "Output: _ 1 1 2 2 3 3\n",
    "\n",
    "Ao final, podemos retornar o array ordenado.\n",
    "\n",
    "Qual a complexidade desse algoritmo? Ele seria melhor que o Quick-sort?"
   ]
  },
  {
   "cell_type": "code",
   "execution_count": 9,
   "id": "4b9caaf3-5839-4c5f-ad47-38bc91b2871f",
   "metadata": {},
   "outputs": [
    {
     "name": "stdout",
     "output_type": "stream",
     "text": [
      "Sorted Array in Ascending Order: \n",
      "[0, 1, 2, 2, 3, 3, 4, 8, 20]\n"
     ]
    }
   ],
   "source": [
    "# Counting sort in Python programming\n",
    "def countingSort(array):\n",
    "    size = len(array)\n",
    "    output = [0] * size\n",
    "\n",
    "    # Initialize count array\n",
    "    max_val = max(array) + 1\n",
    "    count = [0] * max_val\n",
    "\n",
    "    # Store the count of each elements in count array\n",
    "    for i in range(0, size):\n",
    "        count[array[i]] += 1\n",
    "\n",
    "    # Store the cummulative count\n",
    "    for i in range(1, max_val):\n",
    "        count[i] += count[i - 1]\n",
    "\n",
    "    # Find the index of each element of the original array in count array\n",
    "    # place the elements in output array\n",
    "    i = size - 1\n",
    "    while i >= 0:\n",
    "        output[count[array[i]] - 1] = array[i]\n",
    "        count[array[i]] -= 1\n",
    "        i -= 1\n",
    "\n",
    "    # Copy the sorted elements into original array\n",
    "    for i in range(0, size):\n",
    "        array[i] = output[i]\n",
    "\n",
    "\n",
    "data = [0, 4, 2, 2, 8, 3, 3, 1, 20]\n",
    "countingSort(data)\n",
    "print(\"Sorted Array in Ascending Order: \")\n",
    "print(data)"
   ]
  },
  {
   "cell_type": "markdown",
   "id": "b53c9db5-7d46-4ef8-8195-de56716d4677",
   "metadata": {},
   "source": [
    "## Exercícios\n",
    "\n",
    "1. Resolver os desafios da lista sobre <a href=\"https://www.hackerrank.com/sortingprobs\">ordenação</a> do HackerRank.\n",
    "    "
   ]
  }
 ],
 "metadata": {
  "kernelspec": {
   "display_name": "Python 3",
   "language": "python",
   "name": "python3"
  },
  "language_info": {
   "codemirror_mode": {
    "name": "ipython",
    "version": 3
   },
   "file_extension": ".py",
   "mimetype": "text/x-python",
   "name": "python",
   "nbconvert_exporter": "python",
   "pygments_lexer": "ipython3",
   "version": "3.8.2"
  }
 },
 "nbformat": 4,
 "nbformat_minor": 5
}
