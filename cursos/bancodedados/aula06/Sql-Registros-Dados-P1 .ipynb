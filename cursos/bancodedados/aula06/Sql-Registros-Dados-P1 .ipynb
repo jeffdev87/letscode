{
 "cells": [
  {
   "cell_type": "markdown",
   "id": "b664194b",
   "metadata": {},
   "source": [
    "# Introdução ao SQL - Manipulando Registros"
   ]
  },
  {
   "cell_type": "markdown",
   "id": "5f2782b9-fc9a-4569-8883-91609dbb7064",
   "metadata": {},
   "source": [
    "## Recapitulando\n",
    "\n",
    "Comandos apresentados na aula passada."
   ]
  },
  {
   "cell_type": "markdown",
   "id": "65b8af27",
   "metadata": {},
   "source": [
    "## Objetivos\n",
    "\n",
    "Ao final desta aula o aluno deverá conhecer como manipular os registros em bancos de dados."
   ]
  },
  {
   "cell_type": "markdown",
   "id": "db20a0fc",
   "metadata": {
    "heading_collapsed": true
   },
   "source": [
    "## INSERT\n",
    "Usado para inserir um registro numa tabela existente."
   ]
  },
  {
   "cell_type": "markdown",
   "id": "c934d24b",
   "metadata": {
    "hidden": true
   },
   "source": [
    "### Insira os dados de uma agência na tabela.\n",
    "\n",
    "    INSERT INTO agencias(nome, endereco, telefone)\n",
    "    VALUES ('Matriz', 'Rua da espernaça, 76', 11-99898-7417);"
   ]
  },
  {
   "cell_type": "markdown",
   "id": "26ae785b",
   "metadata": {
    "hidden": true
   },
   "source": [
    "### Adicione um registo sem um dos campos, por exemplo, endereço.\n",
    "\n",
    "    INSERT INTO agencias(nome, telefone)\n",
    "    values ('LC', '12-99887-6655');"
   ]
  },
  {
   "cell_type": "markdown",
   "id": "8ee36aa5",
   "metadata": {
    "hidden": true
   },
   "source": [
    "### Adicione um registro sem o campo nome. O que aconteceu?\n",
    "\n",
    "    INSERT INTO agencias(endereco, telefone)\n",
    "    VALUES ('Rua do não sei, 171', '13-11122-3344');"
   ]
  },
  {
   "cell_type": "markdown",
   "id": "3ba9ef6a",
   "metadata": {
    "hidden": true
   },
   "source": [
    "Resultado:\n",
    "\n",
    "<img src=\"./images/Error1.png\" width=\"60%\" height=\"60%\"/>"
   ]
  },
  {
   "cell_type": "markdown",
   "id": "c17914c7-c74f-4afc-9850-a3bfa37a9b7c",
   "metadata": {},
   "source": [
    "## INSERT COM SELECT\n",
    "\n",
    "Podemos inserir dados em uma tabela a partir de um SELECT.\n",
    "\n",
    "    INSERT INTO employee2 (last_name, first_name)\n",
    "    SELECT last_name, first_name FROM employees;\n",
    "\n",
    "Cuidado com as colunas retornadas pelo SELECT, pois precisam ser compatíveis com as colunas da tabela."
   ]
  },
  {
   "cell_type": "markdown",
   "id": "d2809b82-63f5-403e-9ab4-178fb4136ffa",
   "metadata": {},
   "source": [
    "## INSERT COM MÚLTIPLAS LINHAS\n",
    "\n",
    "    INSERT INTO aluno(cpf, nome, matricula)\n",
    "    VALUES('1', 'A', 'M1'), ('2', 'B', 'M2')"
   ]
  },
  {
   "cell_type": "markdown",
   "id": "b3035c78",
   "metadata": {},
   "source": [
    "## UPDATE\n",
    "\n",
    "Usado para alterar valores de dados em um ou mais registros de uma tabela."
   ]
  },
  {
   "cell_type": "markdown",
   "id": "2f985b88",
   "metadata": {},
   "source": [
    "### Corrija o campo telefone da agência matriz.\n",
    "\n",
    "    UPDATE agencias\n",
    "    SET telefone = '11-99898-7417'\n",
    "    WHERE agencia_id = 1;"
   ]
  },
  {
   "cell_type": "markdown",
   "id": "a897c3e1",
   "metadata": {},
   "source": [
    "Cuidado com a falta do WHERE!\n",
    "\n",
    "    UPDATE agencias\n",
    "    SET endereco = 'Av. Não esqueça o WHERE';"
   ]
  },
  {
   "cell_type": "markdown",
   "id": "fe2e0288",
   "metadata": {},
   "source": [
    "## DELETE\n",
    "Usado para remover registros de uma tabela.\n",
    "\n",
    "### Delete o registro de nome = 'LC'?\n",
    "\n",
    "    DELETE FROM agencias\n",
    "    where nome = 'LC';"
   ]
  }
 ],
 "metadata": {
  "kernelspec": {
   "display_name": "Python 3 (ipykernel)",
   "language": "python",
   "name": "python3"
  },
  "language_info": {
   "codemirror_mode": {
    "name": "ipython",
    "version": 3
   },
   "file_extension": ".py",
   "mimetype": "text/x-python",
   "name": "python",
   "nbconvert_exporter": "python",
   "pygments_lexer": "ipython3",
   "version": "3.10.2"
  },
  "toc": {
   "base_numbering": 1,
   "nav_menu": {},
   "number_sections": true,
   "sideBar": true,
   "skip_h1_title": false,
   "title_cell": "Table of Contents",
   "title_sidebar": "Contents",
   "toc_cell": false,
   "toc_position": {
    "height": "calc(100% - 180px)",
    "left": "10px",
    "top": "150px",
    "width": "208.188px"
   },
   "toc_section_display": true,
   "toc_window_display": true
  }
 },
 "nbformat": 4,
 "nbformat_minor": 5
}
