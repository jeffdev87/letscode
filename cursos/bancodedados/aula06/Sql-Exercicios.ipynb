{
 "cells": [
  {
   "cell_type": "markdown",
   "id": "77cb0c1c-25b6-457a-8180-617aa6ab9e28",
   "metadata": {},
   "source": [
    "## Exercícios\n",
    "\n",
    "### Instruções\n",
    "\n",
    "Escreva e execute o comando SQL que responde a cada questão.\n",
    "\n",
    "Utilize o banco de dados `northwind.sql`, localizado na pasta <b>bancodedados\\material\\databases</b> do curso.\n",
    "\n",
    "### Q1\n",
    "\n",
    "Crie duas tabelas: produto e categoria. Essas duas tabelas devem estar relacionadas.\n",
    "\n",
    "- Considere que o produto possui uma descrição, preço, frete e categoria. \n",
    "- Considere que a categoria possui apenas uma descrição. \n",
    "- Não esqueça de inserir as chaves primárias e estrangeira da forma correta, de modo a criar o relacionamento entre as tabelas.\n",
    "\n",
    "### Q2\n",
    "\n",
    "Adicione 3 registros em cada tabela.\n",
    "\n",
    "### Q3\n",
    "\n",
    "Crie duas tabelas: turmas e alunos. Essas duas tabelas devem estar relacionadas. \n",
    "\n",
    "- Um aluno pode pertencer a muitas turmas e uma turma deve conter muitos alunos (tabela extra).\n",
    "- Considere que o aluno possui: nome, matrícula, data de nascimento e e-mail. \n",
    "- A turma possui os atributos descrição, professor (considere apenas um), data de início, e data de término.\n",
    "\n",
    "### Q4\n",
    "\n",
    "Adicione 3 registros em cada tabela.\n",
    "\n",
    "### Q5\n",
    "\n",
    "Copie o resultado de uma consulta qualquer para um arquivo utilizando o comando COPY.\n",
    "\n",
    "### Q6\n",
    "\n",
    "No banco de dados do `northwind`, obtenha:\n",
    "\n",
    "Criar uma view com: `categoria|numero_de_pedidos|valor_total|media_de_valores`  \n",
    "   \n",
    "Dica: Categorizar as ordens de acordo com o preço total (incluindo frete) em:\n",
    "\n",
    "- Gold: valor_total >= 5.000\n",
    "- Silver: 1.000 <= valor_total < 5.000\n",
    "- Bronze: valor_total < 1000\n"
   ]
  },
  {
   "cell_type": "code",
   "execution_count": null,
   "id": "466802f2-d42d-47f4-b1fd-bb4c1137aa00",
   "metadata": {},
   "outputs": [],
   "source": []
  }
 ],
 "metadata": {
  "kernelspec": {
   "display_name": "Python 3 (ipykernel)",
   "language": "python",
   "name": "python3"
  },
  "language_info": {
   "codemirror_mode": {
    "name": "ipython",
    "version": 3
   },
   "file_extension": ".py",
   "mimetype": "text/x-python",
   "name": "python",
   "nbconvert_exporter": "python",
   "pygments_lexer": "ipython3",
   "version": "3.10.2"
  }
 },
 "nbformat": 4,
 "nbformat_minor": 5
}
