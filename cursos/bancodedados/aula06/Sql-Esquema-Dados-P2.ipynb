{
 "cells": [
  {
   "cell_type": "markdown",
   "id": "e191498b",
   "metadata": {},
   "source": [
    "# Introdução ao SQL - Esquema e Dados"
   ]
  },
  {
   "cell_type": "markdown",
   "id": "b47025a8",
   "metadata": {},
   "source": [
    "## Recapitulando\n",
    "\n",
    "Comandos apresentados na aula passada."
   ]
  },
  {
   "cell_type": "markdown",
   "id": "08b41322",
   "metadata": {},
   "source": [
    "## Objetivos"
   ]
  },
  {
   "cell_type": "markdown",
   "id": "65b8af27",
   "metadata": {},
   "source": [
    "Ao final desta aula o aluno deverá conhecer:\n",
    "\n",
    "1. A utilidade das VIEWS.\n",
    "1. As diferenças entre Materialized Views e Views.\n",
    "1. Os comandos para copiar os dados de uma tabela em arquivos.\n",
    "1. Como executar um script SQL utilizando a ferramenta psql."
   ]
  },
  {
   "cell_type": "markdown",
   "id": "c81bd31c-0fd7-4c5c-ab48-cdd4e7277fc8",
   "metadata": {},
   "source": [
    "# Views"
   ]
  },
  {
   "cell_type": "markdown",
   "id": "4bdc062f",
   "metadata": {},
   "source": [
    "E se precisarmos usar o resultado de uma query diversas vezes?\n",
    "\n",
    "Podemos criar uma `VIEW` e acessar esse resultado como se fosse uma tabela!\n",
    "\n",
    "O resultado das views não são armazenados no banco. A consulta que define a view é executada toda vez que é referenciada por alguma consulta.\n",
    "\n",
    "Para armazenar os resultados, utiliza-se as <a href=\"https://www.postgresql.org/docs/9.3/rules-materializedviews.html\"> Materialized Views</a>."
   ]
  },
  {
   "cell_type": "markdown",
   "id": "7f0222e3",
   "metadata": {},
   "source": [
    "## CREATE VIEW ... AS"
   ]
  },
  {
   "cell_type": "markdown",
   "id": "36519fc3",
   "metadata": {},
   "source": [
    "Criar a view:\n",
    "\n",
    "    CREATE VIEW quantidade_de_cursos_por_aluno as (\n",
    "        SELECT id_aluno, count(*)\n",
    "        from turma_aluno\n",
    "        group by id_aluno\n",
    "        having count(*) > 1\n",
    "    );"
   ]
  },
  {
   "cell_type": "markdown",
   "id": "820bbfd2",
   "metadata": {},
   "source": [
    "Resultado:\n",
    "\n",
    "<img src=\"./images/View.png\" width=\"60%\" height=\"60%\"/>"
   ]
  },
  {
   "cell_type": "markdown",
   "id": "e353cbe0",
   "metadata": {},
   "source": [
    "Consultar a view:\n",
    "\n",
    "    SELECT COUNT(*) FROM quantidade_de_cursos_por_aluno;"
   ]
  },
  {
   "cell_type": "markdown",
   "id": "c1b3b395-0941-4140-8f65-bd7721cdcc12",
   "metadata": {},
   "source": [
    "## CREATE MATERIALIZED VIEW ... AS\n",
    "\n",
    "    CREATE MATERIALIZED VIEW total_prod_vendido AS (\n",
    "        SELECT product_id, SUM(quantity) AS total_vendido\n",
    "        FROM order_details\n",
    "        GROUP BY product_id\n",
    "        ORDER BY total_vendido\n",
    "    );\n",
    "    \n",
    "As visões materializadas encontram-se no nó Materialized Views no PgAdmin."
   ]
  },
  {
   "cell_type": "markdown",
   "id": "5a47ca82-473c-4fbb-a4f8-bcf698d9f3ef",
   "metadata": {},
   "source": [
    "## REFRESH VIEW\n",
    "\n",
    "Como as visões materializadas de fato armazenam os resultados no banco, é preciso atualiza-las de tempos em tempos.\n",
    "\n",
    "Considerando a visão materializada do exemplo, se a tabela order_details (utilizada na criação da view) for atualizada, o resultado da view ficará obsoleto.\n",
    "\n",
    "    REFRESH MATERIALIZED VIEW total_prod_vendido;"
   ]
  },
  {
   "cell_type": "markdown",
   "id": "c79b325f",
   "metadata": {},
   "source": [
    "## DROP VIEW ..."
   ]
  },
  {
   "cell_type": "markdown",
   "id": "75608704",
   "metadata": {},
   "source": [
    "Quando a análise ficou obsoleta e não precisamos mais desses dados."
   ]
  },
  {
   "cell_type": "markdown",
   "id": "9f7c2e2a",
   "metadata": {},
   "source": [
    "Query:\n",
    "\n",
    "    DROP VIEW quantidade_de_cursos_por_aluno;"
   ]
  },
  {
   "cell_type": "markdown",
   "id": "f45a0b72",
   "metadata": {},
   "source": [
    "## REPLACE VIEW"
   ]
  },
  {
   "cell_type": "markdown",
   "id": "a5910e28",
   "metadata": {},
   "source": [
    "Vamos atualizar os dados!"
   ]
  },
  {
   "cell_type": "markdown",
   "id": "ea449f21",
   "metadata": {},
   "source": [
    "Query:\n",
    "\n",
    "    CREATE OR REPLACE VIEW count_all_view as (\n",
    "        SELECT id_aluno, count(*) cursos\n",
    "        from turma_aluno\n",
    "        group by id_aluno\n",
    "        having count(*) > 2\n",
    "    );"
   ]
  },
  {
   "cell_type": "markdown",
   "id": "53343acb-7f43-40bb-998d-8482945bf302",
   "metadata": {},
   "source": [
    "## Utilidade prática das Views: \n",
    "\n",
    "1 - Views simples:\n",
    "    \n",
    "    Prover acesso a dados específicos sem a necessidade de liberar acesso a todo o banco para terceiros.\n",
    "    \n",
    "    Dessa forma, não é necessário que terceiros conheçam detalhes sobre o banco, suas tabelas, etc.\n",
    "    \n",
    "2 - Views materializadas:\n",
    "\n",
    "    Permite que o banco faça um cache dos resultados de uma consulta muito custosa.\n",
    "    \n",
    "    Não será necessário o gasto de tempo processando a consulta, pois ela já estará pré-processada."
   ]
  },
  {
   "cell_type": "markdown",
   "id": "533561d0-3405-455d-878f-e978971bbd38",
   "metadata": {},
   "source": [
    "# Copy\n",
    "\n",
    "Comando útil para importar ou exportar os dados de uma consulta de/para um arquivo.\n",
    "\n",
    "<a href=\"https://dbtut.com/index.php/2021/01/07/postgresql-copy-command-example/\">Exemplos de como utilizar os comandos COPY.</a>\n",
    "\n",
    "## Copiado uma tabela para um arquivo \n",
    "\n",
    "    COPY aluno TO 'C:\\Users\\Public\\db-copy-test\\aluno2.copy' DELIMITER ',' CSV HEADER;\n",
    "\n",
    "## Copiado os dados de um arquivo para uma tabela\n",
    "\n",
    "    COPY aluno FROM 'C:\\Users\\Public\\db-copy-test\\aluno.copy' DELIMITER ',' CSV HEADER;\n",
    "    \n",
    "O comando COPY exige permissão de acesso para escrever ou ler de arquivos. \n",
    "\n",
    "O comando COPY não cria uma tabela do zero, é necessário que a tabela já exista pra importar os dados.\n",
    "\n",
    "É possível copiar o conteúdo de uma consulta utilizando o comando COPY TO.\n",
    "\n",
    "    COPY (SELECT * FROM aluno) TO 'C:\\Users\\Public\\db-copy-test\\aluno_nome.csv' DELIMITER ',' CSV HEADER;\n",
    "\n",
    "CSV HEADER cria o arquivo com os nomes das colunas na primeira linha.\n",
    "\n",
    "Utilize CSV HEADER no comando FROM se o arquivo utilizado possui header, caso contrário o comando falhará.\n",
    "\n",
    "A maneira mais simples de utilizá-lo sem problemas é utilizar o diretório `C:\\Users\\Public\\` que é público para todos os usuários do sistema."
   ]
  },
  {
   "cell_type": "markdown",
   "id": "0545668e",
   "metadata": {},
   "source": [
    "## Exercícios\n",
    "\n",
    "### Instruções\n",
    "\n",
    "Escreva e execute o comando SQL que responde a cada questão.\n",
    "\n",
    "Utilize o banco de dados `northwind.sql`, localizado na pasta <b>bancodedados\\material\\databases</b> do curso.\n",
    "\n",
    "### Q1\n",
    "\n",
    "No banco de dados do `northwind`, obtenha:\n",
    "\n",
    "Criar uma view com: `categoria|numero_de_pedidos|valor_total|media_de_valores`  \n",
    "   \n",
    "Dica: Categorizar as ordens de acordo com o preço total (incluindo frete) em:\n",
    "\n",
    "- Gold: valor_total >= 5.000\n",
    "- Silver: 1.000 <= valor_total < 5.000\n",
    "- Bronze: valor_total < 1000\n",
    "\n",
    "### Q2\n",
    "\n",
    "Copie o resultado de uma consulta qualquer para um arquivo utilizando o comando COPY."
   ]
  }
 ],
 "metadata": {
  "kernelspec": {
   "display_name": "Python 3",
   "language": "python",
   "name": "python3"
  },
  "language_info": {
   "codemirror_mode": {
    "name": "ipython",
    "version": 3
   },
   "file_extension": ".py",
   "mimetype": "text/x-python",
   "name": "python",
   "nbconvert_exporter": "python",
   "pygments_lexer": "ipython3",
   "version": "3.8.2"
  },
  "toc": {
   "base_numbering": 1,
   "nav_menu": {},
   "number_sections": true,
   "sideBar": true,
   "skip_h1_title": false,
   "title_cell": "Table of Contents",
   "title_sidebar": "Contents",
   "toc_cell": false,
   "toc_position": {},
   "toc_section_display": true,
   "toc_window_display": true
  }
 },
 "nbformat": 4,
 "nbformat_minor": 5
}
