{
 "cells": [
  {
   "cell_type": "markdown",
   "id": "7a6e3c98-a765-4961-a1f8-5b0bb1791149",
   "metadata": {},
   "source": [
    "# Introdução a Base de Dados e SGBDs"
   ]
  },
  {
   "cell_type": "markdown",
   "id": "1f3b06e6-4713-4784-bcb0-c73eda881ef8",
   "metadata": {},
   "source": [
    "## Ementa do Curso\n",
    "\n",
    "Vamos conhecer o conteúdo que iremos cobrir durante as aulas.\n",
    "\n",
    "A ementa está no arquivo turmas/bancodedados/dsdegree-767-ementa.xlsx."
   ]
  },
  {
   "cell_type": "markdown",
   "id": "6fb5d9fb-7b27-411e-b1c3-51634e12af3c",
   "metadata": {},
   "source": [
    "## Motivação\n",
    "\n",
    "Dados estão no centro de praticamente todos os sistemas computacionais. </br>\n",
    "\n",
    "Como lidar com terabytes de dados de forma eficiente?</br>\n",
    "\n",
    "Arquivos em disco? Como manter? Como recuperar dados?</br>\n",
    "\n",
    "Solução mais robusta -> SGBDs :)\n",
    "\n",
    "<center><img src=\"./Fig-DB-Usage.png\" alt=\"Exemplo de aplicacoes de banco de dados\" width=\"25%\" height=\"25%\"/></center>"
   ]
  },
  {
   "cell_type": "markdown",
   "id": "08c56ba0-0a32-4921-a64c-5ce13ab17709",
   "metadata": {},
   "source": [
    "## Objetivos\n",
    "\n",
    "Ao final desta aula o aluno deverá conhecer:\n",
    "\n",
    "<ul>\n",
    "    <li> Onde banco de dados se encaixa na ciência da computação </li>\n",
    "    <li> Motivação para o uso de banco de dados </li>\n",
    "    <li> Principais conceitos de BD; </li>\n",
    "    <li> Principais componentes de um SGBD; </li>\n",
    "    <li> Diferentes tipos de SGBDs </li>\n",
    "</ul>"
   ]
  },
  {
   "cell_type": "markdown",
   "id": "f024aa19-71e4-4431-b19f-e14030a23b1e",
   "metadata": {},
   "source": [
    "## Conceitos\n",
    "\n",
    "<b>1. Dados</b>: Fatos conhecidos que podem ser armazenados e que possuem um significado implícito.\n",
    "\n",
    "<i>Exemplo: Nomes, telefones, endereços, etc.</i>\n",
    "\n",
    "<b>2. Banco de dados (BD)</b>: Coleção de dados relacionados entre si que atendem a um propósito específico.\n",
    "\n",
    "<i>Exemplo: Agenda de contatos, planilha de Excel, arquivo em formato csv, etc.</i>\n",
    "\n",
    "<b>3. Sistema Gerenciador de Banco de Dados (SGBD)</b>: Sistema computadorizado de propósito geral que permite a criação e manutenção de um BD.\n",
    "\n",
    "Oferece basicamente os seguintes recursos:\n",
    "\n",
    "<ul>\n",
    "    <li>Suporte à definição dos tipos de dados, estruturas e restrições.</li>\n",
    "    <li>Permite transações de leitura, escrita, atualização e remoção dos dados (CRUD).</li>\n",
    "    <li>Oferece uma interface para consultas.</li>\n",
    "    <li>Permite acesso à múltiplos usuários e programas.</li>\n",
    "    <li>Garante eficiência, segurança e agilidade.</li>\n",
    "</ul>\n",
    "\n",
    "<center>\n",
    "    <img src=\"./Fig-SGBD.png\" alt=\"Esquema simplificado de um SGBD\" width=\"40%\" height=\"40%\"/>\n",
    "</center>\n",
    "\n",
    "<i>Exemplo: PostgreSQL, Oracle, MySQL, MongoDB, KustoDB, etc.</i>\n",
    "\n",
    "<b>4. Metadado</b>: Descreve a estrutura interna de um BD em um SGBD.\n",
    "\n",
    "<i>Exemplo: Esquema do BD, tipo de dados armazenados, information_schema, etc.</i>\n",
    "\n",
    "<b>5. Indexação</b>: Estratégias e estruturas para otimizar o acesso aos dados armazenados.\n",
    "\n",
    "<i>Exemplo: Índice de um livro, Bitmap index, BTree, <a href=\"https://www.postgresql.org/docs/9.1/indexes-types.html\"> Índices em PostgreSQL </a>, etc. </i>\n",
    "\n",
    "#### Índice Bitmap de Junção\n",
    "\n",
    "Bom desempenho em consultas (operações lógicas), funciona melhor em atributos categóricos de baixa cardinalidade (e.g Cargo, Gênero, etc).\n",
    "\n",
    "Custo alto de atualização. Melhor opção para BDs com pouca atualizacao (Data Warehouse).\n",
    "\n",
    "Otimizado com estratégias de compressão e codificação.\n",
    "\n",
    "<center>\n",
    "    <img src=\"./Fig-Bitmap.png\" alt=\"Esquema simplificado de um SGBD\" width=\"40%\" height=\"40%\"/>\n",
    "</center>\n",
    "\n",
    "#### BTree\n",
    "\n",
    "Ótimo desempenho para atributos com relação de ordem (números).\n",
    "\n",
    "Complexidade da busca reduzida de O(n) para O(logn) -> altura da árvore.\n",
    "\n",
    "<div>\n",
    "    <img src=\"./Fig-BST.png\" alt=\"Esquema simplificado de um SGBD\" width=\"60%\" height=\"60%\" style=\"float:left\"/>\n",
    "    <img src=\"./Fig-B+T.png\" alt=\"Esquema simplificado de um SGBD\" width=\"70%\" height=\"70%\" style=\"float:left\"/>\n",
    "</div>"
   ]
  },
  {
   "cell_type": "markdown",
   "id": "bb722673-c2c6-4694-b7d5-fcc053bb8ab2",
   "metadata": {},
   "source": [
    "## Classificação dos SGBDs\n",
    "\n",
    "SGBDs podem ser classificados de acordo com o modelo de dados em que se baseiam, como por exemplo:\n",
    "    \n",
    "<b>1. Modelo Relacional (SQL)</b><br/>\n",
    "2. Modelos baseados em chave-valor, documentos, grafos, XML (Big Data, NoSQL)<br/>\n",
    "3. Modelo orientado a objetos, etc <br/>\n",
    "\n",
    "<center>\n",
    "    <img src=\"./Fig-REL_Squema.png\" alt=\"Modelo Relacional\" width=\"40%\" height=\"40%\"/>\n",
    "    <img src=\"./Fig-Doc_Squema.png\" alt=\"Modelo documento\" width=\"30%\" height=\"30%\"/>\n",
    "</center>\n",
    "\n",
    "SGBDs relacionais são os mais difundidos atualmente, possuem forte fundamentação matemática (álgebra relacional e teoria dos conjuntos) e um padrão e linguagem bem estabelicidos, como SQL.\n",
    "\n",
    "<i> Exemplos de SGBDs relacionais comerciais: PostgreSQL, Oracle, MySQL, etc.</i>"
   ]
  },
  {
   "cell_type": "markdown",
   "id": "433dce55-ec99-4e2f-8794-e2c6d50728c3",
   "metadata": {},
   "source": [
    "## Referências\n",
    "\n",
    "ELMASRI, R.; NAVATHE, S.B. Fundamentals of Database Systems, 7th Edition"
   ]
  }
 ],
 "metadata": {
  "kernelspec": {
   "display_name": "Python 3",
   "language": "python",
   "name": "python3"
  },
  "language_info": {
   "codemirror_mode": {
    "name": "ipython",
    "version": 3
   },
   "file_extension": ".py",
   "mimetype": "text/x-python",
   "name": "python",
   "nbconvert_exporter": "python",
   "pygments_lexer": "ipython3",
   "version": "3.8.2"
  }
 },
 "nbformat": 4,
 "nbformat_minor": 5
}
