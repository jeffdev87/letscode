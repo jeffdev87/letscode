{
 "cells": [
  {
   "cell_type": "markdown",
   "id": "e191498b",
   "metadata": {},
   "source": [
    "# Introdução ao SQL"
   ]
  },
  {
   "cell_type": "markdown",
   "id": "b47025a8",
   "metadata": {},
   "source": [
    "## Recapitulando\n",
    "\n",
    "Comandos apresentados na aula passada."
   ]
  },
  {
   "cell_type": "markdown",
   "id": "08b41322",
   "metadata": {},
   "source": [
    "## Objetivos"
   ]
  },
  {
   "cell_type": "markdown",
   "id": "65b8af27",
   "metadata": {},
   "source": [
    "Ao final desta aula o aluno deverá conhecer:\n",
    "\n",
    "1. A utilidade das VIEWS.\n",
    "1. As diferenças entre Materialized Views e Views.\n",
    "1. Os comandos para copiar os dados de uma tabela em arquivos.\n",
    "1. Como executar um script SQL utilizando a ferramenta psql."
   ]
  },
  {
   "cell_type": "markdown",
   "id": "c81bd31c-0fd7-4c5c-ab48-cdd4e7277fc8",
   "metadata": {},
   "source": [
    "# Views"
   ]
  },
  {
   "cell_type": "markdown",
   "id": "4bdc062f",
   "metadata": {},
   "source": [
    "E se precisarmos usar o resultado de uma query diversas vezes?\n",
    "\n",
    "Podemos criar uma `VIEW` e acessar esse resultado como se fosse uma tabela!\n",
    "\n",
    "O resultado das views não são armazenados no banco. A consulta que define a view é executada toda vez que é referenciada por alguma consulta.\n",
    "\n",
    "Para armazenar os resultados, utiliza-se as <a href=\"https://www.postgresql.org/docs/9.3/rules-materializedviews.html\"> Materialized Views</a>."
   ]
  },
  {
   "cell_type": "markdown",
   "id": "7f0222e3",
   "metadata": {},
   "source": [
    "## CREATE VIEW ... AS"
   ]
  },
  {
   "cell_type": "markdown",
   "id": "36519fc3",
   "metadata": {},
   "source": [
    "Criar a view:\n",
    "\n",
    "    CREATE VIEW quantidade_de_cursos_por_aluno as (\n",
    "        SELECT id_aluno, count(*)\n",
    "        from turma_aluno\n",
    "        group by id_aluno\n",
    "        having count(*) > 1\n",
    "    );"
   ]
  },
  {
   "cell_type": "markdown",
   "id": "820bbfd2",
   "metadata": {},
   "source": [
    "Resultado:\n",
    "\n",
    "<img src=\"./View.png\" width=\"60%\" height=\"60%\"/>"
   ]
  },
  {
   "cell_type": "markdown",
   "id": "e353cbe0",
   "metadata": {},
   "source": [
    "Consultar a view:\n",
    "\n",
    "    SELECT COUNT(*) FROM quantidade_de_cursos_por_aluno;"
   ]
  },
  {
   "cell_type": "markdown",
   "id": "c1b3b395-0941-4140-8f65-bd7721cdcc12",
   "metadata": {},
   "source": [
    "## CREATE MATERIALIZED VIEW ... AS\n",
    "\n",
    "    CREATE MATERIALIZED VIEW total_prod_vendido AS (\n",
    "        SELECT product_id, SUM(quantity) AS total_vendido\n",
    "        FROM order_details\n",
    "        GROUP BY product_id\n",
    "        ORDER BY total_vendido\n",
    "    );\n",
    "    \n",
    "As visões materializadas encontram-se no nó Materialized Views no PgAdmin."
   ]
  },
  {
   "cell_type": "markdown",
   "id": "5a47ca82-473c-4fbb-a4f8-bcf698d9f3ef",
   "metadata": {},
   "source": [
    "## REFRESH VIEW\n",
    "\n",
    "Como as visões materializadas de fato armazenam os resultados no banco, é preciso atualiza-las de tempos em tempos.\n",
    "\n",
    "Considerando a visão materializada do exemplo, se a tabela order_details (utilizada na criação da view) for atualizada, o resultado da view ficará obsoleto.\n",
    "\n",
    "    REFRESH MATERIALIZED VIEW total_prod_vendido;"
   ]
  },
  {
   "cell_type": "markdown",
   "id": "c79b325f",
   "metadata": {},
   "source": [
    "## DROP VIEW ..."
   ]
  },
  {
   "cell_type": "markdown",
   "id": "75608704",
   "metadata": {},
   "source": [
    "Quando a análise ficou obsoleta e não precisamos mais desses dados."
   ]
  },
  {
   "cell_type": "markdown",
   "id": "9f7c2e2a",
   "metadata": {},
   "source": [
    "Query:\n",
    "\n",
    "    DROP VIEW quantidade_de_cursos_por_aluno;"
   ]
  },
  {
   "cell_type": "markdown",
   "id": "f45a0b72",
   "metadata": {},
   "source": [
    "## REPLACE VIEW"
   ]
  },
  {
   "cell_type": "markdown",
   "id": "a5910e28",
   "metadata": {},
   "source": [
    "Vamos atualizar os dados!"
   ]
  },
  {
   "cell_type": "markdown",
   "id": "ea449f21",
   "metadata": {},
   "source": [
    "Query:\n",
    "\n",
    "    CREATE OR REPLACE VIEW count_all_view as (\n",
    "        SELECT id_aluno, count(*) cursos\n",
    "        from turma_aluno\n",
    "        group by id_aluno\n",
    "        having count(*) > 2\n",
    "    );"
   ]
  },
  {
   "cell_type": "markdown",
   "id": "53343acb-7f43-40bb-998d-8482945bf302",
   "metadata": {},
   "source": [
    "## Utilidade prática das Views: \n",
    "\n",
    "1 - Views simples:\n",
    "    \n",
    "    Prover acesso a dados específicos sem a necessidade de liberar acesso a todo o banco para terceiros.\n",
    "    \n",
    "    Dessa forma, não é necessário que terceiros conheçam detalhes sobre o banco, suas tabelas, etc.\n",
    "    \n",
    "2 - Views materializadas:\n",
    "\n",
    "    Permite que o banco faça um cache dos resultados de uma consulta muito custosa.\n",
    "    \n",
    "    Não será necessário o gasto de tempo processando a consulta, pois ela já estará pré-processada."
   ]
  },
  {
   "cell_type": "markdown",
   "id": "533561d0-3405-455d-878f-e978971bbd38",
   "metadata": {},
   "source": [
    "# Copy\n",
    "\n",
    "Comando útil para importar ou exportar os dados de uma consulta de/para um arquivo.\n",
    "\n",
    "<a href=\"https://dbtut.com/index.php/2021/01/07/postgresql-copy-command-example/\">Exemplos de como utilizar os comandos COPY.</a>\n",
    "\n",
    "## Copiado uma tabela para um arquivo \n",
    "\n",
    "    COPY aluno TO 'C:\\Users\\Public\\db-copy-test\\aluno2.copy' DELIMITER ',' CSV HEADER;\n",
    "\n",
    "## Copiado os dados de um arquivo para uma tabela\n",
    "\n",
    "    COPY aluno FROM 'C:\\Users\\Public\\db-copy-test\\aluno.copy' DELIMITER ',' CSV HEADER;\n",
    "    \n",
    "O comando COPY exige permissão de acesso para escrever ou ler de arquivos. \n",
    "\n",
    "O comando COPY não cria uma tabela do zero, é necessário que a tabela já exista pra importar os dados.\n",
    "\n",
    "É possível copiar o conteúdo de uma consulta utilizando o comando COPY TO.\n",
    "\n",
    "    COPY (SELECT * FROM aluno) TO 'C:\\Users\\Public\\db-copy-test\\aluno_nome.csv' DELIMITER ',' CSV HEADER;\n",
    "\n",
    "CSV HEADER cria o arquivo com os nomes das colunas na primeira linha.\n",
    "\n",
    "Utilize CSV HEADER no comando FROM se o arquivo utilizado possui header, caso contrário o comando falhará.\n",
    "\n",
    "A maneira mais simples de utilizá-lo sem problemas é utilizar o diretório `C:\\Users\\Public\\` que é público para todos os usuários do sistema."
   ]
  },
  {
   "cell_type": "markdown",
   "id": "43513b61-52a9-4bbb-83fc-a51e645f1cab",
   "metadata": {},
   "source": [
    "# PSQL\n",
    "\n",
    "Terminal do Postgres. Alternativa ao PgAdmin na linha de comando.\n",
    "\n",
    "Possui comandos auxiliares para facilitar operações com banco de dados e criação de scripts.\n",
    "\n",
    "Considere o seguinte script que pode ser encontrado na pasta <b>bancodedados\\material\\psql\\script-createdb-teste.sql</b> do nosso curso :\n",
    "\n",
    "    -- Drop database se existir pra garantir que o scritp nao falhe\n",
    "    drop database if exists teste_db;\n",
    "\n",
    "    -- Create database\n",
    "    create database teste_db;\n",
    "\n",
    "    -- Conecte ao banco recem criado\n",
    "    \\c teste_db;\n",
    "\n",
    "    -- Faca as criacoes e insercoes\n",
    "    create table teste(testcolumn int);\n",
    "    \n",
    "Esse script cria um banco de dados do zero e executa sem erros utilizando o comando psql \\c que faz a conexão com o banco recém criado. Dessa forma podemos escrever scripts auto-contidos.\n",
    "\n",
    "Veja abaixo como executar e acessar o banco e a tabela criada a partir desse script.\n",
    "\n",
    "1. Rodar um script a partir de um arquivo:\n",
    "\n",
    "    psql -U postgres -f \"./script-createdb-teste.sql\"\n",
    "\n",
    "2. Acessar o banco de dados criado:\n",
    "\n",
    "    psql -U postgres -d teste_db\n",
    "\n",
    "<center><img src=\"./psql-exemplo.jpg\" alt=\"Exemplo PSQL\" width=\"50%\" height=\"50%\"/></center>\n",
    "\n",
    "## Principais comandos PSQL\n",
    "\n",
    "### Executar um script de um arquivo\n",
    "\n",
    "    psql -h host -p 5432 -U usuario -f arquivo\n",
    "\n",
    "### Acessar o PSQL direto em um banco de dados específico\n",
    "\n",
    "    psql h host -p 5432 -U usuario -d database\n",
    "    \n",
    "### Rodar um comando SQL diretamente:\n",
    "\n",
    "    psql -U postgres -d banco -c \"select * from aluno\"\n",
    "    \n",
    "### Help do psql\n",
    "\n",
    "    \\? -> help com comandos psql\n",
    "    \\h > help com comandos sql\n",
    "    \n",
    "### Sair do psql\n",
    "\n",
    "    \\q\n",
    "\n",
    "**Obs** O script acima não roda no PgAdmin, pois o comando \\c só é reconhecido pelo psql."
   ]
  },
  {
   "cell_type": "markdown",
   "id": "ed572b46",
   "metadata": {},
   "source": [
    "# Exercícios "
   ]
  },
  {
   "cell_type": "markdown",
   "id": "dc73fbc5",
   "metadata": {},
   "source": [
    "Executar as consultas abaixo em SQL e enviar o arquivo sql para o e-mail do professor da seguinte forma:\n",
    "\n",
    "E-mail: williamtx1987@gmail.com\n",
    "\n",
    "Assunto: 835_firstname_lastname_aula05-p2\n",
    "\n",
    "Escrever um comentário antes de cada comando indicando a qual exercício ele se refere."
   ]
  },
  {
   "cell_type": "markdown",
   "id": "0545668e",
   "metadata": {},
   "source": [
    "### Q1\n",
    "\n",
    "No banco de dados do `northwind`, obtenha:\n",
    "\n",
    "Criar uma view com: `categoria|numero_de_pedidos|valor_total|media_de_valores`  \n",
    "   \n",
    "Dica: Categorizar as ordens de acordo com o preço total (incluindo frete) em:\n",
    "\n",
    "- Gold: valor_total >= 5.000\n",
    "- Silver: 1.000 <= valor_total < 5.000\n",
    "- Bronze: valor_total < 1000\n",
    "\n",
    "### Q2\n",
    "\n",
    "Copie o resultado de uma consulta qualquer para um arquivo utilizando o comando COPY."
   ]
  }
 ],
 "metadata": {
  "kernelspec": {
   "display_name": "Python 3",
   "language": "python",
   "name": "python3"
  },
  "language_info": {
   "codemirror_mode": {
    "name": "ipython",
    "version": 3
   },
   "file_extension": ".py",
   "mimetype": "text/x-python",
   "name": "python",
   "nbconvert_exporter": "python",
   "pygments_lexer": "ipython3",
   "version": "3.8.2"
  },
  "toc": {
   "base_numbering": 1,
   "nav_menu": {},
   "number_sections": true,
   "sideBar": true,
   "skip_h1_title": false,
   "title_cell": "Table of Contents",
   "title_sidebar": "Contents",
   "toc_cell": false,
   "toc_position": {},
   "toc_section_display": true,
   "toc_window_display": true
  }
 },
 "nbformat": 4,
 "nbformat_minor": 5
}
