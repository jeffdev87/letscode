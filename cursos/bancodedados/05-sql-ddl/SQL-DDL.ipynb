{
 "cells": [
  {
   "cell_type": "markdown",
   "id": "b664194b",
   "metadata": {},
   "source": [
    "# Introdução ao SQL"
   ]
  },
  {
   "cell_type": "markdown",
   "id": "fccb3d63",
   "metadata": {},
   "source": [
    "## Recapitulando\n",
    "\n",
    "Comandos apresentados na aula passada."
   ]
  },
  {
   "cell_type": "markdown",
   "id": "65b8af27",
   "metadata": {},
   "source": [
    "## Objetivos\n",
    "\n",
    "Ao final desta aula o aluno deverá conhecer:\n",
    "\n",
    "1. Entender como criar um banco de dados;\n",
    "1. As principais funções para criação de tabelas e objetos em um banco de dados;\n",
    "1. Como manipular o esquema das tabelas;\n",
    "1. Como utilizar o comando SELECT para criar uma nova tabela ou popular uma tabela já existente;\n",
    "1. Como garantir a integridade do banco por meio das FKs;\n",
    "1. Como manipular os registros em bancos de dados."
   ]
  },
  {
   "cell_type": "markdown",
   "id": "f83183ca",
   "metadata": {},
   "source": [
    "# Criando um banco de dados e manipulando dados persistidos"
   ]
  },
  {
   "cell_type": "markdown",
   "id": "f1960d7d",
   "metadata": {},
   "source": [
    "Já sabemos como consultar informações em bancos de dados. Hoje vamos explorar como um banco de dados é criado e como inserir, atualizar e deletar dados.\n",
    "\n",
    "CRUD é um acrônimo para:\n",
    "- C: Create\n",
    "- R: Read\n",
    "- U: Update\n",
    "- D: Delete\n",
    "\n",
    "Em geral, as empresas possuem times totalmente dedicados à criação e manutenção de bancos de dados, que restringem a maioria (se não todos) dos comandos que aprenderemos hoje aos demais usuários.\n",
    "\n",
    "Tais restrições são necessárias para que seja garantida a integridade e bom funcionamento do banco."
   ]
  },
  {
   "cell_type": "markdown",
   "id": "de9b1a13",
   "metadata": {
    "tags": []
   },
   "source": [
    "# DDL - Data Definition Language"
   ]
  },
  {
   "cell_type": "markdown",
   "id": "b1cd8685",
   "metadata": {},
   "source": [
    "**Exercício:**\n",
    "\n",
    "Vamos criar juntos uma base de dados para o banco com duas tabelas `agencias` e `clientes`. Essas tabelas devem estar relacionadas.\n",
    "\n",
    "Considere que um cliente deve ter conta em apenas uma agencia e uma agência deve ter muitos clientes.\n",
    "\n",
    "A tabela `agências` deve conter código, nome, endereço e telefone da agência.\n",
    "\n",
    "A tabela `clientes` deve conter um código do cliente, nome, data de nascimento, agência e conta."
   ]
  },
  {
   "cell_type": "markdown",
   "id": "8f63467e",
   "metadata": {},
   "source": [
    "## CREATE\n",
    "\n",
    "Usado para criar um banco de dados, tabela e outros objetos em um banco de dados. Um guia sobre os tipos de campos pode ser encontrado [aqui](https://aprendendodotnet.wordpress.com/2012/03/10/sql-server-o-comando-create-table-e-tipos-de-dados/#:~:text=SQL%20Server%20%E2%80%93%20O%20Comando%20CREATE%20TABLE%20e,Comprimento%20Fi%20...%20%208%20more%20rows%20)."
   ]
  },
  {
   "cell_type": "markdown",
   "id": "a9ca9a64-1fc7-4953-8607-a674acd4818d",
   "metadata": {},
   "source": [
    "### Crie um novo banco de dados para nosso exemplo do banco.\n",
    "\n",
    "    CREATE DATABASE banco WITH OWNER = 'seu usuario postgres';"
   ]
  },
  {
   "cell_type": "markdown",
   "id": "ba7cf7dd",
   "metadata": {},
   "source": [
    "### Crie uma tabela chamada `agencias`. \n",
    "\n",
    "**OBS:** Quais as condições em cada campo?\n",
    "\n",
    "    CREATE TABLE agencias(\n",
    "        agencia_id SERIAL PRIMARY KEY, \n",
    "        nome varchar(255) NOT NULL, -- restricao de campo não nulo\n",
    "        endreco varchar(255), \n",
    "        telefone varchar(255)\t\n",
    "    );"
   ]
  },
  {
   "cell_type": "markdown",
   "id": "a9220739",
   "metadata": {},
   "source": [
    "### Crie uma tabela chamada `clientes`. Quais as condições em cada campo?\n",
    "\n",
    "**OBS:** Como utitlizar a chave estrangeira?\n",
    "\n",
    "    CREATE TABLE cliebtes(\n",
    "        cliente_id SERIAL PRIMARY KEY, \n",
    "        nome VARCHAR(255), \n",
    "        data_de_nascimento DATE, \n",
    "        agencia INT REFERENCES agencias(agencia_id), \n",
    "        conta INT NOT NULL\n",
    "    );"
   ]
  },
  {
   "cell_type": "markdown",
   "id": "cc18faf6-ede0-4f82-ac1d-aa714d956f63",
   "metadata": {},
   "source": [
    "### CREATE TABLE E CONSTRAINTS\n",
    "\n",
    "Constraints são regras que impomos a colunas de uma tabela. Por exemplo, chave primária, chave estrangeira, restrições de domínio, etc.\n",
    "\n",
    "Podemos definir uma constraint implicita ou explicitamente, por exemplo:\n",
    "\n",
    "    CREATE TABLE cliente (\n",
    "        -- Criando uma constraint de PK implicitamente na definição da coluna\n",
    "        cliente_id SERIAL PRIMARY KEY,\n",
    "        \n",
    "        -- Criando uma constraint de FK implicitamente na definição da coluna\n",
    "        agencia INT REFERENCES agencias(agencia_id)\n",
    "    );\n",
    "\n",
    "No exemplo acima, criamos 2 constraints, uma PK para cliente_id e uma FK para agencia que referencia a coluna agencia_id da tabela agencias.\n",
    "\n",
    "A limitação da sintaxe acima é que não podemos criar PKs e FKs compostas (i.e. com mais de uma coluna).\n",
    "\n",
    "Para isso, criamos constraints explicitamente.\n",
    "\n",
    "#### Exemplo 1 - Agencia e Clientes\n",
    "\n",
    "    CREATE TABLE agencia_composta (\n",
    "        nome VARCHAR(255) NOT NULL,\n",
    "        cidade VARCHAR(255) NOT NULL,\n",
    "\n",
    "        endereco VARCHAR(255),\n",
    "        telefone VARCHAR(255),\n",
    "\n",
    "        -- Criando uma constraint de PK composta explicitamente\n",
    "        CONSTRAINT agencia_composta_pk PRIMARY KEY (nome, cidade)\n",
    "    );\n",
    "\n",
    "    CREATE TABLE cliente_composta (\n",
    "        client_id SERIAL,\n",
    "        nome_cliente VARCHAR(255) NOT NULL,\n",
    "        data_nasc DATE,\n",
    "        conta INT,\n",
    "\n",
    "        nome_agencia VARCHAR(255) NOT NULL,\n",
    "        cidade_agencia VARCHAR(255) NOT NULL,\n",
    "\n",
    "        CONSTRAINT client_pk PRIMARY KEY (client_id),\n",
    "\n",
    "        -- Criando uma constraint de FK utilizando CONSTRAINT explicitamente.\n",
    "        CONSTRAINT client_agencia_fk_composta \n",
    "            FOREIGN KEY (nome_agencia, cidade_agencia)\n",
    "                REFERENCES agencia_composta(nome, cidade)\n",
    "                    -- Estamos dizendo que quando uma tupla da tabela referenciada (agencia_composta) for deletada, \n",
    "                    -- as referências a ela serão removidas automaticamente desta tabela.\n",
    "                    ON DELETE CASCADE\n",
    "    );\n",
    "\n",
    "**Obs: A vantagem de se utilizar o comando CONSTRAINT é que podemos definir o nome da regra (e.g. turma_aluno_fk), o que facilita alterações posteriores via comando ALTER. Além disso, ele não tem limitações quanto ao número de colunas participantes de uma FK ou PK.**\n",
    "\n",
    "**Obs2: ON DELETE CASCADE só irá funcionar quando os registros da tabela referenciada forem deletados. Não funciona após um DROP TABLE CASCADE. Isso acontece, por que a CONSTRAINT é removida da tabela e, portanto, a regra ON DELETE é perdida.**"
   ]
  },
  {
   "cell_type": "markdown",
   "id": "7f45ba37-b831-4d32-9ce0-9c17d3d195e5",
   "metadata": {},
   "source": [
    "#### Exemplo 2 - Alunos e Turmas\n",
    "\n",
    "    DROP TABLE IF EXISTS Aluno CASCADE;\n",
    "    DROP TABLE IF EXISTS Turma CASCADE;\n",
    "    DROP TABLE IF EXISTS Aluno_Turma;\n",
    "    /*\n",
    "    Aluno (m) - pertence - (n) Turma \n",
    "    */\n",
    "    CREATE TABLE Aluno (\n",
    "        Id_Aluno SERIAL PRIMARY KEY,\n",
    "        Nome VARCHAR(255)\n",
    "    );\n",
    "    /*\n",
    "    IdA1, Aluno1\n",
    "    IdA2, Aluno2\n",
    "    ...\n",
    "    */\n",
    "    CREATE TABLE Turma (\n",
    "        Id_Turma SERIAL PRIMARY KEY,\n",
    "        Nome VARCHAR(255)\n",
    "    );\n",
    "    /*\n",
    "    IdT1, Turma1\n",
    "    IdT2, Turma2\n",
    "    ...\n",
    "    */\n",
    "    CREATE TABLE Aluno_Turma (\n",
    "        Id_Aluno INT REFERENCES Aluno(Id_Aluno), \n",
    "        Id_Turma INT REFERENCES Turma(Id_Turma),\n",
    "        CONSTRAINT aluno_turma_pk \n",
    "            PRIMARY KEY(Id_Aluno, Id_Turma)\n",
    "    );"
   ]
  },
  {
   "cell_type": "markdown",
   "id": "b2439055-515a-45be-bef5-56eb814fefc5",
   "metadata": {},
   "source": [
    "## CREATE TABLE COM SELECT\n",
    "\n",
    "Podemos criar uma tabela a partir de um comando SELECT.\n",
    "\n",
    "    CREATE TABLE employees2\n",
    "    AS \n",
    "    SELECT e.last_name, e.first_name\n",
    "    FROM employees AS e;\n",
    "    \n",
    "Note que as colunas da tabela nova seguirão os mesmos tipos das colunas retornadas pelo comando SELECT.\n",
    "\n",
    "Com esse comando, o esquema da tabela nova não terá regras de PK ou FK. Constraints podem ser adicionadas posteriormente via comandos ALTER, se necessário."
   ]
  },
  {
   "cell_type": "markdown",
   "id": "ea81d142",
   "metadata": {},
   "source": [
    "## ALTER\n",
    "Usado para alterar a estrutura de tabelas ou outro objeto em um banco de dados."
   ]
  },
  {
   "cell_type": "markdown",
   "id": "9dbe3d0d",
   "metadata": {},
   "source": [
    "### Corrija o nome da tabela cliebtes para clientes.\n",
    "\n",
    "    ALTER TABLE cliebtes RENAME TO clientes;"
   ]
  },
  {
   "cell_type": "markdown",
   "id": "f7315242",
   "metadata": {
    "ExecuteTime": {
     "end_time": "2021-07-22T18:18:06.905323Z",
     "start_time": "2021-07-22T18:18:06.901319Z"
    }
   },
   "source": [
    "### Corrija o nome da coluna endereço na tabela `agencias`.\n",
    "\n",
    "    ALTER TABLE agencias\n",
    "    RENAME COLUMN endreco to endereco;"
   ]
  },
  {
   "cell_type": "markdown",
   "id": "41517015",
   "metadata": {
    "ExecuteTime": {
     "end_time": "2021-07-22T18:18:06.905323Z",
     "start_time": "2021-07-22T18:18:06.901319Z"
    }
   },
   "source": [
    "### Altere o tipo da coluna nome na table clientes para TEXT.\n",
    "\n",
    "    ALTER TABLE clientes\n",
    "    ALTER COLUMN nome TYPE TEXT;"
   ]
  },
  {
   "cell_type": "markdown",
   "id": "fc791eca",
   "metadata": {
    "ExecuteTime": {
     "end_time": "2021-07-22T18:18:06.905323Z",
     "start_time": "2021-07-22T18:18:06.901319Z"
    }
   },
   "source": [
    "### Adicione a coluna bom pagador à tabela `cliente`.\n",
    "\n",
    "    ALTER TABLE clientes\n",
    "    ADD COLUMN pagador BOOLEAN;"
   ]
  },
  {
   "cell_type": "markdown",
   "id": "d3b30a46-93bc-4427-a667-2644ff5050fd",
   "metadata": {},
   "source": [
    "### Adicione uma regra de chave estrangeira a tabela cliente.\n",
    "\n",
    "Obs: A tabela cliente já posssui uma FK definida no comando CREATE. Vamos criar novamente utilizando ALTER apenas para demonstrar o comando.\n",
    "\n",
    "Vamos adicionar a seguinte regra de FK: \n",
    "\n",
    "    FK: Cliente.agencia_id -> Agencia.agencia_id.\n",
    "\n",
    "    ALTER TABLE cliente\n",
    "    ADD CONSTRAINT teste_fk \n",
    "    FOREIGN KEY agencia_id REFERENCES agencia(agencia_id);"
   ]
  },
  {
   "cell_type": "markdown",
   "id": "c65ba9c4",
   "metadata": {},
   "source": [
    "## DROP\n",
    "\n",
    "Usado para apagar bancos de dados, tabelas e outros objetos."
   ]
  },
  {
   "cell_type": "markdown",
   "id": "dacdf84c",
   "metadata": {},
   "source": [
    "### Delete a tabela `customers`.\n",
    "\n",
    "    DROP TABLE agencias;\n",
    "    DROP TABLE IF EXISTS agencias;  -- DROP TABLE [IF EXISTS] table_name; --> Entre colchetes: opcional!"
   ]
  },
  {
   "cell_type": "markdown",
   "id": "48c54e86-f848-464d-a16c-5282cc8012da",
   "metadata": {},
   "source": [
    "### Delete a regra de chave estrangeira da tabela cliente.\n",
    "\n",
    "    ALTER TABLE cliente DROP CONSTRAINT teste_fk;"
   ]
  },
  {
   "cell_type": "markdown",
   "id": "558d765b-2633-4072-b519-7a2a9c70861b",
   "metadata": {},
   "source": [
    "## DROP TABLE E CASCADE\n",
    "\n",
    "Deletar uma tabela que é referenciada por outras por meio de chaves estrangeiras pode tornar o banco de dados inconsistente.\n",
    "\n",
    "Tentar rodar o comando DROP TABLE nessas condições gera um erro, por exemplo:\n",
    "\n",
    "    ERROR:  cannot drop table turmas because other objects depend on it\n",
    "    DETAIL:  constraint turma_aluno_id_turma_fkey on table turma_aluno depends on table turmas\n",
    "    constraint teste_fk on table turma_aluno3 depends on table turmas\n",
    "    HINT:  Use DROP ... CASCADE to drop the dependent objects too.\n",
    "\n",
    "Uma alternativa é utilizar o comando CASCADE. \n",
    "\n",
    "Esse comando removerá todas as dependências (CONSTRAINTS de chave estrangeira) das tabelas que dependem daquela que será removida.\n",
    "\n",
    "Note que esse comando não removerá registros, apenas removerá o link que existia entre outras tabelas e a tabela removida.\n",
    "\n",
    "### Deletar a tabela turmas utilizando CASCADE.\n",
    "\n",
    "Considere que existe uma tabela `turma_aluno` que possui uma FK apontando para a tabela turmas. \n",
    "\n",
    "    FK: turma_aluno.id_turma -> turmas.id_turma\n",
    "\n",
    "Para remover a tabela turmas sem erros, devemos utilizar o comando CASCADE:\n",
    "\n",
    "    DROP TABLE turmas CASCADE;\n",
    "\n",
    "O resultado do comando acima fará com que a chave estrangeira de `turma_aluno` seja removida, juntamente com a tabela `turmas`.\n",
    "\n",
    "Dessa forma, novas inserções na tabela `turma_aluno` não dependerão mais da tabela `turmas`."
   ]
  },
  {
   "cell_type": "markdown",
   "id": "ae3beafa-de41-4804-806b-e3bee2c051a4",
   "metadata": {},
   "source": [
    "# DML - Data Manipulation Language"
   ]
  },
  {
   "cell_type": "markdown",
   "id": "db20a0fc",
   "metadata": {
    "heading_collapsed": true
   },
   "source": [
    "## INSERT\n",
    "Usado para inserir um registro numa tabela existente."
   ]
  },
  {
   "cell_type": "markdown",
   "id": "c934d24b",
   "metadata": {
    "hidden": true
   },
   "source": [
    "### Insira os dados de uma agência na tabela.\n",
    "\n",
    "    INSERT INTO agencias(nome, endereco, telefone)\n",
    "    VALUES ('Matriz', 'Rua da espernaça, 76', 11-99898-7417);"
   ]
  },
  {
   "cell_type": "markdown",
   "id": "26ae785b",
   "metadata": {
    "hidden": true
   },
   "source": [
    "### Adicione um registo sem um dos campos, por exemplo, endereço.\n",
    "\n",
    "    INSERT INTO agencias(nome, telefone)\n",
    "    values ('LC', '12-99887-6655');"
   ]
  },
  {
   "cell_type": "markdown",
   "id": "8ee36aa5",
   "metadata": {
    "hidden": true
   },
   "source": [
    "### Adicione um registro sem o campo nome. O que aconteceu?\n",
    "\n",
    "    INSERT INTO agencias(endereco, telefone)\n",
    "    VALUES ('Rua do não sei, 171', '13-11122-3344');"
   ]
  },
  {
   "cell_type": "markdown",
   "id": "3ba9ef6a",
   "metadata": {
    "hidden": true
   },
   "source": [
    "Resultado:\n",
    "\n",
    "<img src=\"./Error1.png\" width=\"60%\" height=\"60%\"/>"
   ]
  },
  {
   "cell_type": "markdown",
   "id": "c17914c7-c74f-4afc-9850-a3bfa37a9b7c",
   "metadata": {},
   "source": [
    "## INSERT COM SELECT\n",
    "\n",
    "Podemos inserir dados em uma tabela a partir de um SELECT.\n",
    "\n",
    "    INSERT INTO employee2 (last_name, first_name)\n",
    "    SELECT last_name, first_name FROM employees;\n",
    "\n",
    "Cuidado com as colunas retornadas pelo SELECT, pois precisam ser compatíveis com as colunas da tabela."
   ]
  },
  {
   "cell_type": "markdown",
   "id": "d2809b82-63f5-403e-9ab4-178fb4136ffa",
   "metadata": {},
   "source": [
    "## INSERT COM MÚLTIPLAS LINHAS\n",
    "\n",
    "    INSERT INTO aluno(cpf, nome, matricula)\n",
    "    VALUES('1', 'A', 'M1'), ('2', 'B', 'M2')"
   ]
  },
  {
   "cell_type": "markdown",
   "id": "b3035c78",
   "metadata": {},
   "source": [
    "## UPDATE\n",
    "\n",
    "Usado para alterar valores de dados em um ou mais registros de uma tabela."
   ]
  },
  {
   "cell_type": "markdown",
   "id": "2f985b88",
   "metadata": {},
   "source": [
    "### Corrija o campo telefone da agência matriz.\n",
    "\n",
    "    UPDATE agencias\n",
    "    SET telefone = '11-99898-7417'\n",
    "    WHERE agencia_id = 1;"
   ]
  },
  {
   "cell_type": "markdown",
   "id": "a897c3e1",
   "metadata": {},
   "source": [
    "Cuidado com a falta do WHERE!\n",
    "\n",
    "    UPDATE agencias\n",
    "    SET endereco = 'Av. Não esqueça o WHERE';"
   ]
  },
  {
   "cell_type": "markdown",
   "id": "fe2e0288",
   "metadata": {},
   "source": [
    "## DELETE\n",
    "Usado para remover registros de uma tabela.\n",
    "\n",
    "### Delete o registro de nome = 'LC'?\n",
    "\n",
    "    DELETE FROM agencias\n",
    "    where nome = 'LC';"
   ]
  },
  {
   "cell_type": "markdown",
   "id": "3eff6c5d",
   "metadata": {},
   "source": [
    "# INDICES"
   ]
  },
  {
   "cell_type": "markdown",
   "id": "4a3579c5",
   "metadata": {},
   "source": [
    "Exemplo encontrado [aqui](https://pt.wikibooks.org/wiki/PostgreSQL_Pr%C3%A1tico/DDL/%C3%8Dndices,_Tipos_de_Dados_e_Integridade_Referencial).\n",
    "\n",
    "Uma tabela contendo os CEPs do Brasil, com 633.401 registros.\n",
    "\n",
    "- sem indice\n",
    "\n",
    "    SELECT * FROM cep_tabela WHERE cep = ‘60420440’;\n",
    "\n",
    "    **Em 7691 ms**\n",
    "   \n",
    "\n",
    "- Pós adicionar um índice:\n",
    "\n",
    "    ALTER TABLE cep_tabela ADD CONSTRAINT cep_pk PRIMARY KEY (cep);\n",
    "\n",
    "\n",
    "    A mesma consulta anterior agora gasta apenas **10 ms**.\n",
    "\n"
   ]
  },
  {
   "cell_type": "markdown",
   "id": "7cefdadd",
   "metadata": {},
   "source": [
    "Como criar um indice?\n",
    "\n",
    "    CREATE INDEX nomeindice ON tabela (lower (nomecampo));"
   ]
  },
  {
   "cell_type": "markdown",
   "id": "6361fbac",
   "metadata": {},
   "source": [
    "Crie um indice na tabela `agencia`."
   ]
  },
  {
   "cell_type": "markdown",
   "id": "0e820490",
   "metadata": {},
   "source": [
    "Query:\n",
    "\n",
    "    CREATE INDEX agidindex ON agencias(agencia_id);"
   ]
  },
  {
   "cell_type": "markdown",
   "id": "0bb49024",
   "metadata": {},
   "source": [
    "Resultado:\n",
    "\n",
    "<img src=\"./Index.png\" width=\"30%\" height=\"30%\"/>"
   ]
  },
  {
   "cell_type": "markdown",
   "id": "232b92ca",
   "metadata": {},
   "source": [
    "# Exercícios"
   ]
  },
  {
   "cell_type": "markdown",
   "id": "921da741",
   "metadata": {},
   "source": [
    "Executar as consultas abaixo em SQL e enviar o arquivo sql para o e-mail do professor da seguinte forma:\n",
    "\n",
    "E-mail: williamtx1987@gmail.com\n",
    "\n",
    "Assunto: 835_firstname_lastname_aula05\n",
    "\n",
    "Escrever um comentário antes de cada comando indicando a qual exercício ele se refere."
   ]
  },
  {
   "cell_type": "markdown",
   "id": "ee7b7285",
   "metadata": {},
   "source": [
    "### Q1\n",
    "\n",
    "Crie duas tabelas: produto e categoria. Essas duas tabelas devem estar relacionadas.\n",
    "\n",
    "- Considere que o produto possui uma descrição, preço, frete e categoria. \n",
    "- Considere que a categoria possui apenas uma descrição. \n",
    "- Não esqueça de inserir as chaves primárias e estrangeira da forma correta, de modo a criar o relacionamento entre as tabelas.\n",
    "\n",
    "### Q2\n",
    "\n",
    "Adicione 3 registros em cada tabela.\n",
    "\n",
    "### Q3\n",
    "\n",
    "Crie duas tabelas: turmas e alunos. Essas duas tabelas devem estar relacionadas. \n",
    "\n",
    "- Um aluno pode pertencer a muitas turmas e uma turma deve conter muitos alunos (tabela extra).\n",
    "- Considere que o aluno possui: nome, matrícula, data de nascimento e e-mail. \n",
    "- A turma possui os atributos descrição, professor (considere apenas um), data de início, e data de término.\n",
    "\n",
    "### Q4\n",
    "\n",
    "Adicione 3 registros em cada tabela."
   ]
  }
 ],
 "metadata": {
  "kernelspec": {
   "display_name": "Python 3",
   "language": "python",
   "name": "python3"
  },
  "language_info": {
   "codemirror_mode": {
    "name": "ipython",
    "version": 3
   },
   "file_extension": ".py",
   "mimetype": "text/x-python",
   "name": "python",
   "nbconvert_exporter": "python",
   "pygments_lexer": "ipython3",
   "version": "3.8.2"
  },
  "toc": {
   "base_numbering": 1,
   "nav_menu": {},
   "number_sections": true,
   "sideBar": true,
   "skip_h1_title": false,
   "title_cell": "Table of Contents",
   "title_sidebar": "Contents",
   "toc_cell": false,
   "toc_position": {
    "height": "calc(100% - 180px)",
    "left": "10px",
    "top": "150px",
    "width": "208.188px"
   },
   "toc_section_display": true,
   "toc_window_display": true
  }
 },
 "nbformat": 4,
 "nbformat_minor": 5
}
