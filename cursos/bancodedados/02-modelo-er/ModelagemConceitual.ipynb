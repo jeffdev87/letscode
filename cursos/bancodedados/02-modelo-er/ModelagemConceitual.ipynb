{
 "cells": [
  {
   "cell_type": "markdown",
   "id": "7a6e3c98-a765-4961-a1f8-5b0bb1791149",
   "metadata": {},
   "source": [
    "# Modelagem Conceitual"
   ]
  },
  {
   "cell_type": "markdown",
   "id": "a11c4cb9-322f-4525-8878-056702cd2b20",
   "metadata": {},
   "source": [
    "## Recapitulando\n",
    "\n",
    "### Q1\n",
    "\n",
    "O que é banco de dados?\n",
    "\n",
    "Banco de dados como disciplina possui pelo menos os seguintes aspectos:\n",
    "\n",
    "- Armazenamento: Qual modelo ou abstração adotada para armazenar os dados? Modelo relacional, orientado a objetos, etc.\n",
    "- Modelagem: A partir do modelo adotado, como transformamos requisitos do mundo real em uma aplicação de banco de dados? MER, outros modelos.\n",
    "- Acesso e manipulação: Como acessamos e manipulamos os dados em nosso banco? SQL, NoSQL, simples acesso a arquivos, etc.\n",
    "\n",
    "### Q2\n",
    "\n",
    "O que é um SGBD?\n",
    "\n",
    "Os SGBDs oferecem um conjunto de funcionalidades que permite o gerenciamento eficiente dos dados.\n",
    "\n",
    "Bons SGBDs garantem as propriedades ACID:\n",
    "\n",
    "- Atomicidade: uma transação é uma unidade atômica de processamento; ou ela será executada em sua totalidade ou não será de modo algum (rollback).\n",
    "- Consistência: uma transação será preservadora de consistência se a sua execução completa fizer o banco de dados passar de um estado consistente\n",
    " para outro.\n",
    "- Isolamento: requer que múltiplas transações que estejam ocorrendo “aomesmo tempo”, não interfiram nas outras.\n",
    "- Durabilidade: as mudanças aplicadas ao banco de dados por uma transação efetivada devem persistir no banco de dados.\n",
    "\n",
    "Um bom design de banco de dados também contribui com a garantia dessas propriedades.\n",
    "\n",
    "### Q3\n",
    "\n",
    "Quais exemplos de recursos um SGBD oferece?\n",
    "\n",
    "Dica: Pense no acesso e na manutenção dos dados. O que acontece se eu perder os meus dados? Como evitar isso?"
   ]
  },
  {
   "cell_type": "markdown",
   "id": "6fb5d9fb-7b27-411e-b1c3-51634e12af3c",
   "metadata": {},
   "source": [
    "## Motivação\n",
    "\n",
    "A modelagem conceitual é o primeiro passo do desenvolvimento de um banco de dados.\n",
    "\n",
    "Trata-se de uma ferramenta útil para discussão e refinamento de requisitos entre desenvolvedores e clientes.\n",
    "\n",
    "Apresenta poucos detalhes técnicos e serve de guia para as próximas etapas.\n",
    "\n",
    "Em banco de dados relacionais, a modelagem dos dados é feita por meio do <b>Modelo Entidade Relacionamento</b>."
   ]
  },
  {
   "cell_type": "markdown",
   "id": "08c56ba0-0a32-4921-a64c-5ce13ab17709",
   "metadata": {},
   "source": [
    "## Objetivos\n",
    "\n",
    "Ao final desta aula o aluno deverá conhecer:\n",
    "\n",
    "<ul>\n",
    "    <li> A utilidade e o escopo da modelagem conceitual; </li>\n",
    "    <li> As características do MER; </li>\n",
    "    <li> Os principais elementos de um MER; </li>\n",
    "    <li> Como transformar requisitos em um modelo de dados. </li>\n",
    "</ul>"
   ]
  },
  {
   "cell_type": "markdown",
   "id": "b2dcefff-bad5-427b-a443-0049a945f8a6",
   "metadata": {},
   "source": [
    "## Modelagem de Dados\n",
    "\n",
    "Um modelo de dados é uma coleção de conceitos para descrever a estrutura do banco de dados (tipos, relações, restrições) em determinada fase do projeto.\n",
    "\n",
    "Um modelo conceitual (alto-nível) está mais próximo da percepção do usuário, enquanto um modelo físico (baixo-nível) apresenta mais detalhes técnicos.\n",
    "\n",
    "Entre o modelo conceitual e o físico, está o design lógico (mapeamento).\n",
    "\n",
    "<center><img src=\"./Fig-DesignPhases.png\" alt=\"Fases do design de um BD\" width=\"50%\" height=\"50%\"/></center>"
   ]
  },
  {
   "cell_type": "markdown",
   "id": "2f8d078f-c34a-4a10-897d-b64f367c512a",
   "metadata": {},
   "source": [
    "## Modelo Entidade-Relacionamento (MER)\n",
    "\n",
    "Nessa abordagem, um banco de dados pode ser descrito por meio de entidades (objeto do mundo real), atributos (propriedades), relacionamentos e especificações extras (e.g. cardinalidade).\n",
    "\n",
    "Graficamente, esses componentes são representadas por meio de um diagrama entidade-relacionamento (ER).\n",
    "\n",
    "<center><img src=\"./Fig-MER-Def.png\" alt=\"Exemplo de um MER simplificado\" width=\"50%\" height=\"50%\"></center>"
   ]
  },
  {
   "cell_type": "markdown",
   "id": "f69281bc-0d2a-4fa1-8192-438769b7f622",
   "metadata": {},
   "source": [
    "### Elementos do modelo ER\n",
    "\n",
    "Os principais elementos de um diagrama ER são:\n",
    "\n",
    "<center><img src=\"./Fig-Simb-ER.jpg\" alt=\"Principais elementos de um ER\" width=\"30%\" height=\"30%\"></center>\n",
    "\n",
    "#### Entidade: \n",
    "\n",
    "Um conceito (abstrato ou físico) do mundo real que existe de maneira independente.</br>\n",
    "\n",
    "Ex: um carro, um empregado, um aluno, etc.</br>\n",
    "\n",
    "Existem dois tipos de entidades: </br>\n",
    "\n",
    "<ul>\n",
    "    <li> <b>Entidate forte:</b> Possui uma chave e existe independentemente de outras entidades.</li>\n",
    "    <li> <b>Entidade fraca:</b> Possui chave parcial (ou nenhuma chave) e depende do relacionamento com outra entidade (owner), portanto apresenta restrição de <b>participação total</b> </li>\n",
    "</ul>\n",
    "\n",
    "<center><img src=\"./Fig-Entity.png\" alt=\"Exemplo de um MER\" width=\"50%\" height=\"50%\"/></center>\n",
    "\n",
    "#### Atributo:\n",
    "\n",
    "Representa as propriedades de uma entidade e possui os seguintes tipos: \n",
    "<ul>\n",
    "    <li> <b>Chave:</b> Identifica uma entidade univocamente dentro do conjunto entidade. Deve valer para todas as entidades do conjunto. </li>\n",
    "    <li> <b>Simples</b> (e.g. nome, RG) ou <b>Composto</b> (endereço -> rua, cidade, estado) </li>\n",
    "    <li> <b>Mono-valorado</b> (armazana apenas um valor) ou <b>Multi-valorado</b> (armazena vários valores)</li>\n",
    "    <li> <b>Armazenado</b> (valor salvo no banco) e <b>Derivado</b> (valor inferido). Ex: ano de nascimento (armazenado), idade (derivado)</li>\n",
    "</ul>\n",
    "\n",
    "#### Relacionamento:\n",
    "\n",
    "Representa a associação entre duas ou mais entidades.\n",
    "\n",
    "Relacionamentos são descritos por meio de sua <b>cardinalidade</b> (número de entidades participantes em um relacionamento).\n",
    "\n",
    "Os mais comuns são os relacionamentos binários e ternários.\n",
    "\n",
    "<center><img src=\"./Fig-Rel.png\" alt=\"Exemplo de um MER\" width=\"40%\" height=\"40%\"/></center>\n",
    "\n",
    "<center><img src=\"./Fig-Rel-3.png\" alt=\"Exemplo de um MER\" width=\"40%\" height=\"40%\"/></center>\n",
    "\n",
    "#### Exemplo de um MER:\n",
    "\n",
    "Modelo conceitual de uma empresa que representa os seguintes requisitos:\n",
    "\n",
    "1. O sistema deve cadastrar os funcionários e seus dependentes, bem como o departamento em que os funcionários trabalham.\n",
    "2. O sistema deve considerar que certos funcionários supervisionam outros, sendo que um funcionário possui apenas um supervisor.\n",
    "3. O sistema deve cadastrar os projetos em que os funcionários trabalham. \n",
    "4. Nenhum funcionário pode ficar sem projeto e nenhum projeto existe sem estar associado a pelo menos um funcionário.\n",
    "5. O sistema deve cadastrar os departamentos da empresa e exibir os projetos controlados por eles.\n",
    "6. O sistema deve armazenar os gerentes responsáveis por cada departamento.\n",
    "\n",
    "<center><img src=\"./Fig-MER.png\" alt=\"Exemplo de um MER\" width=\"60%\" height=\"60%\"/></center>"
   ]
  },
  {
   "cell_type": "markdown",
   "id": "26cdf452-f312-4aba-a07c-b5f4b4aaebdd",
   "metadata": {},
   "source": [
    "## Ferramenta para criar diagramas:\n",
    "\n",
    "<a href=\"https://app.diagrams.net/\">Draw.io</a>\n"
   ]
  },
  {
   "cell_type": "markdown",
   "id": "5350051b-9dd8-4d30-9ec0-be48207ef94e",
   "metadata": {},
   "source": [
    "## Exercícios\n",
    "\n",
    "Enviar os exercícios abaixo para o e-mail do professor da seguinte forma:\n",
    "\n",
    "E-mail: williamtx1987@gmail.com\n",
    "\n",
    "Assunto: 835_firstname_lastname_aula02\n",
    "\n",
    "### Requisitos do cliente\n",
    "\n",
    "Uma escola de idiomas deseja automatizar seus processos.\n",
    "\n",
    "Essa escola oferece cursos, sendo que cada curso pode ser ministrado por apenas um professor.\n",
    "\n",
    "Os alunos podem se inscrever nos cursos e participar de mais de um curso ao mesmo tempo.\n",
    "\n",
    "A escola possui informações dos alunos, como RG, Nome, Endereço, Data de Nascimento, Idade, Gênero e Data da matrícula dos alunos.\n",
    "\n",
    "Os seguintes dados dos professores também devem ser armazenados: RG, Nome, Endereço, Data de Nascimento, Idade, Gênero, Disponibilidade, Habilidades e Data de admissão.\n",
    "\n",
    "Além disso, o sistema deve gerenciar o nome e a descrição do curso.\n",
    "\n",
    "### Q1\n",
    "Quais são as entidades, atributos e os relacionamentos que podemos inferir desse problema?\n",
    "\n",
    "### Q2\n",
    "Criar um diagrama ER que represente a modelagem conceitual deste problema.\n"
   ]
  },
  {
   "cell_type": "markdown",
   "id": "920185ce-efdc-41ac-bfec-d94ddb657a3c",
   "metadata": {},
   "source": [
    "## Símbolos do modelo ER\n",
    "\n",
    "<center><img src=\"./Fig-Symbols.jpg\" alt=\"Principais elementos de um ER\" width=\"30%\" height=\"30%\"></center>"
   ]
  },
  {
   "cell_type": "markdown",
   "id": "433dce55-ec99-4e2f-8794-e2c6d50728c3",
   "metadata": {},
   "source": [
    "## Referências\n",
    "\n",
    "ELMASRI, R.; NAVATHE, S.B. Fundamentals of Database Systems, 7th Edition"
   ]
  }
 ],
 "metadata": {
  "kernelspec": {
   "display_name": "Python 3",
   "language": "python",
   "name": "python3"
  },
  "language_info": {
   "codemirror_mode": {
    "name": "ipython",
    "version": 3
   },
   "file_extension": ".py",
   "mimetype": "text/x-python",
   "name": "python",
   "nbconvert_exporter": "python",
   "pygments_lexer": "ipython3",
   "version": "3.8.2"
  }
 },
 "nbformat": 4,
 "nbformat_minor": 5
}
