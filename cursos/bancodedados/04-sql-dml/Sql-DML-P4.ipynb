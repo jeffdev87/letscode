{
 "cells": [
  {
   "cell_type": "markdown",
   "id": "d28b3422",
   "metadata": {},
   "source": [
    "# Introdução ao SQL"
   ]
  },
  {
   "cell_type": "markdown",
   "id": "2ac5e8db",
   "metadata": {},
   "source": [
    "## Recapitulando\n",
    "\n",
    "Comandos apresentados na aula passada."
   ]
  },
  {
   "cell_type": "markdown",
   "id": "8932c52b-31d9-42a6-8afe-2ff4b7f3b1dd",
   "metadata": {},
   "source": [
    "## Objetivos\n",
    "\n",
    "Na aula de hoje, veremos comandos para manipulação de mais de uma tabela em uma consulta SQL.\n",
    "\n",
    "Ao final desta aula o aluno deverá conhecer:\n",
    "\n",
    "- O conceito de junção e produto cartesiano.\n",
    "- Unir resultados utilizando o UNION.\n",
    "- Sub-consultas e comando WITH."
   ]
  },
  {
   "cell_type": "markdown",
   "id": "b6e88701",
   "metadata": {},
   "source": [
    "# Carregando um novo banco de dados\n",
    "\n",
    "Nessa aula, utilizaremos o script <b>escola.sql</b> localizado na pasta <b>bancodedados\\material\\databases</b> do curso."
   ]
  },
  {
   "cell_type": "markdown",
   "id": "ab36626c",
   "metadata": {},
   "source": [
    "Exemplo de uma uma escola.\n",
    "\n",
    "Tabela turma:\n",
    "\n",
    "<img src=\"./Turma.png\" alt=\"Tabela Turma\" width=\"50%\" height=\"50%\"/>\n",
    "\n",
    "Tabela aluno:\n",
    "\n",
    "<img src=\"./Aluno.png\" alt=\"Tabela Aluno\" width=\"50%\" height=\"50%\"/>\n",
    "\n",
    "Tabela turma_aluno:\n",
    "\n",
    "<img src=\"./TurmaAluno.png\" alt=\"Tabela TurmaAluno\" width=\"30%\" height=\"30%\"/>"
   ]
  },
  {
   "cell_type": "markdown",
   "id": "d16e38de",
   "metadata": {},
   "source": [
    "# SQL: JOINS"
   ]
  },
  {
   "cell_type": "markdown",
   "id": "6270de81",
   "metadata": {},
   "source": [
    "## INNER"
   ]
  },
  {
   "cell_type": "markdown",
   "id": "e64f8004",
   "metadata": {},
   "source": [
    "Retorna somente as tuplas que tenham valores correspondentes em ambas as tabelas.\n",
    "\n",
    "<img src=\"./Inner.png\" width=\"30%\" height=\"30%\"/>"
   ]
  },
  {
   "cell_type": "markdown",
   "id": "f8455878",
   "metadata": {},
   "source": [
    "**Exemplo:** Enriquecer a tabela `turma_aluno` com os dados dos alunos."
   ]
  },
  {
   "cell_type": "markdown",
   "id": "bb8279bc",
   "metadata": {},
   "source": [
    "    SELECT * \n",
    "    FROM turma_aluno\n",
    "    INNER JOIN alunos ON alunos.id_aluno = turma_aluno.id_aluno;"
   ]
  },
  {
   "cell_type": "markdown",
   "id": "5eee323b",
   "metadata": {
    "heading_collapsed": true
   },
   "source": [
    "## LEFT"
   ]
  },
  {
   "cell_type": "markdown",
   "id": "ab45942d",
   "metadata": {
    "hidden": true
   },
   "source": [
    "Retorna **todas as tuplas da tabela** da **esquerda** mais as tuplas correspondentes da tabela da direita.\n",
    "\n",
    "Tuplas da tabela da esquerda que não tenham correspondente na direita, armazenam valores nulos para as colunas vindas da tabela da direita.\n",
    "\n",
    "<img src=\"./Left.png\" width=\"30%\" height=\"30%\"/>"
   ]
  },
  {
   "cell_type": "markdown",
   "id": "6c02c9ed",
   "metadata": {
    "hidden": true
   },
   "source": [
    "**Exemplo:** Enriquecer a tabela `aluno` com os dados da tabela `turma_aluno` via `left_join`. \n",
    "Em quais turmas os alunos estão matriculados?"
   ]
  },
  {
   "cell_type": "markdown",
   "id": "2f73851a",
   "metadata": {
    "hidden": true
   },
   "source": [
    "    SELECT * \n",
    "    FROM alunos\n",
    "    LEFT JOIN turma_aluno on alunos.id_aluno = turma_aluno.id_aluno;"
   ]
  },
  {
   "cell_type": "markdown",
   "id": "980f295c",
   "metadata": {},
   "source": [
    "## RIGHT"
   ]
  },
  {
   "cell_type": "markdown",
   "id": "6563784a",
   "metadata": {},
   "source": [
    "Retorna **todas as tuplas da tabela** da **direita** mais as tuplas correspondentes da tabela da esquerda.\n",
    "\n",
    "Tuplas da tabela da direita que não tenham correspondente na esquerda, armazenam valores nulos para as colunas vindas da tabela da esquerda.\n",
    "\n",
    "<img src=\"./Right.png\" width=\"30%\" height=\"30%\"/>"
   ]
  },
  {
   "cell_type": "markdown",
   "id": "6977e791",
   "metadata": {},
   "source": [
    "**Exemplo:** Enriquecer a tabela `aluno` com os dados da tabela `turma_aluno` via `right_join`. "
   ]
  },
  {
   "cell_type": "markdown",
   "id": "2f8fb99c",
   "metadata": {},
   "source": [
    "    SELECT * \n",
    "    FROM turma_aluno\n",
    "    RIGHT JOIN alunos on alunos.id_aluno = turma_aluno.id_aluno;"
   ]
  },
  {
   "cell_type": "markdown",
   "id": "7835322d",
   "metadata": {},
   "source": [
    "## FULL OUTER"
   ]
  },
  {
   "cell_type": "markdown",
   "id": "33276747",
   "metadata": {},
   "source": [
    "Retorna **todos os dados** das duas tabelas.  \n",
    "\n",
    "<img src=\"./Full.png\" width=\"30%\" height=\"30%\"/>"
   ]
  },
  {
   "cell_type": "markdown",
   "id": "139b898a",
   "metadata": {},
   "source": [
    "**Exemplo:** Encontrar alunos que não estejam matriculados! \n",
    "\n",
    "Juntar as tabelas `aluno` com os dados da tabela `turma_aluno`  via `outer_join`. "
   ]
  },
  {
   "cell_type": "markdown",
   "id": "1d32397b",
   "metadata": {},
   "source": [
    "    SELECT * \n",
    "    FROM turma_aluno\n",
    "    FULL JOIN turmas on turmas.id_turma = turma_aluno.id_turma;"
   ]
  },
  {
   "cell_type": "markdown",
   "id": "919e87b1-ab37-47d5-8e18-10049d448dd0",
   "metadata": {},
   "source": [
    "## SELF JOIN\n",
    "\n",
    "SELF JOIN é um JOIN de uma tabela com ela mesma, podendo ser utilizados os tipos de JOIN's já estudados.\n",
    "\n",
    "Na base de dados `northwind`, faça um relatório que retorne o nome do funcionário e o nome do gerente no formato `colaborador | gestor`.\n",
    "\n",
    "Query:\n",
    "\n",
    "    SELECT em1.first_name as colaborador, em1.reports_to, em2.employee_id, em2.first_name \n",
    "    FROM employees em1 LEFT JOIN employees em2 on em2.employee_id = em1.reports_to;\n",
    "\n",
    "    SELECT em1.first_name as colaborador, em2.first_name gestor\n",
    "    FROM employees em1 LEFT JOIN employees em2 on em2.employee_id = em1.reports_to;"
   ]
  },
  {
   "cell_type": "markdown",
   "id": "0bc1832e-edf2-44c3-86d2-3e88c64d85a3",
   "metadata": {},
   "source": [
    "## CROSS JOIN\n",
    "\n",
    "Retorna todas as combinações entre duas tabelas.\n",
    "\n",
    "Encontre todas as combinações entre alunos e turmas.\n",
    "\n",
    "Query:\n",
    "\n",
    "    SELECT * FROM alunos CROSS JOIN turmas;"
   ]
  },
  {
   "cell_type": "markdown",
   "id": "8c1d4955",
   "metadata": {},
   "source": [
    "# Multiplos Joins e o uso de ALIAS"
   ]
  },
  {
   "cell_type": "markdown",
   "id": "6482fe1a",
   "metadata": {},
   "source": [
    "Faça uma query que retorne uma tabela no sequinte formato:\n",
    "\n",
    "` id_turma_aluno | nome_do_curso | professor | nome_do_aluno | matricula`"
   ]
  },
  {
   "cell_type": "markdown",
   "id": "f3747193",
   "metadata": {},
   "source": [
    "Query:\n",
    "\n",
    "    SELECT \n",
    "    turma_aluno.id_turma_aluno,\n",
    "    turmas.descricao as nome_do_curso,\n",
    "    turmas.professor,\n",
    "    alunos.nome as nome_do_aluno,\n",
    "    alunos.matricula\n",
    "    FROM turma_aluno\n",
    "    INNER JOIN turmas on turmas.id_turma = turma_aluno.id_turma\n",
    "    INNER JOIN alunos on alunos.id_aluno = turma_aluno.id_turma;\n",
    "\n",
    "    SELECT \n",
    "    ta.id_turma_aluno,\n",
    "    tu.descricao as nome_do_curso,\n",
    "    tu.professor,\n",
    "    al.nome as nome_do_aluno,\n",
    "    al.matricula\n",
    "    FROM turma_aluno as ta\n",
    "    INNER JOIN turmas as tu on tu.id_turma = ta.id_turma\n",
    "    INNER JOIN alunos as al on al.id_aluno = ta.id_turma;\n",
    "\n",
    "    SELECT \n",
    "    ta.id_turma_aluno,\n",
    "    tu.descricao as nome_do_curso,\n",
    "    tu.professor,\n",
    "    al.nome as nome_do_aluno,\n",
    "    al.matricula\n",
    "    FROM turma_aluno ta\n",
    "    INNER JOIN turmas tu on tu.id_turma = ta.id_turma\n",
    "    INNER JOIN alunos al on al.id_aluno = ta.id_turma;"
   ]
  },
  {
   "cell_type": "markdown",
   "id": "a58b66c6",
   "metadata": {},
   "source": [
    "# Sumarizando, agregando e ordenando dados de múltiplas tabelas"
   ]
  },
  {
   "cell_type": "markdown",
   "id": "ce39ef97",
   "metadata": {},
   "source": [
    "Faça um relatório que apresente o número de alunos por turma. O resultado deve ser no formato `nome_do_curso | numero_de_alunos`."
   ]
  },
  {
   "cell_type": "markdown",
   "id": "226f83ab",
   "metadata": {},
   "source": [
    "Query:\n",
    "\n",
    "    SELECT \n",
    "    tu.descricao nome_do_curso, \n",
    "    count(ta.id_aluno) numero_de_alunos \n",
    "    FROM turma_aluno as ta\n",
    "    JOIN turmas as tu on tu.id_turma = ta.id_turma\n",
    "    group by tu.descricao;"
   ]
  },
  {
   "cell_type": "markdown",
   "id": "96fc5331",
   "metadata": {},
   "source": [
    "Resultado:\n",
    "\n",
    "<img src=\"./Group1.png\" width=\"30%\" height=\"30%\"/>"
   ]
  },
  {
   "cell_type": "markdown",
   "id": "41dc2841",
   "metadata": {},
   "source": [
    "Quantos alunos um professor atende? O resultado deve ser no formato `nome_do_professor | numero_de_alunos`. Note que o mesmo aluno pode estar em mais de uma turma!"
   ]
  },
  {
   "cell_type": "markdown",
   "id": "0b614dac",
   "metadata": {},
   "source": [
    "Query:\n",
    "\n",
    "    SELECT\n",
    "    tu.professor,\n",
    "    COUNT(DISTINCT(ta.id_aluno))\n",
    "    FROM turma_aluno ta\n",
    "    JOIN turmas tu on tu.id_turma = ta.id_turma\n",
    "    GROUP BY tu.professor;"
   ]
  },
  {
   "cell_type": "markdown",
   "id": "2753cbd1",
   "metadata": {},
   "source": [
    "Resultado:\n",
    "\n",
    "<img src=\"./Group2.png\" width=\"30%\" height=\"30%\"/>"
   ]
  },
  {
   "cell_type": "markdown",
   "id": "f9b44112",
   "metadata": {},
   "source": [
    "# SQL: UNION & UNION ALL"
   ]
  },
  {
   "cell_type": "markdown",
   "id": "b4d49345",
   "metadata": {},
   "source": [
    "Juntam os resultados de duas queries em uma única saída.\n",
    "\n",
    "**UNION:** Remove duplicados (linhas cujos valores em todas as colunas são os mesmos);\n",
    "\n",
    "**UNION ALL:** Não remove duplicados.\n",
    "\n",
    "**Exemplo prático:** Agregar informações de transações de cartões de crédito e débido,que geralmente são armazenadas em tabelas diferentes."
   ]
  },
  {
   "cell_type": "markdown",
   "id": "708cba9a",
   "metadata": {},
   "source": [
    "**Exemplo:** Una os resultados das duas queries acima.\n",
    "\n",
    "Query:\n",
    "\n",
    "    -- UNION \n",
    "    SELECT \n",
    "    tu.descricao nome_do_curso, \n",
    "    count(ta.id_aluno) numero_de_alunos \n",
    "    FROM turma_aluno as ta\n",
    "    JOIN turmas as tu on tu.id_turma = ta.id_turma\n",
    "    group by tu.descricao\n",
    "\n",
    "    UNION\n",
    "\n",
    "    SELECT\n",
    "    tu.professor,\n",
    "    COUNT(DISTINCT(ta.id_aluno))\n",
    "    FROM turma_aluno ta\n",
    "    JOIN turmas tu on tu.id_turma = ta.id_turma\n",
    "    GROUP BY tu.professor;"
   ]
  },
  {
   "cell_type": "markdown",
   "id": "014b0abb",
   "metadata": {},
   "source": [
    "Resultado:\n",
    "\n",
    "<img src=\"./Union1.png\" width=\"30%\" height=\"30%\"/>"
   ]
  },
  {
   "cell_type": "markdown",
   "id": "e90fb1e6",
   "metadata": {
    "ExecuteTime": {
     "end_time": "2021-07-16T20:30:00.891109Z",
     "start_time": "2021-07-16T20:30:00.884109Z"
    }
   },
   "source": [
    "Query:\n",
    "    \n",
    "    -- UNION VS UNION ALL\n",
    "    SELECT 'Patricia'\n",
    "    UNION\n",
    "    SELECT 'Patricia'\n",
    "\n",
    "    SELECT 'Patricia'\n",
    "    UNION ALL\n",
    "    SELECT 'Patricia'"
   ]
  },
  {
   "cell_type": "markdown",
   "id": "49558ad1",
   "metadata": {},
   "source": [
    "Resultado: \n",
    "\n",
    "<img src=\"./Union2.png\" width=\"30%\" height=\"30%\"/>"
   ]
  },
  {
   "cell_type": "markdown",
   "id": "1d29d2c6-9425-45d3-9c34-3a9c95cae86e",
   "metadata": {},
   "source": [
    "# Sub-consultas e comando WITH\n",
    "\n",
    "Os resultados de uma query (consulta) sempre retornam uma tabela. Dessa forma, podemos usar o output de uma query como input da próxima."
   ]
  },
  {
   "cell_type": "markdown",
   "id": "0aabb8ef-527b-480d-9451-0dd6f9d926fe",
   "metadata": {},
   "source": [
    "## Select aninhado.\n",
    "\n",
    "Exemplo 1: Quantos alunos fazem mais de um curso?\n",
    "\n",
    "    SELECT count(*) from (\n",
    "        SELECT id_aluno, count(*)\n",
    "        from turma_aluno\n",
    "        group by id_aluno\n",
    "        having count(*) > 1\n",
    "    ) as tabela_temp;\n",
    "    \n",
    "Exemplo 2:\n",
    "\n",
    "    SELECT id_aluno, count(*)\n",
    "    from turma_aluno\n",
    "    group by id_aluno\n",
    "    having 2*count(*) in (SELECT id_turma from turmas );\n",
    "    \n",
    "## Comando WITH\n",
    "\n",
    "    WITH tabela_temp_with as (\n",
    "        SELECT id_aluno, count(*)\n",
    "        from turma_aluno\n",
    "        group by id_aluno\n",
    "        having count(*) > 1\n",
    "    )\n",
    "    SELECT count(*) from tabela_temp_with;\n",
    "\n",
    "    -- número de alunos que fazem mais de 2 cursos \n",
    "    WITH tabela_temp_with as (\n",
    "        SELECT id_aluno, count(*) cursos\n",
    "        from turma_aluno\n",
    "        group by id_aluno\n",
    "        having count(*) > 1\n",
    "    )\n",
    "    SELECT count(*) from tabela_temp_with\n",
    "    where cursos > 2;"
   ]
  },
  {
   "cell_type": "markdown",
   "id": "1f1d428c",
   "metadata": {},
   "source": [
    "# Execícios"
   ]
  },
  {
   "cell_type": "markdown",
   "id": "bbed28a8",
   "metadata": {},
   "source": [
    "Executar as consultas abaixo em SQL e enviar o arquivo sql para o e-mail do professor da seguinte forma:\n",
    "\n",
    "E-mail: williamtx1987@gmail.com\n",
    "\n",
    "Assunto: 835_firstname_lastname_aula04-p4\n",
    "\n",
    "Escrever um comentário antes de cada comando indicando a qual exercício ele se refere."
   ]
  },
  {
   "cell_type": "markdown",
   "id": "26562c2b",
   "metadata": {},
   "source": [
    "Utilizando o database `estados_cidades` localizado na pasta <b>.\\material\\databases</b> do material do curso:\n",
    "\n",
    "### Q1\n",
    "\n",
    "Faça um relatório que traga o número de cidades por estado (nome por extenso) e ordene:\n",
    "1. Ordem alfabética por nome do estado;\n",
    "1. Do maior para o menor número de municípios.\n",
    "\n",
    "### Q2\n",
    "\n",
    "Faça um relatório que gere uma lista com todas as cidades (nome por extenso) com nomes repetidos.\n",
    "\n",
    "### Q3\n",
    "\n",
    "Faça um relatório que gere uma lista com os municipíos repetidos por estados (nome por extenso): `estado|cidade|numero`.\n",
    "\n",
    "### Q4\n",
    "\n",
    "No banco de dados do `northwind`, obtenha:\n",
    "\n",
    "1. Uma lista dos 10 clientes que realizaram o maior número de pedidos, bem como o número de pedidos de cada, ordenados em ordem decrescente de nº de pedidos. \n",
    "1. Uma tabela com o valor médio das vendas em cada mês, ordenando do mês com mais vendas ao mês com menos vendas.\n",
    "\n",
    "### Q5\n",
    "\n",
    "No banco de dados do `northwind`, obtenha:\n",
    "\n",
    "1. Quantos clientes fizeram mais de 10 pedidos?\n",
    "1. Quantos vendedores tiveram menos de 70 pedidos?\n",
    "1. Qual a média dos valores por pedido de cada vendedor?\n",
    "1. Quantos vendedores tiveram menos de 300 pedidos e média superior a 700 por pedido?"
   ]
  }
 ],
 "metadata": {
  "kernelspec": {
   "display_name": "Python 3",
   "language": "python",
   "name": "python3"
  },
  "language_info": {
   "codemirror_mode": {
    "name": "ipython",
    "version": 3
   },
   "file_extension": ".py",
   "mimetype": "text/x-python",
   "name": "python",
   "nbconvert_exporter": "python",
   "pygments_lexer": "ipython3",
   "version": "3.8.2"
  },
  "toc": {
   "base_numbering": 1,
   "nav_menu": {},
   "number_sections": true,
   "sideBar": true,
   "skip_h1_title": false,
   "title_cell": "Table of Contents",
   "title_sidebar": "Contents",
   "toc_cell": false,
   "toc_position": {},
   "toc_section_display": true,
   "toc_window_display": true
  }
 },
 "nbformat": 4,
 "nbformat_minor": 5
}
